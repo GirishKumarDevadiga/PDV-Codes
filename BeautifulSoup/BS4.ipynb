{
 "cells": [
  {
   "cell_type": "code",
   "execution_count": 88,
   "metadata": {
    "ExecuteTime": {
     "end_time": "2021-02-11T14:14:50.465365Z",
     "start_time": "2021-02-11T14:14:39.861328Z"
    }
   },
   "outputs": [
    {
     "name": "stdout",
     "output_type": "stream",
     "text": [
      "<!DOCTYPE html>\n",
      "<html itemscope=\"\" itemtype=\"http://schema.org/WebPage\" lang=\"en-IN\">\n",
      " <head>\n",
      "  <meta content=\"text/html; charset=utf-8\" http-equiv=\"Content-Type\"/>\n",
      "  <meta content=\"/images/branding/googleg/1x/googleg_standard_color_128dp.png\" itemprop=\"image\"/>\n",
      "  <title>\n",
      "   Google\n",
      "  </title>\n",
      "  <script nonce=\"4KJlOQ/ciyfUUPWQ1J8fPA==\">\n",
      "   (function(){window.google={kEI:'2jslYN_aCcKb9QOUqpfIBw',kEXPI:'0,18167,1341242,954,755,4350,206,3204,10,1590,926,1390,383,246,5,1354,5251,3656,1675,7,1117177,1233,1196484,566,302679,26305,51224,16114,28682,1109,8081,8384,4859,1361,9291,3029,2815,1073,5,845,12841,4020,978,13228,2054,920,873,10622,1141,7512,5874,4517,2778,919,2277,8,2796,1593,1279,2212,532,147,1103,840,517,1522,4258,109,203,1132,4,3,2063,606,2023,1777,520,1704,2472,93,328,1284,2943,5846,3229,1988,855,7,5599,6755,5096,7877,3747,1181,108,3407,908,2,941,2614,2397,6335,1133,3277,3,576,970,44,1,820,7,4618,148,5990,5333,2652,4,1448,80,2304,1236,1145,4082,576,74,1717,127,4,135,2626,460,1555,4067,1035,4599,1426,374,340,3484,1297,1409,344,2658,3906,258,79,56,462,914,31,531,504,616,30,1173,130,20,2531,1810,768,655,1042,3283,2,2214,1397,908,638,2099,2,892,3768,319,2361,55,5431,52,1307,587,11,731,665,2145,3652,2560,479,138,374,1055,908,777,363,17,50,99,2973,6,907,3,184,1140,2217,1,5324,693,60,428,494,1808,487,766,385,661,347,3257,1187,627,38,245,493,216,263,1,3373,1941,617,1260,1,236,358,599,2,59,1015,179,2152,130,81,518,164,32,329,40,31,783,2499,287,77,88,50,251,1011,70,33,191,2,77,261,224,113,719,177,404,979,444,82,125,2,1,1,53,3,137,53,347,653,373,309,230,27,243,917,263,387,712,637,18,488,1279,736,3111,5,5692587,3505,364,35,62,37,8797912,549,333,444,1,2,80,1,900,896,1,9,2,2551,1,748,141,59,736,563,1,4265,1,1,2,1331,3299,248,595,1,2608,155,17,13,19,53,48,44,34,1,2,9,13,1,24,1,23957219,4011263,273',kBL:'XyrI'};google.sn='webhp';google.kHL='en-IN';})();(function(){\n",
      "google.lc=[];google.li=0;google.getEI=function(a){for(var b;a&&(!a.getAttribute||!(b=a.getAttribute(\"eid\")));)a=a.parentNode;return b||google.kEI};google.getLEI=function(a){for(var b=null;a&&(!a.getAttribute||!(b=a.getAttribute(\"leid\")));)a=a.parentNode;return b};google.ml=function(){return null};google.time=function(){return Date.now()};google.log=function(a,b,c,d,f){if(c=google.logUrl(a,b,c,d,f)){a=new Image;var e=google.lc,g=google.li;e[g]=a;a.onerror=a.onload=a.onabort=function(){delete e[g]};a.src=c;google.li=g+1}};google.logUrl=function(a,b,c,d,f){var e=\"\";c||-1!=b.search(\"&ei=\")||(e=\"&ei=\"+google.getEI(d),-1==b.search(\"&lei=\")&&(d=google.getLEI(d))&&(e+=\"&lei=\"+d));d=\"\";!c&&window._cshid&&-1==b.search(\"&cshid=\")&&\"slh\"!=a&&(d=\"&cshid=\"+window._cshid);c=c||\"/\"+(f||\"gen_204\")+\"?atyp=i&ct=\"+a+\"&cad=\"+b+e+\"&zx=\"+Date.now()+d;/^http:/i.test(c)&&\"https:\"==window.location.protocol&&(google.ml(Error(\"a\"),!1,{src:c,glmm:1}),c=\"\");return c};}).call(this);(function(){google.y={};google.x=function(a,b){if(a)var c=a.id;else{do c=Math.random();while(google.y[c])}google.y[c]=[a,b];return!1};google.lm=[];google.plm=function(a){google.lm.push.apply(google.lm,a)};google.lq=[];google.load=function(a,b,c){google.lq.push([[a],b,c])};google.loadAll=function(a,b){google.lq.push([a,b])};google.bx=!1;google.lx=function(){};}).call(this);google.f={};(function(){\n",
      "document.documentElement.addEventListener(\"submit\",function(b){var a;if(a=b.target){var c=a.getAttribute(\"data-submitfalse\");a=\"1\"==c||\"q\"==c&&!a.elements.q.value?!0:!1}else a=!1;a&&(b.preventDefault(),b.stopPropagation())},!0);document.documentElement.addEventListener(\"click\",function(b){var a;a:{for(a=b.target;a&&a!=document.documentElement;a=a.parentElement)if(\"A\"==a.tagName){a=\"1\"==a.getAttribute(\"data-nohref\");break a}a=!1}a&&b.preventDefault()},!0);}).call(this);\n",
      "var a=window.location,b=a.href.indexOf(\"#\");if(0<=b){var c=a.href.substring(b+1);/(^|&)q=/.test(c)&&-1==c.indexOf(\"#\")&&a.replace(\"/search?\"+c.replace(/(^|&)fp=[^&]*/g,\"\")+\"&cad=h\")};\n",
      "  </script>\n",
      "  <style>\n",
      "   @-webkit-keyframes gb__a{0%{opacity:0}50%{opacity:1}}@keyframes gb__a{0%{opacity:0}50%{opacity:1}}.gb_dd{display:inline-block;padding:0 0 0 15px;vertical-align:middle}.gb_dd:first-child,#gbsfw:first-child+.gb_dd{padding-left:0}.gb_Lf{position:relative}.gb_D{display:inline-block;outline:none;vertical-align:middle;-webkit-border-radius:2px;border-radius:2px;-webkit-box-sizing:border-box;box-sizing:border-box;height:30px;width:30px;color:#000;cursor:pointer;text-decoration:none}#gb#gb a.gb_D{color:#000;cursor:pointer;text-decoration:none}.gb_Za{border-color:transparent;border-bottom-color:#fff;border-style:dashed dashed solid;border-width:0 8.5px 8.5px;display:none;position:absolute;left:6.5px;top:37px;z-index:1;height:0;width:0;-webkit-animation:gb__a .2s;animation:gb__a .2s}.gb_0a{border-color:transparent;border-style:dashed dashed solid;border-width:0 8.5px 8.5px;display:none;position:absolute;left:6.5px;z-index:1;height:0;width:0;-webkit-animation:gb__a .2s;animation:gb__a .2s;border-bottom-color:#ccc;border-bottom-color:rgba(0,0,0,.2);top:36px}x:-o-prefocus,div.gb_0a{border-bottom-color:#ccc}.gb_F{background:#fff;border:1px solid #ccc;border-color:rgba(0,0,0,.2);color:#000;-webkit-box-shadow:0 2px 10px rgba(0,0,0,.2);box-shadow:0 2px 10px rgba(0,0,0,.2);display:none;outline:none;overflow:hidden;position:absolute;right:0;top:44px;-webkit-animation:gb__a .2s;animation:gb__a .2s;-webkit-border-radius:2px;border-radius:2px;-webkit-user-select:text}.gb_dd.gb_ma .gb_Za,.gb_dd.gb_ma .gb_0a,.gb_dd.gb_ma .gb_F,.gb_ma.gb_F{display:block}.gb_dd.gb_ma.gb_Mf .gb_Za,.gb_dd.gb_ma.gb_Mf .gb_0a{display:none}.gb_Nf{position:absolute;right:0;top:44px;z-index:-1}.gb_Ka .gb_Za,.gb_Ka .gb_0a,.gb_Ka .gb_F{margin-top:-10px}.gb_C .gb_D{background-position:-132px -38px;opacity:.55}.gb_E .gb_C .gb_D{background-position:-132px -38px}.gb_j .gb_C .gb_D{background-position:-463px -35px;opacity:1}.gb_F.gb_H{min-height:196px;overflow-y:auto;width:320px}.gb_F.gb_H.gb_l{-webkit-border-radius:8px;border-radius:8px;-webkit-box-shadow:0 1px 2px 0 rgba(60,64,67,.30),0 2px 6px 2px rgba(60,64,67,.15);box-shadow:0 1px 2px 0 rgba(60,64,67,.30),0 2px 6px 2px rgba(60,64,67,.15);width:328px}.gb_I{-webkit-transition:height .2s ease-in-out;transition:height .2s ease-in-out}.gb_I.gb_H.gb_l{-webkit-transition:height 1s ease-in-out;transition:height 1s ease-in-out}.gb_J{background:#fff;margin:0;padding:28px;padding-right:27px;text-align:left;white-space:normal;width:265px}.gb_J:not(.gb_l){min-height:100px}.gb_H.gb_l>.gb_J{padding:12px 14px 20px 14px;width:300px}.gb_K{background:#f5f5f5;cursor:pointer;height:40px;overflow:hidden}.gb_L{position:relative}.gb_K{display:block;line-height:40px;text-align:center;width:320px}.gb_L{display:block;line-height:40px;text-align:center}.gb_L.gb_M{line-height:0}.gb_K,.gb_K:visited,.gb_K:active,.gb_L,.gb_L:visited{color:rgba(0,0,0,0.87);text-decoration:none}.gb_L:active{color:rgba(0,0,0,0.87)}#gb a.gb_K,#gb a.gb_K:visited,#gb a.gb_K:active,#gb a.gb_L,#gb a.gb_L:visited{color:rgba(0,0,0,0.87);text-decoration:none}#gb a.gb_L:active{color:rgba(0,0,0,0.87)}.gb_L:not(.gb_l),.gb_J:not(.gb_l){display:none}.gb_A,.gb_J.gb_A:not(.gb_l),.gb_A+.gb_L,.gb_N .gb_L,.gb_N .gb_J{display:block}.gb_l .gb_O,.gb_l .gb_P,.gb_N .gb_O,.gb_N .gb_P{display:inline-block}.gb_L:hover,.gb_L:active,#gb a.gb_L:hover,#gb a.gb_L:active{text-decoration:underline}.gb_L{border-bottom:1px solid #ebebeb;left:28px;width:264px}.gb_l .gb_L{border-bottom:1px solid #e8eaed;left:0;width:328px}.gb_Q{text-align:center}a.gb_O,a.gb_P{background-color:#ffffff;border:1px solid #dadce0;-webkit-border-radius:4px;border-radius:4px;-webkit-box-sizing:border-box;box-sizing:border-box;color:#1a73e8;display:inline-block;font:500 14px/16px Google Sans,Roboto,RobotoDraft,Helvetica,Arial,sans-serif;margin:16px 0 18px 0;max-width:264px;outline:none;overflow:hidden;padding:10px 24px;position:static;text-align:center;text-decoration:none;text-overflow:ellipsis;white-space:nowrap}a.gb_O:visited,a.gb_P:visited{color:#1a73e8}.gb_P:hover,.gb_O:hover{background-color:#f8fbff;border-color:#cce0fc;text-decoration:none}.gb_P:focus,.gb_P:hover:focus,.gb_O:focus,.gb_O:hover:focus{background-color:#f4f8ff;border-color:#c9ddfc}.gb_P:active,.gb_P:active:focus,.gb_O:active,.gb_O:active:focus{background-color:#ecf3fe;border-color:transparent;-webkit-box-shadow:0 1px 2px 0 rgba(60,64,67,0.3),0 2px 6px 2px rgba(60,64,67,0.15);box-shadow:0 1px 2px 0 rgba(60,64,67,0.3),0 2px 6px 2px rgba(60,64,67,0.15);text-decoration:none}.gb_N .gb_K{display:none}.gb_L:last-child{border-bottom-width:0}.gb_o .gb_f{display:initial}.gb_o.gb_R{height:100px;text-align:center}.gb_o.gb_R img{padding:34px 0;height:32px;width:32px}.gb_o .gb_r+img{border:0;margin:8px;height:48px;width:48px}.gb_o div.gb_S{background:#ffa;-webkit-border-radius:5px;border-radius:5px;padding:5px;text-align:center}.gb_l.gb_o.gb_T,.gb_l.gb_o.gb_p,.gb_o.gb_T,.gb_o.gb_p{padding-bottom:0}.gb_l.gb_o.gb_q,.gb_l.gb_o.gb_p,.gb_o.gb_q,.gb_o.gb_p{padding-top:0}.gb_o.gb_p a,.gb_o.gb_q a{top:0}.gb_U .gb_K{margin-top:0;position:static}.gb_V{display:inline-block}.gb_W:hover,#gb#gb .gb_W:hover{text-decoration:underline}.gb_X .gb_J{position:relative}.gb_X .gb_l>.gb_f{top:20px;left:20px}.gb_X .gb_f{position:absolute;top:28px;left:28px}.gb_K.gb_Z{display:none;height:0}.gb_a-a{width:100%;height:100%;border:0;overflow:hidden}.gb_a.gb_b-b-c{position:absolute;top:0;left:0;background-color:#fff}.gb_a.gb_b-b{position:absolute;top:0;left:0;background-color:#fff;border:1px solid #acacac;width:auto;padding:0;z-index:1001;overflow:auto;-webkit-box-shadow:rgba(0,0,0,.2) 0 4px 16px;-webkit-box-shadow:rgba(0,0,0,.2) 0 4px 16px;box-shadow:rgba(0,0,0,.2) 0 4px 16px;-webkit-transition:top .5s ease-in-out;-webkit-transition:top .5s ease-in-out;transition:top .5s ease-in-out}.gb_a-d{position:absolute;z-index:1002}.gb_a.gb_b-b-e{font-size:0;padding:0}.gb_a.gb_b-b-f{height:0;margin:0}.gb_a.gb_b-b-f-g,.gb_a.gb_b-b-h{display:none}.gb_Da{-webkit-background-size:32px 32px;background-size:32px 32px;border:0;-webkit-border-radius:50%;border-radius:50%;display:block;margin:-1px;position:relative;height:32px;width:32px;z-index:0}.gb_Ea{background-color:#e8f0fe;border:1px solid rgba(32,33,36,.08);position:relative}.gb_Ea.gb_Da{height:30px;width:30px}.gb_Ea.gb_Da:hover,.gb_Ea.gb_Da:active{-webkit-box-shadow:none;box-shadow:none}.gb_Fa{background:#fff;border:none;-webkit-border-radius:50%;border-radius:50%;bottom:2px;-webkit-box-shadow:0 1px 2px 0 rgba(60,64,67,.30),0 1px 3px 1px rgba(60,64,67,.15);box-shadow:0 1px 2px 0 rgba(60,64,67,.30),0 1px 3px 1px rgba(60,64,67,.15);height:14px;margin:2px;position:absolute;right:0;width:14px}.gb_Ha{color:#1f71e7;font:400 22px/32px Google Sans,Roboto,RobotoDraft,Helvetica,Arial,sans-serif;text-align:center;text-transform:uppercase}@media (min-resolution:1.25dppx),(-o-min-device-pixel-ratio:5/4),(-webkit-min-device-pixel-ratio:1.25),(min-device-pixel-ratio:1.25){.gb_Da::before{display:inline-block;-webkit-transform:scale(.5);transform:scale(.5);-webkit-transform-origin:left 0;transform-origin:left 0}.gb_Ia::before{display:inline-block;-webkit-transform:scale(.5);transform:scale(.5);-webkit-transform-origin:left 0;transform-origin:left 0}.gb_l .gb_Ia::before{-webkit-transform:scale(0.416666667);transform:scale(0.416666667)}}.gb_Da:hover,.gb_Da:focus{-webkit-box-shadow:0 1px 0 rgba(0,0,0,.15);box-shadow:0 1px 0 rgba(0,0,0,.15)}.gb_Da:active{-webkit-box-shadow:inset 0 2px 0 rgba(0,0,0,.15);box-shadow:inset 0 2px 0 rgba(0,0,0,.15)}.gb_Da:active::after{background:rgba(0,0,0,.1);-webkit-border-radius:50%;border-radius:50%;content:'';display:block;height:100%}.gb_Ja{cursor:pointer;line-height:30px;min-width:30px;opacity:.75;overflow:hidden;vertical-align:middle;text-overflow:ellipsis}.gb_D.gb_Ja{width:auto}.gb_Ja:hover,.gb_Ja:focus{opacity:.85}.gb_Ka .gb_Ja,.gb_Ka .gb_La{line-height:26px}#gb#gb.gb_Ka a.gb_Ja,.gb_Ka .gb_La{font-size:11px;height:auto}.gb_Ma{border-top:4px solid #000;border-left:4px dashed transparent;border-right:4px dashed transparent;display:inline-block;margin-left:6px;opacity:.75;vertical-align:middle}.gb_Na:hover .gb_Ma{opacity:.85}.gb_ja>.gb_Oa{padding:3px 3px 3px 4px}.gb_Pa.gb_Ca{color:#fff}.gb_j .gb_Ja,.gb_j .gb_Ma{opacity:1}#gb#gb.gb_j.gb_j a.gb_Ja,#gb#gb .gb_j.gb_j a.gb_Ja{color:#fff}.gb_j.gb_j .gb_Ma{border-top-color:#fff;opacity:1}.gb_E .gb_Da:hover,.gb_j .gb_Da:hover,.gb_E .gb_Da:focus,.gb_j .gb_Da:focus{-webkit-box-shadow: 0 1px 0 rgba(0,0,0,.15) , 0 1px 2px rgba(0,0,0,.2) ;box-shadow: 0 1px 0 rgba(0,0,0,.15) , 0 1px 2px rgba(0,0,0,.2) }.gb_Qa .gb_Oa,.gb_Ra .gb_Oa{position:absolute;right:1px}.gb_Oa.gb_i,.gb_Sa.gb_i,.gb_Na.gb_i{-webkit-flex:0 1 auto;flex:0 1 auto;-webkit-flex:0 1 main-size;flex:0 1 main-size}.gb_Ta.gb_Ua .gb_Ja{width:30px!important}.gb_Va{height:40px;position:absolute;right:-5px;top:-5px;width:40px}.gb_Wa .gb_Va,.gb_Xa .gb_Va{right:0;top:0}.gb_Ja~.gb_Za,.gb_Ja~.gb_0a{left:auto;right:6.5px}.gb_1a{outline:none;-webkit-transform:translateZ(0);transform:translateZ(0)}.gb_l.gb_1a{-webkit-border-radius:8px;border-radius:8px;margin-left:12px}@media screen and (min-width:361px){.gb_l.gb_1a{width:354px}}@media screen and (max-width:361px){.gb_l.gb_1a{width:calc(100vw -  12px *2)}}.gb_l.gb_1a.gb_2a{max-height:-webkit-calc(100vh - 44px - 100px);max-height:calc(100vh - 44px - 100px)}.gb_l.gb_1a.gb_3a{max-height:-webkit-calc(100vh - 44px - 15px - 100px);max-height:calc(100vh - 44px - 15px - 100px)}.gb_l.gb_1a.gb_4a{background-color:#2d2e30}.gb_5a.gb_6a{color:#5f6368;font:400  12px / 16px  Roboto,RobotoDraft,Helvetica,Arial,sans-serif}.gb_7a.gb_5a.gb_6a{background-color:rgba(138,180,248,0.24);color:#e8eaed}.gb_8a,#gb a.gb_8a.gb_8a,.gb_9a a,#gb .gb_9a.gb_9a a{color:#36c;text-decoration:none}.gb_5a>.gb_8a,#gb .gb_5a>a.gb_8a.gb_8a{color:#0070ff;font:inherit;font-weight:500;outline:0}.gb_7a.gb_5a>.gb_8a,#gb .gb_7a.gb_5a>a.gb_8a.gb_8a{color:#8ab4f8}.gb_8a:active,#gb a.gb_8a.gb_8a:active,.gb_8a:hover,#gb a.gb_8a.gb_8a:hover,.gb_9a a:active,#gb .gb_9a a:active,.gb_9a a:hover,#gb .gb_9a a:hover,#gb .gb_5a>a.gb_8a.gb_8a:focus{text-decoration:underline}.gb_ab{margin:20px;white-space:nowrap}.gb_l>.gb_ab{margin:20px 33px}.gb_bb,.gb_cb{display:inline-block;vertical-align:top}.gb_bb.gb_db,.gb_cb.gb_eb{vertical-align:middle}.gb_l .gb_bb,.gb_l .gb_cb{display:block;vertical-align:top;text-align:center}.gb_db{cursor:default}.gb_l .gb_bb{margin-bottom:10px;position:relative;height:86px;width:86px}.gb_fb{-webkit-border-radius:50%;border-radius:50%;overflow:hidden;-webkit-transform:translateZ(0)}.gb_Ia{border:none;margin-right:6px;vertical-align:top;height:80px;width:80px}.gb_gb{margin-bottom:11px;margin-top:4px}@media screen and (min-width:361px){.gb_l .gb_bb,.gb_gb{margin-left:101px}}@media screen and (max-width:361px){.gb_l .gb_bb,.gb_gb{margin-left:calc(( calc(100vw -  12px *2)  -  33px *2 -  86px )/2)}}.gb_hb.gb_hb{fill:#1a73e8}.gb_4a .gb_hb{fill:#8ab4f8}.gb_l .gb_ib.gb_Ia{position:relative;left:2px;margin-right:10px;top:2px;height:76px;width:76px}.gb_l .gb_jb{background:#fff;bottom:0;position:absolute;right:0;overflow:visible;height:32px;width:32px}.gb_l.gb_4a .gb_jb{background:#2d2e30}.gb_kb{bottom:0;-webkit-box-shadow:0 1px 1px 0 rgba(65,69,73,0.3),0 1px 3px 1px rgba(65,69,73,0.15);box-shadow:0 1px 1px 0 rgba(65,69,73,0.3),0 1px 3px 1px rgba(65,69,73,0.15);margin:0 2.5px 3px;outline:0;position:absolute;right:0;height:26px;width:26px}.gb_kb:hover{background-color:#f8faff}.gb_kb:focus,.gb_kb:hover:focus{background-color:#f4f8ff}.gb_kb:active,.gb_kb:focus:active{background-color:#f4f8ff;-webkit-box-shadow:0 1px 3px 0 rgba(60,64,67,0.3),0 4px 8px 3px rgba(60,64,67,0.15);box-shadow:0 1px 3px 0 rgba(60,64,67,0.3),0 4px 8px 3px rgba(60,64,67,0.15)}.gb_kb:hover>svg.gb_lb,.gb_kb:focus>svg.gb_lb,.gb_kb:active>svg.gb_lb{fill:#1a73e8}.gb_mb{font-weight:bold;margin:-4px 0 1px 0;text-overflow:ellipsis;overflow:hidden}.gb_l .gb_mb{color:#202124;font:500 16px/22px Google Sans,Roboto,RobotoDraft,Helvetica,Arial,sans-serif;letter-spacing:.29px;margin:0;text-align:center;text-overflow:ellipsis;overflow:hidden}.gb_l.gb_4a .gb_mb{color:#e8eaed}.gb_ob{color:#666;text-overflow:ellipsis;overflow:hidden}.gb_l .gb_ob{color:#5f6368;font:400 14px/19px Roboto,RobotoDraft,Helvetica,Arial,sans-serif;letter-spacing:normal;text-align:center;text-overflow:ellipsis;overflow:hidden}.gb_l.gb_4a .gb_ob{color:#e8eaed}.gb_eb>.gb_ob{color:#000;font-weight:bold;margin:-4px 0 1px 0;text-overflow:ellipsis;overflow:hidden}.gb_pb{color:#666;font-style:italic;font-weight:500;margin:4px 0;overflow:hidden}.gb_qb{color:#5f6368;font-family:Roboto,RobotoDraft,Helvetica,Arial,sans-serif;font-size:14px;line-height:19px;margin-top:4px;text-align:center}.gb_4a .gb_qb{color:#9aa0a6}.gb_rb{font-weight:500}.gb_sb.gb_sb{background-color:#ffffff;border:1px solid #dadce0;-webkit-border-radius:100px;border-radius:100px;color:#3c4043;display:inline-block;font:500 14px/16px Google Sans,Roboto,RobotoDraft,Helvetica,Arial,sans-serif;letter-spacing:.25px;margin:16px 0 0;max-width:254px;outline:0;padding:8px 16px;text-align:center;text-decoration:none;text-overflow:ellipsis;overflow:hidden}.gb_4a .gb_sb.gb_sb{background-color:#2d2e30;border:1px solid #5f6368;color:#e8eaed}.gb_sb:hover{background-color:#f7f8f8}.gb_sb:focus,.gb_sb:hover:focus{background-color:#f4f4f4}.gb_sb:active,.gb_sb:focus:active{background-color:#e8e8e9;border-color:transparent;-webkit-box-shadow:0 1px 2px 0 rgba(60,64,67,0.3),0 2px 6px 2px rgba(60,64,67,0.15);box-shadow:0 1px 2px 0 rgba(60,64,67,0.3),0 2px 6px 2px rgba(60,64,67,0.15)}.gb_tb{color:#5f6368;margin:14px 33px;text-align:center;white-space:normal}.gb_4a .gb_tb{color:#e8eaed}.gb_ub.gb_ub{-webkit-border-radius:4px;border-radius:4px;color:#5f6368;display:inline-block;font:400  12px / 16px  Roboto,RobotoDraft,Helvetica,Arial,sans-serif;outline:0;padding:4px 8px;text-decoration:none;text-align:center;white-space:normal}.gb_4a .gb_ub.gb_ub{border:1px solid transparent;color:#e8eaed}.gb_ub:hover{background-color:#f7f8f8}.gb_ub:focus,.gb_ub:hover:focus{background-color:#f4f4f4}.gb_ub:active,.gb_ub:active:focus{background-color:#e8e8e9}.gb_cb .gb_3{background:#4d90fe;border-color:#3079ed;font-weight:bold;margin:10px 0 0 0;color:#fff}#gb .gb_cb a.gb_3.gb_3{color:#fff}.gb_cb .gb_3:hover{background:#357ae8;border-color:#2f5bb7}.gb_vb .gb_Za{border-bottom-color:#fef9db}.gb_6a{background:#fef9db;font-size:11px;padding:10px 20px;white-space:normal}.gb_5a.gb_6a{background:#e8f0fe;-webkit-border-radius:4px;border-radius:4px;margin:4px;padding:4px 8px;text-align:center}.gb_5a.gb_6a>#gbpbt>span{white-space:nowrap;font-weight:500}.gb_6a b,.gb_8a{white-space:nowrap}.gb_wb.gb_wb{background-color:#ffffff;color:#3c4043;display:table;font:500 14px/16px Google Sans,Roboto,RobotoDraft,Helvetica,Arial,sans-serif;letter-spacing:.25px;outline:0;padding:14px 41px;text-align:center;text-decoration:none;width:100%}.gb_4a .gb_wb.gb_wb{background-color:#2d2e30;border:1px solid transparent;color:#e8eaed;width:270px}.gb_wb:hover{background-color:#f7f8f8}.gb_wb:focus,.gb_wb:hover:focus{background-color:#f4f4f4}.gb_wb:active,.gb_wb:focus:active{background-color:#e8e8e9}.gb_xb{border:none;display:table-cell;vertical-align:middle;height:20px;width:20px}.gb_kb>svg.gb_lb,.gb_xb>svg.gb_yb,.gb_zb>svg.gb_Ab{color:#5f6368;fill:currentColor}.gb_4a .gb_zb>svg.gb_Ab{fill:#9aa0a6}.gb_4a .gb_kb{border:1px solid transparent;-webkit-box-shadow:0 1px 3px 0 rgba(0,0,0,0.3),0 4px 8px 3px rgba(0,0,0,0.15);box-shadow:0 1px 3px 0 rgba(0,0,0,0.3),0 4px 8px 3px rgba(0,0,0,0.15)}.gb_4a .gb_kb>svg.gb_lb,.gb_4a .gb_xb>svg.gb_yb{color:#e8eaed;fill:currentColor}.gb_4a .gb_kb:hover>svg.gb_lb,.gb_4a .gb_kb:focus>svg.gb_lb,.gb_4a .gb_kb:focus:hover>svg.gb_lb,.gb_4a .gb_kb:active>svg.gb_lb{fill:#8ab4f8}.gb_4a .gb_kb:hover{background-color:#353639;-webkit-box-shadow:0 2px 3px 0 rgba(0,0,0,0.3),0 6px 10px 4px rgba(0,0,0,0.15);box-shadow:0 2px 3px 0 rgba(0,0,0,0.3),0 6px 10px 4px rgba(0,0,0,0.15)}.gb_4a .gb_kb:focus,.gb_4a .gb_kb:focus:hover{background-color:#353639;border:1px solid #5f6368;-webkit-box-shadow:0 2px 3px 0 rgba(0,0,0,0.3),0 6px 10px 4px rgba(0,0,0,0.15);box-shadow:0 2px 3px 0 rgba(0,0,0,0.3),0 6px 10px 4px rgba(0,0,0,0.15)}.gb_4a .gb_kb:active{background-color:rgba(255,255,255,0.12);-webkit-box-shadow:0 4px 4px 0 rgba(0,0,0,0.3),0 8px 12px 6px rgba(0,0,0,0.15);box-shadow:0 4px 4px 0 rgba(0,0,0,0.3),0 8px 12px 6px rgba(0,0,0,0.15)}.gb_Bb{display:table-cell;padding:0 74px 0 16px;text-align:left;vertical-align:middle;white-space:normal}.gb_Cb{border-bottom:1px solid #e8eaed;border-top:1px solid #e8eaed;padding:0 17px;text-align:center}.gb_4a .gb_Cb{border-bottom:1px solid #5f6368;border-top:1px solid #5f6368}.gb_Db.gb_Db,.gb_Eb.gb_Eb{background-color:#ffffff;border:1px solid #dadce0;-webkit-border-radius:4px;border-radius:4px;display:inline-block;font:500 14px/16px Google Sans,Roboto,RobotoDraft,Helvetica,Arial,sans-serif;letter-spacing:.15px;margin:16px;outline:0;padding:10px 24px;text-align:center;text-decoration:none;white-space:normal}.gb_Db.gb_Db{color:#3c4043}.gb_Eb.gb_Eb{color:#1a73e8}.gb_4a .gb_Eb.gb_Eb,.gb_4a .gb_Db.gb_Db{background-color:#2d2e30;border:1px solid #5f6368;color:#e8eaed}.gb_Db:hover{background-color:#f7f8f8}.gb_Db:focus,.gb_Db:hover:focus{background-color:#f4f4f4}.gb_Db:active,.gb_Db:active:focus{background-color:#e8e8e9;border-color:transparent;-webkit-box-shadow:0 1px 2px 0 rgba(60,64,67,0.3),0 2px 6px 2px rgba(60,64,67,0.15);box-shadow:0 1px 2px 0 rgba(60,64,67,0.3),0 2px 6px 2px rgba(60,64,67,0.15)}.gb_Eb:hover{background-color:#f8fbff;border-color:#cce0fc}.gb_Eb:focus,.gb_Eb:hover:focus{background-color:#f4f8ff;border-color:#c9ddfc}.gb_Eb:active,.gb_Eb:active:focus{background-color:#ecf3fe;border-color:transparent;-webkit-box-shadow:0 1px 2px 0 rgba(60,64,67,0.3),0 2px 6px 2px rgba(60,64,67,0.15);box-shadow:0 1px 2px 0 rgba(60,64,67,0.3),0 2px 6px 2px rgba(60,64,67,0.15)}.gb_Jb{border-top:1px solid #e8eaed}.gb_4a .gb_Jb{border-top:1px solid #5f6368}.gb_l.gb_1a{overflow-y:auto;overflow-x:hidden}.gb_Mb{border-top:1px solid #ccc;border-top-color:rgba(0,0,0,.2);display:block;outline-offset:-2px;padding:10px 20px;position:relative;white-space:nowrap}.gb_Nb>.gb_Mb{border:none;cursor:pointer;height:35px;outline:0;padding:12px 33px 13px}.gb_Ob .gb_Mb:focus .gb_Pb{outline:1px dotted #fff}.gb_Mb:hover{background:#eee}.gb_Nb>.gb_Mb:hover{background-color:#f7f8f8}.gb_Nb>.gb_Mb:focus,.gb_Nb>.gb_Mb:hover:focus{background-color:#f4f4f4}.gb_Nb>.gb_Mb:active,.gb_Nb>.gb_Mb:focus:active{background-color:#e8e8e9}.gb_4a .gb_Qb:hover,.gb_4a .gb_wb:hover,.gb_4a .gb_ub:hover,.gb_4a .gb_Nb>.gb_Mb:hover{background-color:rgba(255,255,255,0.04);border:1px solid transparent}.gb_4a .gb_Db:hover,.gb_4a .gb_sb:hover{background-color:rgba(232,234,237,0.04);border:1px solid #5f6368}.gb_4a .gb_Qb:focus,.gb_4a .gb_Qb:hover:focus,.gb_4a .gb_sb:focus,.gb_4a .gb_sb:hover:focus,.gb_4a .gb_wb:focus,.gb_4a .gb_wb:hover:focus,.gb_4a .gb_Db:focus,.gb_4a .gb_Db:hover:focus,.gb_4a .gb_Nb>.gb_Mb:focus,.gb_4a .gb_Nb>.gb_Mb:hover:focus{background-color:rgba(232,234,237,0.12);border:1px solid #e8eaed}.gb_4a .gb_ub:focus,.gb_4a .gb_ub:hover:focus{background-color:rgba(232,234,237,0.12)}.gb_4a .gb_Qb:active,.gb_4a .gb_Qb:focus:active,.gb_4a .gb_wb:active,.gb_4a .gb_wb:focus:active,.gb_4a .gb_ub:active,.gb_4a .gb_ub:active:focus,.gb_4a .gb_Nb>.gb_Mb:active,.gb_4a .gb_Nb>.gb_Mb:focus:active{background-color:rgba(232,234,237,0.1);border:1px solid transparent}.gb_Rb{overflow-x:hidden}.gb_4a .gb_Nb>.gb_Mb{border:1px solid transparent}.gb_4a .gb_Db:active,.gb_4a .gb_Db:active:focus,.gb_4a .gb_sb:active,.gb_4a .gb_sb:focus:active{background-color:rgba(232,234,237,0.1);border:1px solid #5f6368}.gb_Mb[selected=\"true\"]{overflow:hidden}.gb_Nb>.gb_Mb[selected=\"true\"]{background-color:rgba(60,64,67,0.1)}.gb_4a .gb_Nb>.gb_Mb[selected=\"true\"]{background-color:rgba(255,255,255,0.12)}.gb_Mb[selected=\"true\"]>.gb_Sb{display:block;position:absolute;z-index:2}.gb_Sb::-moz-focus-inner{border:0}.gb_Sb{background-color:transparent;border:none;-webkit-border-radius:4px;border-radius:4px;-webkit-box-sizing:border-box;box-sizing:border-box;color:#fff;cursor:pointer;display:inline-block;font-family:Google Sans,Roboto,RobotoDraft,Helvetica,Arial,sans-serif;font-size:14px;font-weight:500;letter-spacing:.25px;line-height:16px;margin-bottom:1px;min-height:36px;min-width:86px;outline:none;padding:10px 24px;text-align:center;text-decoration:none;top:16px;width:auto}.gb_Tb.gb_Ub{background-color:#1a73e8;color:#fff;margin-left:0;margin-right:12px;margin-top:14px}.gb_4a .gb_Tb.gb_Ub{background-color:#8ab4f8;color:#2d2e30}.gb_Tb.gb_Vb{background-color:#ffffff;border:1px solid #dadce0;color:#3c4043;margin-left:0;margin-right:0;margin-top:11px}.gb_4a .gb_Tb.gb_Vb{background-color:rgba(218,220,224,0.01);border:1px solid #5f6368;color:#e8eaed}.gb_Sb.gb_Vb:hover{background-color:#f7f8f8}.gb_Sb.gb_Vb:focus,.gb_Sb.gb_Vb:hover:focus{background-color:#f4f4f4}.gb_Sb.gb_Vb:active{background-color:#f4f4f4;border:1px solid #5f6368;-webkit-box-shadow:0 1px 2px 0 rgba(60,64,67,0.3),0 1px 3px 1px rgba(60,64,67,0.15);box-shadow:0 1px 2px 0 rgba(60,64,67,0.3),0 1px 3px 1px rgba(60,64,67,0.15)}.gb_Sb.gb_Ub:hover{background-color:#2b7de9;border-color:transparent;-webkit-box-shadow:0 1px 2px 0 rgba(66,133,244,0.3),0 1px 3px 1px rgba(66,133,244,0.15);box-shadow:0 1px 2px 0 rgba(66,133,244,0.3),0 1px 3px 1px rgba(66,133,244,0.15)}.gb_Sb.gb_Ub:focus,.gb_Sb.gb_Ub:hover:focus{background-color:#5094ed;border-color:transparent;-webkit-box-shadow:0 1px 2px 0 rgba(66,133,244,0.3),0 1px 3px 1px rgba(66,133,244,0.15);box-shadow:0 1px 2px 0 rgba(66,133,244,0.3),0 1px 3px 1px rgba(66,133,244,0.15)}.gb_Sb.gb_Ub:active{background-color:#63a0ef;-webkit-box-shadow:0 1px 2px 0 rgba(66,133,244,0.3),0 1px 3px 1px rgba(66,133,244,0.15);box-shadow:0 1px 2px 0 rgba(66,133,244,0.3),0 1px 3px 1px rgba(66,133,244,0.15)}.gb_4a .gb_Sb.gb_Vb:hover{background-color:rgba(232,234,237,0.04)}.gb_4a .gb_Sb.gb_Vb:focus,.gb_4a .gb_Sb.gb_Vb:hover:focus{background-color:rgba(232,234,237,0.12);border:1px solid #e8eaed}.gb_4a .gb_Sb.gb_Vb:active,.gb_4a .gb_Sb.gb_Vb:active:focus{background-color:rgba(232,234,237,0.1);border:1px solid #5f6368;-webkit-box-shadow:0 1px 2px 0 rgba(60,64,67,0.3),0 2px 6px 2px rgba(60,64,67,0.15);box-shadow:0 1px 2px 0 rgba(60,64,67,0.3),0 2px 6px 2px rgba(60,64,67,0.15)}.gb_4a .gb_Sb.gb_Ub:hover{background-color:#93b9f8;-webkit-box-shadow:0 1px 2px 0 rgba(0,0,0,0.3),0 1px 3px 1px rgba(0,0,0,0.15);box-shadow:0 1px 2px 0 rgba(0,0,0,0.3),0 1px 3px 1px rgba(0,0,0,0.15)}.gb_4a .gb_Sb.gb_Ub:focus,.gb_4a .gb_Sb.gb_Ub:hover:focus{background-color:#a5c5f9}.gb_4a .gb_Sb.gb_Ub:active{background-color:#8ab4f8;-webkit-box-shadow:0 1px 2px 0 rgba(0,0,0,0.3),0 2px 6px 2px rgba(0,0,0,0.15);box-shadow:0 1px 2px 0 rgba(0,0,0,0.3),0 2px 6px 2px rgba(0,0,0,0.15)}.gb_Mb[selected=\"true\"]>.gb_Sb:focus{background-color:rgba(0,0,0,.24);-webkit-border-radius:2px;border-radius:2px;outline:0}.gb_Mb[selected=\"true\"]>.gb_Sb:hover,.gb_Mb[selected=\"true\"]>.gb_Sb:focus:hover{background-color:#565656;-webkit-border-radius:2px;border-radius:2px}.gb_Mb[selected=\"true\"]>.gb_Sb:active{-webkit-border-radius:2px;border-radius:2px;background-color:#212121}.gb_Vb{left:0;margin-left:5%}.gb_Ub{margin-right:5%;right:0}.gb_Mb:first-child,.gb_Wb:first-child+.gb_Mb{border-top:0}.gb_4a .gb_Mb:first-child,.gb_4a .gb_Wb:first-child+.gb_Mb{border-top:1px solid transparent}.gb_4a .gb_Mb:first-child:focus:hover,.gb_4a .gb_Wb:first-child+.gb_Mb:focus:hover,.gb_4a .gb_Mb:first-child:focus,.gb_4a .gb_Wb:first-child+.gb_Mb:focus{border-top:1px solid #e8eaed}.gb_4a .gb_Mb:first-child:active,.gb_4a .gb_Wb:first-child+.gb_Mb:active,.gb_4a .gb_Mb:first-child:active:focus,.gb_4a .gb_Wb:first-child+.gb_Mb:active:focus{border-top:1px solid transparent}.gb_Wb{display:none}.gb_Nb>.gb_Mb.gb_Xb{cursor:default;opacity:.38}.gb_Nb>.gb_Mb.gb_Xb:hover,.gb_Nb>.gb_Mb.gb_Xb:focus,.gb_Nb>.gb_Mb.gb_Xb:active{background-color:#fff}.gb_Zb{border:none;vertical-align:top;height:32px;width:32px}.gb_Pb{display:inline-block;margin:0 0 0 12px}@media screen and (min-width:361px){.gb_l .gb_Pb{width:244px}}@media screen and (max-width:361px){.gb_l .gb_Pb{width:calc( calc(100vw -  12px *2)  -  12px  -  32px  -  33px *2)}}.gb_1a.gb_ra .gb_Pb{max-width:222px}.gb_0b .gb_Pb{margin-top:9px}.gb_1b{color:#3c4043;font:500 14px/18px Google Sans,Roboto,RobotoDraft,Helvetica,Arial,sans-serif;letter-spacing:.25px;text-overflow:ellipsis;overflow:hidden}.gb_4a .gb_1b{color:#e8eaed}.gb_2b .gb_1b{font-family:Roboto,RobotoDraft,Helvetica,Arial,sans-serif;font-size:12px;letter-spacing:normal;line-height:16px}.gb_4a .gb_3b{color:#bdc1c6}.gb_3b{color:#5f6368;display:inline-block;font:400  12px / 16px  Roboto,RobotoDraft,Helvetica,Arial,sans-serif;text-overflow:ellipsis;overflow:hidden}@media screen and (min-width:361px){.gb_l .gb_3b{max-width:244px}}@media screen and (max-width:361px){.gb_l .gb_3b{max-width:calc( calc(100vw -  12px *2)  -  12px  -  32px  -  33px *2)}}@media screen and (min-width:361px){.gb_Pb>.gb_3b.gb_4b{max-width:224px}}@media screen and (max-width:361px){.gb_Pb>.gb_3b.gb_4b{max-width:calc( calc( calc(100vw -  12px *2)  -  12px  -  32px  -  33px *2)  -  20px )}}.gb_2b .gb_3b{margin-top:2px}.gb_5b{color:#5d6369;display:block;float:right;font:italic 400 12px/14px Roboto,RobotoDraft,Helvetica,Arial,sans-serif;padding:3px 0 0 20px;text-align:right;visibility:visible}.gb_4a .gb_5b{color:#9aa0a6}.gb_6b{background-color:transparent;display:none;left:0;overflow-wrap:break-word;position:relative;margin-left:44px;white-space:normal;width:100%;word-wrap:break-word;z-index:1}@media screen and (min-width:361px){.gb_6b{max-width:244px}}@media screen and (max-width:361px){.gb_6b{max-width:calc( calc(100vw -  12px *2)  -  33px *2 -  44px )}}.gb_Mb[selected=\"true\"]>.gb_6b{display:block}.gb_Nb>.gb_Mb[selected=\"true\"]{height:auto;min-height:91px}.gb_Sb:hover{background-color:rgba(100,100,100,0.4)}.gb_7b{display:block;padding:10px 20px}.gb_Qb{outline:0;padding:14px 41px;width:280px}.gb_Qb:hover{background-color:#f7f8f8}.gb_Qb:focus,.gb_Qb:hover:focus{background-color:#f4f4f4}.gb_Qb:active,.gb_Qb:focus:active{background-color:#e8e8e9}.gb_8b{display:inline-block;vertical-align:middle;height:20px;width:20px}.gb_e .gb_9b::before{left:-244px;top:0}.gb_ac{color:#427fed;display:inline-block;padding:0 25px 0 10px;vertical-align:middle;white-space:normal}.gb_bc{color:#3c4043;font:500 14px/18px Google Sans,Roboto,RobotoDraft,Helvetica,Arial,sans-serif;padding:0 25px 0 16px;text-align:left}@media screen and (min-width:361px){.gb_bc{width:195px}}@media screen and (max-width:361px){.gb_bc{width:calc( calc( calc(100vw -  12px *2)  -  12px  -  32px  -  33px *2)  -  24px  -  25px )}}.gb_4a .gb_bc{color:#e8eaed}.gb_cc{vertical-align:middle}.gb_dc{-webkit-transform:rotate(180deg);transform:rotate(180deg)}.gb_ec{height:108px;position:absolute;right:-6px;top:-6px;width:108px}.gb_fc{height:88px;position:absolute;right:2px;top:-4px;width:88px}@-webkit-keyframes progressmove{0%{margin-left:-100%}to{margin-left:100%}}@keyframes progressmove{0%{margin-left:-100%}to{margin-left:100%}}.gb_gc.gb_Ba{display:none}.gb_gc{background-color:#d2e3fc;height:3px;overflow:hidden}.gb_4a .gb_gc{background-color:rgba(138,180,248,0.24)}.gb_hc{background-color:#1a73e8;height:100%;width:50%;-webkit-animation:progressmove 1.5s linear 0s infinite;animation:progressmove 1.5s linear 0s infinite}.gb_4a>.gb_hc{background-color:#8ab4f8}.gb_Ab,.gb_ic{height:20px;position:absolute;top:-2px;width:20px}.gb_Mb .gb_zb{display:inline-block;height:16px;position:relative;width:20px}.gb_Ab{display:inline-block}.gb_Mb[selected=\"true\"] .gb_Ab{-webkit-transform:rotate(180deg);transform:rotate(180deg)}.gb_zb{display:none}.gb_jc{margin:0 9px}.gb_Ea.gb_bb{height:80px;width:80px}.gb_kc.gb_Ea{height:32px;width:32px}.gb_Ha.gb_Ia{font:400 50px/ 80px  Google Sans,Roboto,RobotoDraft,Helvetica,Arial,sans-serif}.gb_Ha.gb_Zb{font:400 22px/34px Google Sans,Roboto,RobotoDraft,Helvetica,Arial,sans-serif}.gb_lc{padding-bottom:2px;position:relative}.gb_kc>.gb_Fa{bottom:-2px;left:calc(18px +  2px )}.gb_lc>.gb_Fa{bottom:11px;height:24px;left:calc(191px -  33px );width:24px}.gb_mc{color:#5f6368;font-family:Roboto,RobotoDraft,Helvetica,Arial,sans-serif;font-size:14px;line-height:19px;margin-top:4px;text-align:center}.gb_kc{display:inline-block;position:relative}.gb_Pb.gb_nc{margin-left:calc( 12px  -  2px  + 1px)}.gb_1a.gb_l::-webkit-scrollbar{width:16px}.gb_H.gb_l::-webkit-scrollbar{width:16px}.gb_1a.gb_l::-webkit-scrollbar-thumb{background:#dadce0;background-clip:padding-box;border:4px solid transparent;-webkit-border-radius:8px;border-radius:8px;-webkit-box-shadow:none;box-shadow:none}.gb_H.gb_l::-webkit-scrollbar-thumb{background:#dadce0;background-clip:padding-box;border:4px solid transparent;-webkit-border-radius:8px;border-radius:8px;-webkit-box-shadow:none;box-shadow:none;min-height:50px}.gb_4a.gb_l::-webkit-scrollbar-thumb{background-color:#5f6368}.gb_H.gb_l::-webkit-scrollbar-track{background:none;border:none}.gb_1a.gb_l::-webkit-scrollbar-track{background:none;border:none}.gb_H.gb_l::-webkit-scrollbar-track:hover{background:none;border:none}.gb_1a.gb_l::-webkit-scrollbar-track:hover{background:none;border:none}.gb_Ba{display:none!important}.gb_Ca{visibility:hidden}#gb#gb a.gb_f,#gb#gb a.gb_g,#gb#gb span.gb_g{color:rgba(0,0,0,0.87);text-decoration:none}#gb#gb a.gb_g:focus{outline-offset:2px}#gb#gb a.gb_g:hover{text-decoration:underline}.gb_h.gb_i{display:none;padding-left:15px;vertical-align:middle}.gb_h.gb_i:first-child{padding-left:0}.gb_h .gb_g{display:inline-block;line-height:24px;vertical-align:middle}#gb#gb.gb_j a.gb_g,#gb#gb.gb_j span.gb_g,#gb#gb .gb_j a.gb_g,#gb#gb .gb_j span.gb_g{color:#fff}#gb#gb.gb_j span.gb_g,#gb#gb .gb_j span.gb_g{opacity:.7}a.gb_0{border:none;color:#4285f4;cursor:default;font-weight:bold;outline:none;position:relative;text-align:center;text-decoration:none;text-transform:uppercase;white-space:nowrap;-webkit-user-select:none}a.gb_0:hover:after,a.gb_0:focus:after{background-color:rgba(0,0,0,.12);content:'';height:100%;left:0;position:absolute;top:0;width:100%}a.gb_0:hover,a.gb_0:focus{text-decoration:none}a.gb_0:active{background-color:rgba(153,153,153,.4);text-decoration:none}a.gb_1{background-color:#4285f4;color:#fff}a.gb_1:active{background-color:#0043b2}.gb_2{-webkit-box-shadow:0 1px 1px rgba(0,0,0,.16);box-shadow:0 1px 1px rgba(0,0,0,.16)}.gb_0,.gb_1,.gb_3,.gb_4{display:inline-block;line-height:28px;padding:0 12px;-webkit-border-radius:2px;border-radius:2px}.gb_3{background:#f8f8f8;border:1px solid #c6c6c6}.gb_4{background:#f8f8f8}.gb_3,#gb a.gb_3.gb_3,.gb_4{color:#666;cursor:default;text-decoration:none}#gb a.gb_4.gb_4{cursor:default;text-decoration:none}.gb_4{border:1px solid #4285f4;font-weight:bold;outline:none;background:#4285f4;background:-webkit-linear-gradient(top,#4387fd,#4683ea);background:linear-gradient(top,#4387fd,#4683ea);filter:progid:DXImageTransform.Microsoft.gradient(startColorstr=#4387fd,endColorstr=#4683ea,GradientType=0)}#gb a.gb_4.gb_4{color:#fff}.gb_4:hover{-webkit-box-shadow:0 1px 0 rgba(0,0,0,.15);box-shadow:0 1px 0 rgba(0,0,0,.15)}.gb_4:active{-webkit-box-shadow:inset 0 2px 0 rgba(0,0,0,.15);box-shadow:inset 0 2px 0 rgba(0,0,0,.15);background:#3c78dc;background:-webkit-linear-gradient(top,#3c7ae4,#3f76d3);background:linear-gradient(top,#3c7ae4,#3f76d3);filter:progid:DXImageTransform.Microsoft.gradient(startColorstr=#3c7ae4,endColorstr=#3f76d3,GradientType=0)}.gb_oc{min-width:127px;overflow:hidden;position:relative;z-index:987}.gb_pc{position:absolute;padding:0 20px 0 15px}.gb_qc{display:inline-block;line-height:0;outline:none;vertical-align:middle}.gb_rc .gb_qc{position:relative;top:2px}.gb_qc .gb_sc,.gb_pa{display:block}.gb_tc{border:none;display:block;visibility:hidden}.gb_qc .gb_sc{background-position:0 -35px;height:33px;width:92px}img.gb_uc{border:0;vertical-align:middle}.gb_j .gb_qc .gb_sc{background-position:-296px 0}.gb_E .gb_qc .gb_sc{background-position:-97px 0;opacity:.54}.gb_Of{display:inline-block;line-height:normal;position:relative;z-index:987}.gb_sg{color:#000;font:13px/27px Arial,sans-serif;left:0;min-width:1002px;position:absolute;top:0;-webkit-user-select:none;width:100%}.gb_Sf{font:13px/27px Arial,sans-serif;position:relative;height:60px;width:100%}.gb_Ka .gb_Sf{height:28px}#gba{height:60px}#gba.gb_Ka{height:28px}#gba.gb_tg{height:90px}#gba.gb_ug{height:132px}#gba.gb_tg.gb_Ka{height:58px}.gb_Sf>.gb_i{height:60px;line-height:58px;vertical-align:middle}.gb_Ka .gb_Sf>.gb_i{height:28px;line-height:26px}.gb_Sf::before{background:#e5e5e5;bottom:0;content:'';display:none;height:1px;left:0;position:absolute;right:0}.gb_Sf{background:#f1f1f1}.gb_vg .gb_Sf{background:#fff}.gb_vg .gb_Sf::before,.gb_Ka .gb_Sf::before{display:none}.gb_E .gb_Sf,.gb_j .gb_Sf,.gb_Ka .gb_Sf{background:transparent}.gb_E .gb_Sf::before{background:#e1e1e1;background:rgba(0,0,0,.12)}.gb_j .gb_Sf::before{background:#333;background:rgba(255,255,255,.2)}.gb_i{display:inline-block;-webkit-flex:0 0 auto;flex:0 0 auto;-webkit-flex:0 0 main-size;flex:0 0 main-size}.gb_i.gb_wg{float:right;-webkit-order:1;order:1}.gb_xg{white-space:nowrap}.gb_Qf .gb_xg{display:-webkit-flex;display:flex}.gb_xg,.gb_i{margin-left:0!important;margin-right:0!important}.gb_sc{background-image:url('//ssl.gstatic.com/gb/images/i1_1967ca6a.png');-webkit-background-size:528px 68px;background-size:528px 68px}@media (min-resolution:1.25dppx),(-webkit-min-device-pixel-ratio:1.25),(min-device-pixel-ratio:1.25){.gb_sc{background-image:url('//ssl.gstatic.com/gb/images/i2_2ec824b0.png')}}.gb_Ta{min-width:165px;padding-left:30px;padding-right:30px;position:relative;text-align:right;z-index:986;-webkit-align-items:center;align-items:center;-webkit-justify-content:flex-end;justify-content:flex-end;-webkit-user-select:none}.gb_Ka .gb_Ta{min-width:0}.gb_Ta.gb_i{-webkit-flex:1 1 auto;flex:1 1 auto;-webkit-flex:1 1 main-size;flex:1 1 main-size}.gb_Ue{line-height:normal;position:relative;text-align:left}.gb_Ue.gb_i,.gb_ae.gb_i,.gb_La.gb_i{-webkit-flex:0 1 auto;flex:0 1 auto;-webkit-flex:0 1 main-size;flex:0 1 main-size}.gb_ig,.gb_jg{display:inline-block;padding:0 0 0 15px;position:relative;vertical-align:middle}.gb_ae{line-height:normal;padding-right:15px}.gb_Ta .gb_ae{padding-right:0}.gb_La{color:#404040;line-height:30px;min-width:30px;overflow:hidden;vertical-align:middle;text-overflow:ellipsis}#gb.gb_Ka.gb_Ka .gb_be,#gb.gb_Ka.gb_Ka .gb_Ue>.gb_jg .gb_dg{background:none;border:none;color:#36c;cursor:pointer;filter:none;font-size:11px;line-height:26px;padding:0;-webkit-box-shadow:none;box-shadow:none}#gb.gb_Ka.gb_j .gb_be,#gb.gb_Ka.gb_j .gb_Ue>.gb_jg .gb_dg{color:#fff}.gb_Ka .gb_be{text-transform:uppercase}.gb_Ta.gb_Rf{padding-left:0;padding-right:29px}.gb_Ta.gb_kg{max-width:400px}.gb_lg{background-clip:content-box;background-origin:content-box;opacity:.27;padding:22px;height:16px;width:16px}.gb_lg.gb_i{display:none}.gb_lg:hover,.gb_lg:focus{opacity:.55}.gb_mg{background-position:-219px -25px}.gb_ng{background-position:-194px 0;padding-left:30px;padding-right:14px;position:absolute;right:0;top:0;z-index:990}.gb_Qa:not(.gb_Ra) .gb_ng,.gb_Rf .gb_mg{display:inline-block}.gb_Qa .gb_mg{padding-left:30px;padding-right:0;width:0}.gb_Qa:not(.gb_Ra) .gb_og{display:none}.gb_Ta.gb_i.gb_Rf,.gb_Rf:not(.gb_Ra) .gb_Ue{-webkit-flex:0 0 auto;flex:0 0 auto;-webkit-flex:0 0 main-size;flex:0 0 main-size}.gb_lg,.gb_Rf .gb_ae,.gb_Ra .gb_Ue{overflow:hidden}.gb_Qa .gb_ae{padding-right:0}.gb_Rf .gb_Ue{padding:1px 1px 1px 0}.gb_Qa .gb_Ue{width:75px}.gb_Ta.gb_pg,.gb_Ta.gb_pg .gb_mg,.gb_Ta.gb_pg .gb_mg::before,.gb_Ta.gb_pg .gb_ae,.gb_Ta.gb_pg .gb_Ue{-webkit-transition:width .5s ease-in-out,min-width .5s ease-in-out,max-width .5s ease-in-out,padding .5s ease-in-out,left .5s ease-in-out;transition:width .5s ease-in-out,min-width .5s ease-in-out,max-width .5s ease-in-out,padding .5s ease-in-out,left .5s ease-in-out}.gb_Qf .gb_Ta{min-width:0}.gb_Ta.gb_Ua,.gb_Ta.gb_Ua .gb_Ue,.gb_Ta.gb_qg,.gb_Ta.gb_qg .gb_Ue{min-width:0!important}.gb_Ta.gb_Ua,.gb_Ta.gb_Ua .gb_i{-webkit-flex:0 0 auto!important;-webkit-box-flex:0 0 auto!important;-webkit-flex:0 0 auto!important;flex:0 0 auto!important}.gb_Ta.gb_Ua .gb_La{width:30px!important}.gb_rg{margin-right:32px}.gb_Ca{display:none}.gb_Sf ::-webkit-scrollbar{height:15px;width:15px}.gb_Sf ::-webkit-scrollbar-button{height:0;width:0}.gb_Sf ::-webkit-scrollbar-thumb{background-clip:padding-box;background-color:rgba(0,0,0,.3);border:5px solid transparent;-webkit-border-radius:10px;border-radius:10px;min-height:20px;min-width:20px;height:5px;width:5px}.gb_Sf ::-webkit-scrollbar-thumb:hover,.gb_Sf ::-webkit-scrollbar-thumb:active{background-color:rgba(0,0,0,.4)}#gb.gb_yg{min-width:980px}#gb.gb_yg .gb_Pf{min-width:0;position:static;width:0}.gb_2c{display:none}.gb_yg .gb_Sf{background:transparent;border-bottom-color:transparent}.gb_yg .gb_Sf::before{display:none}.gb_yg.gb_yg .gb_h{display:inline-block}.gb_yg.gb_Ta .gb_ae{padding-right:15px}.gb_yg.gb_Qf #gbqf{display:block}.gb_yg #gbq{height:0;position:absolute}.gb_yg.gb_Ta{z-index:987}sentinel{}#gbq .gbgt-hvr,#gbq .gbgt:focus{background-color:transparent;background-image:none}.gbqfh#gbq1{display:none}.gbxx{display:none !important}#gbq{line-height:normal;position:relative;top:0;white-space:nowrap}#gbq{left:0;width:100%}[dir=rtl] #gbq{right:0}#gbq2{top:0;z-index:986}#gbq4{display:inline-block;max-height:29px;overflow:hidden;position:relative}.gbqfh#gbq2{z-index:985}.gbqfh#gbq2{margin:0;margin-left:0 !important;padding-top:0;position:relative;top:310px}.gbqfh #gbqf{margin:auto;min-width:534px;padding:0 !important}.gbqfh #gbqfbw{display:none}.gbqfh #gbqfbwa{display:block}.gbqfh #gbqf{max-width:572px;min-width:572px}.gbqfh .gbqfqw{border-right-width:1px}\n",
      "  </style>\n",
      "  <style>\n",
      "   body,td,a,p,.h{font-family:arial,sans-serif}body{margin:0;overflow-y:scroll}#gog{padding:3px 8px 0}td{line-height:.8em}.gac_m td{line-height:17px}form{margin-bottom:20px}.h{color:#1558d6}em{font-weight:bold;font-style:normal}.lst{height:25px;width:496px}.gsfi,.lst{font:18px arial,sans-serif}.gsfs{font:17px arial,sans-serif}.ds{display:-webkit-inline-box;display:inline-block;margin:3px 0 4px;margin-left:4px}input{font-family:inherit}body{background:#fff;color:#000}a{color:#4b11a8;text-decoration:none}a:hover,a:active{text-decoration:underline}.fl a{color:#1558d6}a:visited{color:#4b11a8}.sblc{padding-top:5px}.sblc a{display:block;margin:2px 0;margin-left:13px;font-size:11px}.lsbb{background:#f8f9fa;border:solid 1px;border-color:#dadce0 #70757a #70757a #dadce0;height:30px}.lsbb{display:block}#WqQANb a{display:inline-block;margin:0 12px}.lsb{background:url(/images/nav_logo229.png) 0 -261px repeat-x;border:none;color:#000;cursor:pointer;height:30px;margin:0;outline:0;font:15px arial,sans-serif;vertical-align:top}.lsb:active{background:#dadce0}.lst:focus{outline:none}\n",
      "  </style>\n",
      "  <script nonce=\"4KJlOQ/ciyfUUPWQ1J8fPA==\">\n",
      "   (window['gbar']=window['gbar']||{})._CONFIG=[[[0,\"www.gstatic.com\",\"og.og2.en_US.DuOxEB4tkZo.O\",\"co.in\",\"en\",\"1\",0,[3,2,\".40.\",\"\",\"1300102,3700265,3700831\",\"356173142\",\"0\"],\"40400\",\"2jslYLfnCo6v9QP49pn4BQ\",0,0,\"og.og2.rTH7uqaysaA.L.W.O\",\"AA2YrTtmqMWt0nh_sK-3F4q4OMNqo1iMRQ\",\"AA2YrTuspQ1zs3MyJ46a-vtE1jAJb21LNA\",\"\",2,0,200,\"IND\",null,null,\"1\",\"1\",0],null,0,[\"m;/_/scs/abc-static/_/js/k=gapi.gapi.en.L7mys-cL6BM.O/d=1/ct=zgms/rs=AHpOoo8QoBZWYtEZfsgOGqh_X1WKvJV7Wg/m=__features__\",\"https://apis.google.com\",\"\",\"\",\"\",\"\",null,1,\"es_plusone_gc_20210105.0_p0\",\"en\",null,0],[\"1\",\"gci_91f30755d6a6b787dcc2a4062e6e9824.js\",\"googleapis.client:gapi.iframes\",\"\",\"en\"],null,null,null,[0.009999999776482582,\"co.in\",\"1\",[[\"19019113\",\"19019112\",\"7\",30,5,2592000,\"\",\"AN2NJM5NTS7PiAtc7eqC0G45iKkxwXL6gw:1613052890180\",0,1,2],\"n\",\"\",[\"\",\"\",\"\"],1,5184000,null,null,\"https://www.google.com/url?q=https://www.google.com/chrome/%3Fbrand%3DRLNS%26utm_source%3Dgoogle.com%26utm_medium%3Dmaterial-callout%26utm_campaign%3Dsearch%26utm_content%3Dreinstall-to-stay-secure%26utm_keyword%3DRLNS\\u0026source=hpp\\u0026id=19019113\\u0026ct=7\\u0026usg=AFQjCNEr8BVI6ordo8O9JVYtc7A9SpG4LQ\",null,null,null,null,null,0,null,0,0,1,0,0,0,null,null,0,0],null,null,null,0,null,null,[\"5061451\",\"google\\\\.(com|ru|ca|by|kz|com\\\\.mx|com\\\\.tr)$\",1]],null,[0,0,0,null,\"\",\"\",\"\",\"\"],[1,0.001000000047497451,1],[1,0.1000000014901161,2,1],null,[1],[0,0,[\"lg\"],0,[\"lat\"]],[[\"\",\"\",\"\",\"\",\"\",\"\",\"\",\"\",\"\",\"\",\"\",\"\",\"\",\"\",\"\",\"def\",\"\",\"\",\"\",\"\",\"\",\"\",\"\",\"aswid\"],[\"\"]],null,null,null,[30,127,1,0,60],null,null,null,null,null,[1,0],null,[1,1,null,40400,1,\"IND\",\"en\",\"356173142.0\",1,0.009999999776482582,0,0,null,null,0,0,\"3700831\",null,null,null,\"2jslYLfnCo6v9QP49pn4BQ\",1,0],null,[\"\"],[[[null,null,[null,null,null,\"https://ogs.google.com/widget/app/so\"],0,448,328,40,27,1,0,0,63,64,8000,\"https://www.google.co.in/intl/en/about/products?tab=wh\",67,1,69,null,1,70,\"Can't seem to load the app launcher right now. Try again or go to the %1$sGoogle Products%2$s page.\",3,1,0,74,0]],1,[null,null,null,\"https://www.gstatic.com/og/_/js/k=og.qtm.en_US.0F8qWRnDw-8.O/rt=j/m=qdsh/d=1/ed=1/rs=AA2YrTvA_4sPZk1TCFyvPX2yPaly-EFrjA\"],\"1\",\"1\",0,0,null,\"en\",0]]];(window['gbar']=window['gbar']||{})._LDD=[\"in\",\"fot\"];this.gbar_=this.gbar_||{};(function(_){var window=this;\n",
      "try{\n",
      "/*\n",
      "\n",
      " Copyright The Closure Library Authors.\n",
      " SPDX-License-Identifier: Apache-2.0\n",
      "*/\n",
      "var ea,fa,ha,ia,ja,ka,ma,na,ra,sa,Fa,Ga,Ha;_.aa=function(a){if(Error.captureStackTrace)Error.captureStackTrace(this,_.aa);else{var b=Error().stack;b&&(this.stack=b)}a&&(this.message=String(a))};_.ba=function(a){var b=a.length;if(0<b){for(var c=Array(b),d=0;d<b;d++)c[d]=a[d];return c}return[]};_.n=function(a,b){return null!=a?!!a:!!b};_.p=function(a,b){void 0==b&&(b=\"\");return null!=a?a:b};_.da=function(a,b){void 0==b&&(b=0);return null!=a?a:b};\n",
      "ea=function(a){var b=0;return function(){return b<a.length?{done:!1,value:a[b++]}:{done:!0}}};fa=\"function\"==typeof Object.defineProperties?Object.defineProperty:function(a,b,c){if(a==Array.prototype||a==Object.prototype)return a;a[b]=c.value;return a};ha=function(a){a=[\"object\"==typeof globalThis&&globalThis,a,\"object\"==typeof window&&window,\"object\"==typeof self&&self,\"object\"==typeof global&&global];for(var b=0;b<a.length;++b){var c=a[b];if(c&&c.Math==Math)return c}throw Error(\"a\");};ia=ha(this);\n",
      "ja=function(a,b){if(b)a:{var c=ia;a=a.split(\".\");for(var d=0;d<a.length-1;d++){var e=a[d];if(!(e in c))break a;c=c[e]}a=a[a.length-1];d=c[a];b=b(d);b!=d&&null!=b&&fa(c,a,{configurable:!0,writable:!0,value:b})}};\n",
      "ja(\"Symbol\",function(a){if(a)return a;var b=function(e,f){this.j=e;fa(this,\"description\",{configurable:!0,writable:!0,value:f})};b.prototype.toString=function(){return this.j};var c=0,d=function(e){if(this instanceof d)throw new TypeError(\"b\");return new b(\"jscomp_symbol_\"+(e||\"\")+\"_\"+c++,e)};return d});\n",
      "ja(\"Symbol.iterator\",function(a){if(a)return a;a=Symbol(\"c\");for(var b=\"Array Int8Array Uint8Array Uint8ClampedArray Int16Array Uint16Array Int32Array Uint32Array Float32Array Float64Array\".split(\" \"),c=0;c<b.length;c++){var d=ia[b[c]];\"function\"===typeof d&&\"function\"!=typeof d.prototype[a]&&fa(d.prototype,a,{configurable:!0,writable:!0,value:function(){return ka(ea(this))}})}return a});ka=function(a){a={next:a};a[Symbol.iterator]=function(){return this};return a};\n",
      "_.la=function(a){var b=\"undefined\"!=typeof Symbol&&Symbol.iterator&&a[Symbol.iterator];return b?b.call(a):{next:ea(a)}};ma=\"function\"==typeof Object.create?Object.create:function(a){var b=function(){};b.prototype=a;return new b};if(\"function\"==typeof Object.setPrototypeOf)na=Object.setPrototypeOf;else{var oa;a:{var pa={a:!0},qa={};try{qa.__proto__=pa;oa=qa.a;break a}catch(a){}oa=!1}na=oa?function(a,b){a.__proto__=b;if(a.__proto__!==b)throw new TypeError(\"d`\"+a);return a}:null}ra=na;\n",
      "_.r=function(a,b){a.prototype=ma(b.prototype);a.prototype.constructor=a;if(ra)ra(a,b);else for(var c in b)if(\"prototype\"!=c)if(Object.defineProperties){var d=Object.getOwnPropertyDescriptor(b,c);d&&Object.defineProperty(a,c,d)}else a[c]=b[c];a.U=b.prototype};sa=function(a,b){a instanceof String&&(a+=\"\");var c=0,d=!1,e={next:function(){if(!d&&c<a.length){var f=c++;return{value:b(f,a[f]),done:!1}}d=!0;return{done:!0,value:void 0}}};e[Symbol.iterator]=function(){return e};return e};\n",
      "ja(\"Array.prototype.keys\",function(a){return a?a:function(){return sa(this,function(b){return b})}});ja(\"Array.prototype.values\",function(a){return a?a:function(){return sa(this,function(b,c){return c})}});ja(\"Array.prototype.entries\",function(a){return a?a:function(){return sa(this,function(b,c){return[b,c]})}});var ta=function(a,b){return Object.prototype.hasOwnProperty.call(a,b)};\n",
      "ja(\"WeakMap\",function(a){function b(){}function c(l){var m=typeof l;return\"object\"===m&&null!==l||\"function\"===m}function d(l){if(!ta(l,f)){var m=new b;fa(l,f,{value:m})}}function e(l){var m=Object[l];m&&(Object[l]=function(q){if(q instanceof b)return q;Object.isExtensible(q)&&d(q);return m(q)})}if(function(){if(!a||!Object.seal)return!1;try{var l=Object.seal({}),m=Object.seal({}),q=new a([[l,2],[m,3]]);if(2!=q.get(l)||3!=q.get(m))return!1;q.delete(l);q.set(m,4);return!q.has(l)&&4==q.get(m)}catch(t){return!1}}())return a;\n",
      "var f=\"$jscomp_hidden_\"+Math.random();e(\"freeze\");e(\"preventExtensions\");e(\"seal\");var g=0,k=function(l){this.fa=(g+=Math.random()+1).toString();if(l){l=_.la(l);for(var m;!(m=l.next()).done;)m=m.value,this.set(m[0],m[1])}};k.prototype.set=function(l,m){if(!c(l))throw Error(\"g\");d(l);if(!ta(l,f))throw Error(\"h`\"+l);l[f][this.fa]=m;return this};k.prototype.get=function(l){return c(l)&&ta(l,f)?l[f][this.fa]:void 0};k.prototype.has=function(l){return c(l)&&ta(l,f)&&ta(l[f],this.fa)};k.prototype.delete=\n",
      "function(l){return c(l)&&ta(l,f)&&ta(l[f],this.fa)?delete l[f][this.fa]:!1};return k});var ua=\"function\"==typeof Object.assign?Object.assign:function(a,b){for(var c=1;c<arguments.length;c++){var d=arguments[c];if(d)for(var e in d)ta(d,e)&&(a[e]=d[e])}return a};ja(\"Object.assign\",function(a){return a||ua});\n",
      "ja(\"Array.from\",function(a){return a?a:function(b,c,d){c=null!=c?c:function(k){return k};var e=[],f=\"undefined\"!=typeof Symbol&&Symbol.iterator&&b[Symbol.iterator];if(\"function\"==typeof f){b=f.call(b);for(var g=0;!(f=b.next()).done;)e.push(c.call(d,f.value,g++))}else for(f=b.length,g=0;g<f;g++)e.push(c.call(d,b[g],g));return e}});\n",
      "ja(\"Map\",function(a){if(function(){if(!a||\"function\"!=typeof a||!a.prototype.entries||\"function\"!=typeof Object.seal)return!1;try{var k=Object.seal({x:4}),l=new a(_.la([[k,\"s\"]]));if(\"s\"!=l.get(k)||1!=l.size||l.get({x:4})||l.set({x:4},\"t\")!=l||2!=l.size)return!1;var m=l.entries(),q=m.next();if(q.done||q.value[0]!=k||\"s\"!=q.value[1])return!1;q=m.next();return q.done||4!=q.value[0].x||\"t\"!=q.value[1]||!m.next().done?!1:!0}catch(t){return!1}}())return a;var b=new WeakMap,c=function(k){this.o={};this.j=\n",
      "f();this.size=0;if(k){k=_.la(k);for(var l;!(l=k.next()).done;)l=l.value,this.set(l[0],l[1])}};c.prototype.set=function(k,l){k=0===k?0:k;var m=d(this,k);m.list||(m.list=this.o[m.id]=[]);m.La?m.La.value=l:(m.La={next:this.j,Eb:this.j.Eb,head:this.j,key:k,value:l},m.list.push(m.La),this.j.Eb.next=m.La,this.j.Eb=m.La,this.size++);return this};c.prototype.delete=function(k){k=d(this,k);return k.La&&k.list?(k.list.splice(k.index,1),k.list.length||delete this.o[k.id],k.La.Eb.next=k.La.next,k.La.next.Eb=\n",
      "k.La.Eb,k.La.head=null,this.size--,!0):!1};c.prototype.clear=function(){this.o={};this.j=this.j.Eb=f();this.size=0};c.prototype.has=function(k){return!!d(this,k).La};c.prototype.get=function(k){return(k=d(this,k).La)&&k.value};c.prototype.entries=function(){return e(this,function(k){return[k.key,k.value]})};c.prototype.keys=function(){return e(this,function(k){return k.key})};c.prototype.values=function(){return e(this,function(k){return k.value})};c.prototype.forEach=function(k,l){for(var m=this.entries(),\n",
      "q;!(q=m.next()).done;)q=q.value,k.call(l,q[1],q[0],this)};c.prototype[Symbol.iterator]=c.prototype.entries;var d=function(k,l){var m=l&&typeof l;\"object\"==m||\"function\"==m?b.has(l)?m=b.get(l):(m=\"\"+ ++g,b.set(l,m)):m=\"p_\"+l;var q=k.o[m];if(q&&ta(k.o,m))for(k=0;k<q.length;k++){var t=q[k];if(l!==l&&t.key!==t.key||l===t.key)return{id:m,list:q,index:k,La:t}}return{id:m,list:q,index:-1,La:void 0}},e=function(k,l){var m=k.j;return ka(function(){if(m){for(;m.head!=k.j;)m=m.Eb;for(;m.next!=m.head;)return m=\n",
      "m.next,{done:!1,value:l(m)};m=null}return{done:!0,value:void 0}})},f=function(){var k={};return k.Eb=k.next=k.head=k},g=0;return c});\n",
      "ja(\"Set\",function(a){if(function(){if(!a||\"function\"!=typeof a||!a.prototype.entries||\"function\"!=typeof Object.seal)return!1;try{var c=Object.seal({x:4}),d=new a(_.la([c]));if(!d.has(c)||1!=d.size||d.add(c)!=d||1!=d.size||d.add({x:4})!=d||2!=d.size)return!1;var e=d.entries(),f=e.next();if(f.done||f.value[0]!=c||f.value[1]!=c)return!1;f=e.next();return f.done||f.value[0]==c||4!=f.value[0].x||f.value[1]!=f.value[0]?!1:e.next().done}catch(g){return!1}}())return a;var b=function(c){this.j=new Map;if(c){c=\n",
      "_.la(c);for(var d;!(d=c.next()).done;)this.add(d.value)}this.size=this.j.size};b.prototype.add=function(c){c=0===c?0:c;this.j.set(c,c);this.size=this.j.size;return this};b.prototype.delete=function(c){c=this.j.delete(c);this.size=this.j.size;return c};b.prototype.clear=function(){this.j.clear();this.size=0};b.prototype.has=function(c){return this.j.has(c)};b.prototype.entries=function(){return this.j.entries()};b.prototype.values=function(){return this.j.values()};b.prototype.keys=b.prototype.values;\n",
      "b.prototype[Symbol.iterator]=b.prototype.values;b.prototype.forEach=function(c,d){var e=this;this.j.forEach(function(f){return c.call(d,f,f,e)})};return b});ja(\"Object.entries\",function(a){return a?a:function(b){var c=[],d;for(d in b)ta(b,d)&&c.push([d,b[d]]);return c}});ja(\"Object.is\",function(a){return a?a:function(b,c){return b===c?0!==b||1/b===1/c:b!==b&&c!==c}});\n",
      "ja(\"Array.prototype.includes\",function(a){return a?a:function(b,c){var d=this;d instanceof String&&(d=String(d));var e=d.length;c=c||0;for(0>c&&(c=Math.max(c+e,0));c<e;c++){var f=d[c];if(f===b||Object.is(f,b))return!0}return!1}});ja(\"String.prototype.includes\",function(a){return a?a:function(b,c){if(null==this)throw new TypeError(\"e`includes\");if(b instanceof RegExp)throw new TypeError(\"f`includes\");return-1!==this.indexOf(b,c||0)}});\n",
      "ja(\"Array.prototype.fill\",function(a){return a?a:function(b,c,d){var e=this.length||0;0>c&&(c=Math.max(0,e+c));if(null==d||d>e)d=e;d=Number(d);0>d&&(d=Math.max(0,e+d));for(c=Number(c||0);c<d;c++)this[c]=b;return this}});var wa=function(a){return a?a:Array.prototype.fill};ja(\"Int8Array.prototype.fill\",wa);ja(\"Uint8Array.prototype.fill\",wa);ja(\"Uint8ClampedArray.prototype.fill\",wa);ja(\"Int16Array.prototype.fill\",wa);ja(\"Uint16Array.prototype.fill\",wa);ja(\"Int32Array.prototype.fill\",wa);\n",
      "ja(\"Uint32Array.prototype.fill\",wa);ja(\"Float32Array.prototype.fill\",wa);ja(\"Float64Array.prototype.fill\",wa);_.xa=_.xa||{};_.u=this||self;_.ya=function(a,b){a=a.split(\".\");b=b||_.u;for(var c=0;c<a.length;c++)if(b=b[a[c]],null==b)return null;return b};_.za=function(){};_.Aa=function(a){a.Me=void 0;a.V=function(){return a.Me?a.Me:a.Me=new a}};_.Ba=function(a){var b=typeof a;return\"object\"!=b?b:a?Array.isArray(a)?\"array\":b:\"null\"};\n",
      "_.Ca=function(a){var b=_.Ba(a);return\"array\"==b||\"object\"==b&&\"number\"==typeof a.length};_.Da=function(a){var b=typeof a;return\"object\"==b&&null!=a||\"function\"==b};_.Ea=\"closure_uid_\"+(1E9*Math.random()>>>0);Fa=function(a,b,c){return a.call.apply(a.bind,arguments)};\n",
      "Ga=function(a,b,c){if(!a)throw Error();if(2<arguments.length){var d=Array.prototype.slice.call(arguments,2);return function(){var e=Array.prototype.slice.call(arguments);Array.prototype.unshift.apply(e,d);return a.apply(b,e)}}return function(){return a.apply(b,arguments)}};_.v=function(a,b,c){Function.prototype.bind&&-1!=Function.prototype.bind.toString().indexOf(\"native code\")?_.v=Fa:_.v=Ga;return _.v.apply(null,arguments)};\n",
      "_.w=function(a,b){a=a.split(\".\");var c=_.u;a[0]in c||\"undefined\"==typeof c.execScript||c.execScript(\"var \"+a[0]);for(var d;a.length&&(d=a.shift());)a.length||void 0===b?c[d]&&c[d]!==Object.prototype[d]?c=c[d]:c=c[d]={}:c[d]=b};_.x=function(a,b){function c(){}c.prototype=b.prototype;a.U=b.prototype;a.prototype=new c;a.prototype.constructor=a;a.jl=function(d,e,f){for(var g=Array(arguments.length-2),k=2;k<arguments.length;k++)g[k-2]=arguments[k];return b.prototype[e].apply(d,g)}};Ha=function(a){return a};\n",
      "_.Ia=function(a){var b=null,c=_.u.trustedTypes;if(!c||!c.createPolicy)return b;try{b=c.createPolicy(a,{createHTML:Ha,createScript:Ha,createScriptURL:Ha})}catch(d){_.u.console&&_.u.console.error(d.message)}return b};\n",
      "_.x(_.aa,Error);_.aa.prototype.name=\"CustomError\";\n",
      "_.Ja=Array.prototype.indexOf?function(a,b){return Array.prototype.indexOf.call(a,b,void 0)}:function(a,b){if(\"string\"===typeof a)return\"string\"!==typeof b||1!=b.length?-1:a.indexOf(b,0);for(var c=0;c<a.length;c++)if(c in a&&a[c]===b)return c;return-1};_.Ka=Array.prototype.forEach?function(a,b,c){Array.prototype.forEach.call(a,b,c)}:function(a,b,c){for(var d=a.length,e=\"string\"===typeof a?a.split(\"\"):a,f=0;f<d;f++)f in e&&b.call(c,e[f],f,a)};\n",
      "_.La=Array.prototype.filter?function(a,b,c){return Array.prototype.filter.call(a,b,c)}:function(a,b,c){for(var d=a.length,e=[],f=0,g=\"string\"===typeof a?a.split(\"\"):a,k=0;k<d;k++)if(k in g){var l=g[k];b.call(c,l,k,a)&&(e[f++]=l)}return e};_.Ma=Array.prototype.map?function(a,b,c){return Array.prototype.map.call(a,b,c)}:function(a,b,c){for(var d=a.length,e=Array(d),f=\"string\"===typeof a?a.split(\"\"):a,g=0;g<d;g++)g in f&&(e[g]=b.call(c,f[g],g,a));return e};\n",
      "_.Na=Array.prototype.reduce?function(a,b,c){return Array.prototype.reduce.call(a,b,c)}:function(a,b,c){var d=c;(0,_.Ka)(a,function(e,f){d=b.call(void 0,d,e,f,a)});return d};_.Oa=Array.prototype.some?function(a,b){return Array.prototype.some.call(a,b,void 0)}:function(a,b){for(var c=a.length,d=\"string\"===typeof a?a.split(\"\"):a,e=0;e<c;e++)if(e in d&&b.call(void 0,d[e],e,a))return!0;return!1};\n",
      "var Qa;_.Pa=function(a,b,c){for(var d in a)b.call(c,a[d],d,a)};Qa=\"constructor hasOwnProperty isPrototypeOf propertyIsEnumerable toLocaleString toString valueOf\".split(\" \");_.Ra=function(a,b){for(var c,d,e=1;e<arguments.length;e++){d=arguments[e];for(c in d)a[c]=d[c];for(var f=0;f<Qa.length;f++)c=Qa[f],Object.prototype.hasOwnProperty.call(d,c)&&(a[c]=d[c])}};\n",
      "var Sa;_.Ta=function(){void 0===Sa&&(Sa=_.Ia(\"ogb-og2#html\"));return Sa};\n",
      "var Wa,Xa,Ya,Za,$a,ab,bb,db;_.Ua=function(a,b){return 0==a.lastIndexOf(b,0)};_.Va=String.prototype.trim?function(a){return a.trim()}:function(a){return/^[\\s\\xa0]*([\\s\\S]*?)[\\s\\xa0]*$/.exec(a)[1]};\n",
      "_.cb=function(a,b){if(b)a=a.replace(Wa,\"&amp;\").replace(Xa,\"&lt;\").replace(Ya,\"&gt;\").replace(Za,\"&quot;\").replace($a,\"&#39;\").replace(ab,\"&#0;\");else{if(!bb.test(a))return a;-1!=a.indexOf(\"&\")&&(a=a.replace(Wa,\"&amp;\"));-1!=a.indexOf(\"<\")&&(a=a.replace(Xa,\"&lt;\"));-1!=a.indexOf(\">\")&&(a=a.replace(Ya,\"&gt;\"));-1!=a.indexOf('\"')&&(a=a.replace(Za,\"&quot;\"));-1!=a.indexOf(\"'\")&&(a=a.replace($a,\"&#39;\"));-1!=a.indexOf(\"\\x00\")&&(a=a.replace(ab,\"&#0;\"))}return a};Wa=/&/g;Xa=/</g;Ya=/>/g;Za=/\"/g;$a=/'/g;\n",
      "ab=/\\x00/g;bb=/[\\x00&<>\"']/;_.eb=function(a,b){var c=0;a=(0,_.Va)(String(a)).split(\".\");b=(0,_.Va)(String(b)).split(\".\");for(var d=Math.max(a.length,b.length),e=0;0==c&&e<d;e++){var f=a[e]||\"\",g=b[e]||\"\";do{f=/(\\d*)(\\D*)(.*)/.exec(f)||[\"\",\"\",\"\",\"\"];g=/(\\d*)(\\D*)(.*)/.exec(g)||[\"\",\"\",\"\",\"\"];if(0==f[0].length&&0==g[0].length)break;c=db(0==f[1].length?0:parseInt(f[1],10),0==g[1].length?0:parseInt(g[1],10))||db(0==f[2].length,0==g[2].length)||db(f[2],g[2]);f=f[3];g=g[3]}while(0==c)}return c};\n",
      "db=function(a,b){return a<b?-1:a>b?1:0};\n",
      "var fb;_.gb=function(a,b){this.j=b===fb?a:\"\"};_.h=_.gb.prototype;_.h.Db=!0;_.h.nb=function(){return this.j.toString()};_.h.Ke=!0;_.h.Jb=function(){return 1};_.h.toString=function(){return this.j.toString()};_.hb=function(a){return a instanceof _.gb&&a.constructor===_.gb?a.j:\"type_error:SafeUrl\"};_.ib=/^(?:(?:https?|mailto|ftp):|[^:/?#]*(?:[/?#]|$))/i;fb={};_.jb=function(a){return new _.gb(a,fb)};_.kb=_.jb(\"about:invalid#zClosurez\");\n",
      "_.mb=function(a,b){this.j=b===_.lb?a:\"\"};_.mb.prototype.Db=!0;_.mb.prototype.nb=function(){return this.j};_.mb.prototype.toString=function(){return this.j.toString()};_.lb={};_.nb=new _.mb(\"\",_.lb);\n",
      "a:{var pb=_.u.navigator;if(pb){var qb=pb.userAgent;if(qb){_.ob=qb;break a}}_.ob=\"\"}_.y=function(a){return-1!=_.ob.indexOf(a)};\n",
      "var tb;_.rb=function(){return _.y(\"Trident\")||_.y(\"MSIE\")};_.sb=function(){return _.y(\"Firefox\")||_.y(\"FxiOS\")};tb=function(){return(_.y(\"Chrome\")||_.y(\"CriOS\"))&&!_.y(\"Edge\")};\n",
      "var ub;_.vb=function(a,b,c){this.j=c===ub?a:\"\";this.o=b};_.h=_.vb.prototype;_.h.Ke=!0;_.h.Jb=function(){return this.o};_.h.Db=!0;_.h.nb=function(){return this.j.toString()};_.h.toString=function(){return this.j.toString()};_.wb=function(a){return a instanceof _.vb&&a.constructor===_.vb?a.j:\"type_error:SafeHtml\"};ub={};_.xb=function(a,b){var c=_.Ta();a=c?c.createHTML(a):a;return new _.vb(a,b,ub)};_.yb=new _.vb(_.u.trustedTypes&&_.u.trustedTypes.emptyHTML||\"\",0,ub);_.zb=_.xb(\"<br>\",0);\n",
      "_.Ab=function(a){var b=!1,c;return function(){b||(c=a(),b=!0);return c}}(function(){var a=document.createElement(\"div\"),b=document.createElement(\"div\");b.appendChild(document.createElement(\"div\"));a.appendChild(b);b=a.firstChild.firstChild;a.innerHTML=_.wb(_.yb);return!b.parentElement});\n",
      "_.Bb=function(a){return a=_.cb(a,void 0)};\n",
      "_.Cb=function(){return-1!=_.ob.toLowerCase().indexOf(\"webkit\")&&!_.y(\"Edge\")};\n",
      "var Db;Db=function(){return _.y(\"iPhone\")&&!_.y(\"iPod\")&&!_.y(\"iPad\")};_.Eb=function(){return Db()||_.y(\"iPad\")||_.y(\"iPod\")};\n",
      "_.Fb=function(a){_.Fb[\" \"](a);return a};_.Fb[\" \"]=_.za;var Hb=function(a,b){var c=Gb;return Object.prototype.hasOwnProperty.call(c,a)?c[a]:c[a]=b(a)};\n",
      "var Ob,Xb,Yb,Gb,dc;_.Ib=_.y(\"Opera\");_.z=_.rb();_.Jb=_.y(\"Edge\");_.Kb=_.Jb||_.z;_.Lb=_.y(\"Gecko\")&&!_.Cb()&&!(_.y(\"Trident\")||_.y(\"MSIE\"))&&!_.y(\"Edge\");_.Mb=_.Cb();Ob=_.u.navigator||null;_.Nb=Ob&&Ob.platform||\"\";_.Pb=_.y(\"Macintosh\");_.Qb=_.y(\"Windows\");_.Rb=_.y(\"Linux\")||_.y(\"CrOS\");_.Sb=_.y(\"Android\");_.Tb=Db();_.Ub=_.y(\"iPad\");_.Vb=_.y(\"iPod\");_.Wb=_.Eb();Xb=function(){var a=_.u.document;return a?a.documentMode:void 0};\n",
      "a:{var Zb=\"\",$b=function(){var a=_.ob;if(_.Lb)return/rv:([^\\);]+)(\\)|;)/.exec(a);if(_.Jb)return/Edge\\/([\\d\\.]+)/.exec(a);if(_.z)return/\\b(?:MSIE|rv)[: ]([^\\);]+)(\\)|;)/.exec(a);if(_.Mb)return/WebKit\\/(\\S+)/.exec(a);if(_.Ib)return/(?:Version)[ \\/]?(\\S+)/.exec(a)}();$b&&(Zb=$b?$b[1]:\"\");if(_.z){var ac=Xb();if(null!=ac&&ac>parseFloat(Zb)){Yb=String(ac);break a}}Yb=Zb}_.bc=Yb;Gb={};_.cc=function(a){return Hb(a,function(){return 0<=_.eb(_.bc,a)})};\n",
      "if(_.u.document&&_.z){var ec=Xb();dc=ec?ec:parseInt(_.bc,10)||void 0}else dc=void 0;_.fc=dc;\n",
      "_.gc=_.sb();_.hc=Db()||_.y(\"iPod\");_.ic=_.y(\"iPad\");_.jc=_.y(\"Android\")&&!(tb()||_.sb()||_.y(\"Opera\")||_.y(\"Silk\"));_.kc=tb();_.lc=_.y(\"Safari\")&&!(tb()||_.y(\"Coast\")||_.y(\"Opera\")||_.y(\"Edge\")||_.y(\"Edg/\")||_.y(\"OPR\")||_.sb()||_.y(\"Silk\")||_.y(\"Android\"))&&!_.Eb();\n",
      "var mc;mc={};_.nc=null;_.oc=function(){if(!_.nc){_.nc={};for(var a=\"ABCDEFGHIJKLMNOPQRSTUVWXYZabcdefghijklmnopqrstuvwxyz0123456789\".split(\"\"),b=[\"+/=\",\"+/\",\"-_=\",\"-_.\",\"-_\"],c=0;5>c;c++){var d=a.concat(b[c].split(\"\"));mc[c]=d;for(var e=0;e<d.length;e++){var f=d[e];void 0===_.nc[f]&&(_.nc[f]=e)}}}};\n",
      "_.pc=function(a){this.o=0;this.j=a};_.pc.prototype.next=function(){return this.o<this.j.length?{done:!1,value:this.j[this.o++]}:{done:!0,value:void 0}};\"undefined\"!=typeof Symbol&&\"undefined\"!=typeof Symbol.iterator&&(_.pc.prototype[Symbol.iterator]=function(){return this});\n",
      "_.A=function(){};_.qc=\"function\"==typeof Uint8Array;\n",
      "_.B=function(a,b,c,d,e,f){a.j=null;b||(b=c?[c]:[]);a.J=c?String(c):void 0;a.C=0===c?-1:0;a.A=b;a:{c=a.A.length;b=-1;if(c&&(b=c-1,c=a.A[b],!(null===c||\"object\"!=typeof c||Array.isArray(c)||_.qc&&c instanceof Uint8Array))){a.F=b-a.C;a.B=c;break a}-1<d?(a.F=Math.max(d,b+1-a.C),a.B=null):a.F=Number.MAX_VALUE}a.H={};if(e)for(d=0;d<e.length;d++)b=e[d],b<a.F?(b+=a.C,a.A[b]=a.A[b]||_.rc):(_.sc(a),a.B[b]=a.B[b]||_.rc);if(f&&f.length)for(d=0;d<f.length;d++)_.tc(a,f[d])};_.rc=[];\n",
      "_.sc=function(a){var b=a.F+a.C;a.A[b]||(a.B=a.A[b]={})};_.C=function(a,b){if(b<a.F){b+=a.C;var c=a.A[b];return c!==_.rc?c:a.A[b]=[]}if(a.B)return c=a.B[b],c===_.rc?a.B[b]=[]:c};_.F=function(a,b){a=_.C(a,b);return null==a?a:!!a};_.uc=function(a,b,c){a=_.C(a,b);return null==a?c:a};_.vc=function(a,b,c){return _.uc(a,b,void 0===c?0:c)};_.G=function(a,b,c){b<a.F?a.A[b+a.C]=c:(_.sc(a),a.B[b]=c);return a};\n",
      "_.tc=function(a,b){for(var c,d,e=0;e<b.length;e++){var f=b[e],g=_.C(a,f);null!=g&&(c=f,d=g,_.G(a,f,void 0))}return c?(_.G(a,c,d),c):0};_.I=function(a,b,c){a.j||(a.j={});if(!a.j[c]){var d=_.C(a,c);d&&(a.j[c]=new b(d))}return a.j[c]};_.A.prototype.Ca=function(){if(this.j)for(var a in this.j){var b=this.j[a];if(Array.isArray(b))for(var c=0;c<b.length;c++)b[c]&&b[c].Ca();else b&&b.Ca()}return this.A};\n",
      "_.A.prototype.o=_.qc?function(){var a=Uint8Array.prototype.toJSON;Uint8Array.prototype.toJSON=function(){var b;void 0===b&&(b=0);_.oc();b=mc[b];for(var c=[],d=0;d<this.length;d+=3){var e=this[d],f=d+1<this.length,g=f?this[d+1]:0,k=d+2<this.length,l=k?this[d+2]:0,m=e>>2;e=(e&3)<<4|g>>4;g=(g&15)<<2|l>>6;l&=63;k||(l=64,f||(g=64));c.push(b[m],b[e],b[g]||\"\",b[l]||\"\")}return c.join(\"\")};try{return JSON.stringify(this.A&&this.Ca(),wc)}finally{Uint8Array.prototype.toJSON=a}}:function(){return JSON.stringify(this.A&&\n",
      "this.Ca(),wc)};var wc=function(a,b){return\"number\"!==typeof b||!isNaN(b)&&Infinity!==b&&-Infinity!==b?b:String(b)};_.A.prototype.toString=function(){return this.Ca().toString()};\n",
      "_.xc=function(a){_.B(this,a,0,-1,null,null)};_.x(_.xc,_.A);\n",
      "var yc=function(a){_.B(this,a,0,-1,null,null)};_.x(yc,_.A);yc.prototype.nf=function(a){return _.G(this,24,a)};\n",
      "var zc=function(a){_.B(this,a,0,-1,null,null)};_.x(zc,_.A);\n",
      "var Ac=new zc(window.gbar&&window.gbar._CONFIG?window.gbar._CONFIG[0]:[[,,,,,,,[]],[],[],[],[],[],[],[],[],[],[],[],[],[],[],[],[],[],[]]),Bc;Bc=_.F(Ac,3);_.Cc=_.n(Bc);\n",
      "_.Dc=function(){};_.w(\"gbar_._DumpException\",function(a){_.Dc(a)});\n",
      "_.J=function(){this.Ya=this.Ya;this.lb=this.lb};_.J.prototype.Ya=!1;_.J.prototype.ha=function(){this.Ya||(this.Ya=!0,this.P())};_.J.prototype.P=function(){if(this.lb)for(;this.lb.length;)this.lb.shift()()};\n",
      "_.Ec=function(){this.j={};this.o={}};_.Hc=function(a,b){a.V=function(){return _.Fc(_.Ec.V(),b)};a.Gk=function(){return _.Gc(_.Ec.V(),b)}};_.Jc=function(a,b){var c=_.Ec.V();if(a in c.j){if(c.j[a]!=b)throw new Ic(a);}else{c.j[a]=b;if(b=c.o[a])for(var d=0,e=b.length;d<e;d++)b[d].j(c.j,a);delete c.o[a]}};_.Fc=function(a,b){if(b in a.j)return a.j[b];throw new Kc(b);};_.Gc=function(a,b){return a.j[b]||null};_.Aa(_.Ec);var Lc=function(a){_.aa.call(this);this.fa=a};_.r(Lc,_.aa);\n",
      "var Ic=function(a){Lc.call(this,a)};_.r(Ic,Lc);var Kc=function(a){Lc.call(this,a)};_.r(Kc,Lc);\n",
      "var Mc=function(){_.J.call(this);this.j=Ac};_.r(Mc,_.J);_.K=function(){return Mc.V().j};_.Nc=function(){return _.I(_.K(),yc,1)||new yc};_.Hc(Mc,\"cs\");_.Jc(\"cs\",new Mc);\n",
      "var Oc;Oc=!_.z||9<=Number(_.fc);_.Pc=!_.Lb&&!_.z||_.z&&9<=Number(_.fc)||_.Lb&&_.cc(\"1.9.1\");_.Qc=_.z&&!_.cc(\"9\");_.Rc=_.z||_.Ib||_.Mb;\n",
      "var Sc;_.Tc=function(a,b){_.Pa(b,function(c,d){c&&\"object\"==typeof c&&c.Db&&(c=c.nb());\"style\"==d?a.style.cssText=c:\"class\"==d?a.className=c:\"for\"==d?a.htmlFor=c:Sc.hasOwnProperty(d)?a.setAttribute(Sc[d],c):_.Ua(d,\"aria-\")||_.Ua(d,\"data-\")?a.setAttribute(d,c):a[d]=c})};Sc={cellpadding:\"cellPadding\",cellspacing:\"cellSpacing\",colspan:\"colSpan\",frameborder:\"frameBorder\",height:\"height\",maxlength:\"maxLength\",nonce:\"nonce\",role:\"role\",rowspan:\"rowSpan\",type:\"type\",usemap:\"useMap\",valign:\"vAlign\",width:\"width\"};\n",
      "_.Wc=function(a,b){var c=String(b[0]),d=b[1];if(!Oc&&d&&(d.name||d.type)){c=[\"<\",c];d.name&&c.push(' name=\"',_.Bb(d.name),'\"');if(d.type){c.push(' type=\"',_.Bb(d.type),'\"');var e={};_.Ra(e,d);delete e.type;d=e}c.push(\">\");c=c.join(\"\")}c=_.Uc(a,c);d&&(\"string\"===typeof d?c.className=d:Array.isArray(d)?c.className=d.join(\" \"):_.Tc(c,d));2<b.length&&_.Vc(a,c,b,2);return c};\n",
      "_.Vc=function(a,b,c,d){function e(k){k&&b.appendChild(\"string\"===typeof k?a.createTextNode(k):k)}for(;d<c.length;d++){var f=c[d];if(!_.Ca(f)||_.Da(f)&&0<f.nodeType)e(f);else{a:{if(f&&\"number\"==typeof f.length){if(_.Da(f)){var g=\"function\"==typeof f.item||\"string\"==typeof f.item;break a}if(\"function\"===typeof f){g=\"function\"==typeof f.item;break a}}g=!1}_.Ka(g?_.ba(f):f,e)}}};_.Uc=function(a,b){b=String(b);\"application/xhtml+xml\"===a.contentType&&(b=b.toLowerCase());return a.createElement(b)};\n",
      "var Xc=function(a,b,c){this.A=a;this.o=!1;this.j=b;this.B=c};Xc.prototype.$a=function(a){if(this.o)throw Error(\"o`\"+this.j);try{a.apply(this.A,this.B),this.o=!0}catch(b){}};\n",
      "var Yc=function(a){_.J.call(this);this.o=a;this.j=[];this.A={}};_.r(Yc,_.J);Yc.prototype.B=function(a){var b=(0,_.v)(function(){this.j.push(new Xc(this.o,a,Array.prototype.slice.call(arguments)))},this);return this.A[a]=b};\n",
      "Yc.prototype.$a=function(){for(var a=this.j.length,b=this.j,c=[],d=0;d<a;++d){var e=b[d].j;a:{var f=this.o;for(var g=e.split(\".\"),k=g.length,l=0;l<k;++l)if(f[g[l]])f=f[g[l]];else{f=null;break a}f=f instanceof Function?f:null}if(f&&f!=this.A[e])try{b[d].$a(f)}catch(m){}else c.push(b[d])}this.j=c.concat(b.slice(a))};\n",
      "var $c;_.Zc=\"bbh bbr bbs has prm sngw so\".split(\" \");$c=new Yc(_.u);_.Jc(\"api\",$c);\n",
      "for(var ad=\"addExtraLink addLink aomc asmc close cp.c cp.l cp.me cp.ml cp.rc cp.rel ela elc elh gpca gpcr lGC lPWF ldb mls noam paa pc pca pcm pw.clk pw.hvr qfaae qfaas qfaau qfae qfas qfau qfhi qm qs qsi rtl sa setContinueCb snaw sncw som sp spd spn spp sps tsl tst up.aeh up.aop up.dpc up.iic up.nap up.r up.sl up.spd up.tp upel upes upet\".split(\" \").concat(_.Zc),bd=(0,_.v)($c.B,$c),cd=0;cd<ad.length;cd++){var dd=\"gbar.\"+ad[cd];null==_.ya(dd,window)&&_.w(dd,bd(dd))}_.w(\"gbar.up.gpd\",function(){return\"\"});\n",
      "var ed=new function(){this.j=_.I(_.Nc(),_.xc,8)||new _.xc};_.w(\"gbar.bv\",{n:_.da(_.C(ed.j,2)),r:_.p(_.C(ed.j,4)),f:_.p(_.C(ed.j,3)),e:_.p(_.C(ed.j,5)),m:_.da(_.vc(ed.j,1,1),1)});_.w(\"gbar.kn\",function(){return!0});_.w(\"gbar.sb\",function(){return!1});\n",
      "\n",
      "}catch(e){_._DumpException(e)}\n",
      "try{\n",
      "_.w(\"gbar.elr\",function(){return{es:{f:152,h:60,m:30},mo:\"md\",vh:window.innerHeight||0,vw:window.innerWidth||0}});\n",
      "\n",
      "}catch(e){_._DumpException(e)}\n",
      "})(this.gbar_);\n",
      "// Google Inc.\n",
      "  </script>\n",
      " </head>\n",
      " <body bgcolor=\"#fff\">\n",
      "  <script nonce=\"4KJlOQ/ciyfUUPWQ1J8fPA==\">\n",
      "   (function(){var src='/images/nav_logo229.png';var iesg=false;document.body.onload = function(){window.n && window.n();if (document.images){new Image().src=src;}\n",
      "if (!iesg){document.f&&document.f.q.focus();document.gbqf&&document.gbqf.q.focus();}\n",
      "}\n",
      "})();\n",
      "  </script>\n",
      "  <div id=\"mngb\">\n",
      "   <style>\n",
      "    #gb{font-size:13px}#gb{position:relative;top:8px}#gb{top:16px}div#viewport{position:absolute;top:0;width:100%}div#searchform.jhp{margin-top:0}#searchform.big.jhp>#tsf{max-width:none}.jhp>#tsf{max-width:none}\n",
      "   </style>\n",
      "   <div id=\"gb\">\n",
      "    <div id=\"gbw\">\n",
      "     <div style=\"top:0;left:0;right:0;width:100%\">\n",
      "      <div class=\"gb_Ta gb_xg gb_i gb_wg gb_yg\" data-ogsr-up=\"\">\n",
      "       <div class=\"gb_ae gb_i gb_xg gb_og\" data-ogbl=\"\">\n",
      "        <div class=\"gb_h gb_i\">\n",
      "         <a class=\"gb_g\" data-pid=\"23\" href=\"https://mail.google.com/mail/?tab=wm&amp;ogbl\" target=\"_top\">\n",
      "          Gmail\n",
      "         </a>\n",
      "        </div>\n",
      "        <div class=\"gb_h gb_i\">\n",
      "         <a class=\"gb_g\" data-pid=\"2\" href=\"https://www.google.co.in/imghp?hl=en&amp;tab=wi&amp;ogbl\" target=\"_top\">\n",
      "          Images\n",
      "         </a>\n",
      "        </div>\n",
      "       </div>\n",
      "       <div class=\"gb_Ue gb_xg gb_i\">\n",
      "        <div class=\"gb_C gb_dd gb_i\" data-ogsr-alt=\"\" data-ogsr-fb=\"true\" id=\"gbwa\">\n",
      "         <div class=\"gb_Lf\">\n",
      "          <a aria-expanded=\"false\" class=\"gb_D gb_sc\" href=\"https://www.google.co.in/intl/en/about/products?tab=wh\" role=\"button\" tabindex=\"0\" title=\"Google apps\">\n",
      "          </a>\n",
      "         </div>\n",
      "        </div>\n",
      "        <div class=\"gb_ig gb_i\">\n",
      "         <div class=\"gb_Lf\">\n",
      "          <a class=\"gb_be gb_4 gb_5c\" href=\"https://accounts.google.com/ServiceLogin?hl=en&amp;passive=true&amp;continue=https://www.google.com/&amp;ec=GAZAAQ\" id=\"gb_70\" target=\"_top\">\n",
      "           Sign in\n",
      "          </a>\n",
      "          <div class=\"gb_0a\">\n",
      "          </div>\n",
      "          <div class=\"gb_Za\">\n",
      "          </div>\n",
      "         </div>\n",
      "        </div>\n",
      "        <div aria-label=\"Reinstall Chrome to stay secure\" class=\"gb_dd gb_ed gb_2c gb_qd gb_Ad\" role=\"dialog\" style=\"behavior:url(#default#userData)\">\n",
      "         <div class=\"gb_F\">\n",
      "          <div class=\"gb_jd\">\n",
      "           <div class=\"gb_zd\">\n",
      "            <img height=\"48\" src=\"https://www.google.com/images/hpp/Chrome_Owned_96x96.png\" width=\"48\"/>\n",
      "           </div>\n",
      "           <div class=\"gb_rd\">\n",
      "            <p class=\"gb_sd\" role=\"heading\">\n",
      "             Reinstall Chrome to stay secure\n",
      "            </p>\n",
      "            <p class=\"gb_cd\">\n",
      "             <span class=\"gb_td\">\n",
      "              You're using an older version of Chrome\n",
      "             </span>\n",
      "            </p>\n",
      "            <div class=\"gb_nd\">\n",
      "             <a class=\"gb_0 gb_md gb_ld\" data-navigation=\"server\" href=\"#\" role=\"button\" target=\"_top\">\n",
      "              NO THANKS\n",
      "             </a>\n",
      "             <a aria-label=\"YES\" class=\"gb_5c gb_4 gb_ld gb_od\" href=\"https://www.google.com/url?q=https://www.google.com/chrome/%3Fbrand%3DRLNS%26utm_source%3Dgoogle.com%26utm_medium%3Dmaterial-callout%26utm_campaign%3Dsearch%26utm_content%3Dreinstall-to-stay-secure%26utm_keyword%3DRLNS&amp;source=hpp&amp;id=19019113&amp;ct=7&amp;usg=AFQjCNEr8BVI6ordo8O9JVYtc7A9SpG4LQ\" role=\"button\" target=\"_blank\">\n",
      "              <span>\n",
      "               YES\n",
      "              </span>\n",
      "             </a>\n",
      "            </div>\n",
      "           </div>\n",
      "          </div>\n",
      "         </div>\n",
      "        </div>\n",
      "       </div>\n",
      "      </div>\n",
      "     </div>\n",
      "    </div>\n",
      "   </div>\n",
      "  </div>\n",
      "  <center>\n",
      "   <br clear=\"all\" id=\"lgpd\"/>\n",
      "   <div id=\"lga\">\n",
      "    <img alt=\"Google\" height=\"92\" id=\"hplogo\" src=\"/images/branding/googlelogo/1x/googlelogo_white_background_color_272x92dp.png\" style=\"padding:28px 0 14px\" width=\"272\"/>\n",
      "    <br/>\n",
      "    <br/>\n",
      "   </div>\n",
      "   <form action=\"/search\" name=\"f\">\n",
      "    <table cellpadding=\"0\" cellspacing=\"0\">\n",
      "     <tr valign=\"top\">\n",
      "      <td width=\"25%\">\n",
      "      </td>\n",
      "      <td align=\"center\" nowrap=\"\">\n",
      "       <input name=\"hl\" type=\"hidden\" value=\"en-IN\"/>\n",
      "       <input name=\"source\" type=\"hidden\" value=\"hp\"/>\n",
      "       <input name=\"biw\" type=\"hidden\"/>\n",
      "       <input name=\"bih\" type=\"hidden\"/>\n",
      "       <div class=\"ds\" style=\"height:32px;margin:4px 0\">\n",
      "        <input autocomplete=\"off\" class=\"lst\" maxlength=\"2048\" name=\"q\" size=\"57\" style=\"margin:0;padding:5px 8px 0 6px;vertical-align:top;color:#000\" title=\"Google Search\" value=\"\"/>\n",
      "       </div>\n",
      "       <br style=\"line-height:0\"/>\n",
      "       <span class=\"ds\">\n",
      "        <span class=\"lsbb\">\n",
      "         <input class=\"lsb\" name=\"btnG\" type=\"submit\" value=\"Google Search\"/>\n",
      "        </span>\n",
      "       </span>\n",
      "       <span class=\"ds\">\n",
      "        <span class=\"lsbb\">\n",
      "         <input class=\"lsb\" id=\"tsuid1\" name=\"btnI\" type=\"submit\" value=\"I'm Feeling Lucky\"/>\n",
      "         <script nonce=\"4KJlOQ/ciyfUUPWQ1J8fPA==\">\n",
      "          (function(){var id='tsuid1';document.getElementById(id).onclick = function(){if (this.form.q.value){this.checked = 1;if (this.form.iflsig)this.form.iflsig.disabled = false;}\n",
      "else top.location='/doodles/';};})();\n",
      "         </script>\n",
      "         <input name=\"iflsig\" type=\"hidden\" value=\"AINFCbYAAAAAYCVJ6r1G4oT_6HqQwLng4W36pfe03TMK\"/>\n",
      "        </span>\n",
      "       </span>\n",
      "      </td>\n",
      "      <td align=\"left\" class=\"fl sblc\" nowrap=\"\" width=\"25%\">\n",
      "       <a href=\"/advanced_search?hl=en-IN&amp;authuser=0\">\n",
      "        Advanced search\n",
      "       </a>\n",
      "      </td>\n",
      "     </tr>\n",
      "    </table>\n",
      "    <input id=\"gbv\" name=\"gbv\" type=\"hidden\" value=\"1\"/>\n",
      "    <script nonce=\"4KJlOQ/ciyfUUPWQ1J8fPA==\">\n",
      "     (function(){var a,b=\"1\";if(document&&document.getElementById)if(\"undefined\"!=typeof XMLHttpRequest)b=\"2\";else if(\"undefined\"!=typeof ActiveXObject){var c,d,e=[\"MSXML2.XMLHTTP.6.0\",\"MSXML2.XMLHTTP.3.0\",\"MSXML2.XMLHTTP\",\"Microsoft.XMLHTTP\"];for(c=0;d=e[c++];)try{new ActiveXObject(d),b=\"2\"}catch(h){}}a=b;if(\"2\"==a&&-1==location.search.indexOf(\"&gbv=2\")){var f=google.gbvu,g=document.getElementById(\"gbv\");g&&(g.value=a);f&&window.setTimeout(function(){location.href=f},0)};}).call(this);\n",
      "    </script>\n",
      "   </form>\n",
      "   <div id=\"gac_scont\">\n",
      "   </div>\n",
      "   <div style=\"font-size:83%;min-height:3.5em\">\n",
      "    <br/>\n",
      "    <div id=\"gws-output-pages-elements-homepage_additional_languages__als\">\n",
      "     <style>\n",
      "      #gws-output-pages-elements-homepage_additional_languages__als{font-size:small;margin-bottom:24px}#SIvCob{display:inline-block;line-height:28px;}#SIvCob a{padding:0 3px;}.H6sW5{display:inline-block;margin:0 2px;white-space:nowrap}.z4hgWe{display:inline-block;margin:0 2px}\n",
      "     </style>\n",
      "     <div id=\"SIvCob\">\n",
      "      Google offered in:\n",
      "      <a href=\"https://www.google.com/setprefs?sig=0_4a4P1wr5uAikzzvMNchWxV4yUdI%3D&amp;hl=hi&amp;source=homepage&amp;sa=X&amp;ved=0ahUKEwjfr5akguLuAhXCTX0KHRTVBXkQ2ZgBCAQ\">\n",
      "       हिन्दी\n",
      "      </a>\n",
      "      <a href=\"https://www.google.com/setprefs?sig=0_4a4P1wr5uAikzzvMNchWxV4yUdI%3D&amp;hl=bn&amp;source=homepage&amp;sa=X&amp;ved=0ahUKEwjfr5akguLuAhXCTX0KHRTVBXkQ2ZgBCAU\">\n",
      "       বাংলা\n",
      "      </a>\n",
      "      <a href=\"https://www.google.com/setprefs?sig=0_4a4P1wr5uAikzzvMNchWxV4yUdI%3D&amp;hl=te&amp;source=homepage&amp;sa=X&amp;ved=0ahUKEwjfr5akguLuAhXCTX0KHRTVBXkQ2ZgBCAY\">\n",
      "       తెలుగు\n",
      "      </a>\n",
      "      <a href=\"https://www.google.com/setprefs?sig=0_4a4P1wr5uAikzzvMNchWxV4yUdI%3D&amp;hl=mr&amp;source=homepage&amp;sa=X&amp;ved=0ahUKEwjfr5akguLuAhXCTX0KHRTVBXkQ2ZgBCAc\">\n",
      "       मराठी\n",
      "      </a>\n",
      "      <a href=\"https://www.google.com/setprefs?sig=0_4a4P1wr5uAikzzvMNchWxV4yUdI%3D&amp;hl=ta&amp;source=homepage&amp;sa=X&amp;ved=0ahUKEwjfr5akguLuAhXCTX0KHRTVBXkQ2ZgBCAg\">\n",
      "       தமிழ்\n",
      "      </a>\n",
      "      <a href=\"https://www.google.com/setprefs?sig=0_4a4P1wr5uAikzzvMNchWxV4yUdI%3D&amp;hl=gu&amp;source=homepage&amp;sa=X&amp;ved=0ahUKEwjfr5akguLuAhXCTX0KHRTVBXkQ2ZgBCAk\">\n",
      "       ગુજરાતી\n",
      "      </a>\n",
      "      <a href=\"https://www.google.com/setprefs?sig=0_4a4P1wr5uAikzzvMNchWxV4yUdI%3D&amp;hl=kn&amp;source=homepage&amp;sa=X&amp;ved=0ahUKEwjfr5akguLuAhXCTX0KHRTVBXkQ2ZgBCAo\">\n",
      "       ಕನ್ನಡ\n",
      "      </a>\n",
      "      <a href=\"https://www.google.com/setprefs?sig=0_4a4P1wr5uAikzzvMNchWxV4yUdI%3D&amp;hl=ml&amp;source=homepage&amp;sa=X&amp;ved=0ahUKEwjfr5akguLuAhXCTX0KHRTVBXkQ2ZgBCAs\">\n",
      "       മലയാളം\n",
      "      </a>\n",
      "      <a href=\"https://www.google.com/setprefs?sig=0_4a4P1wr5uAikzzvMNchWxV4yUdI%3D&amp;hl=pa&amp;source=homepage&amp;sa=X&amp;ved=0ahUKEwjfr5akguLuAhXCTX0KHRTVBXkQ2ZgBCAw\">\n",
      "       ਪੰਜਾਬੀ\n",
      "      </a>\n",
      "     </div>\n",
      "    </div>\n",
      "   </div>\n",
      "   <span id=\"footer\">\n",
      "    <div style=\"font-size:10pt\">\n",
      "     <div id=\"WqQANb\" style=\"margin:19px auto;text-align:center\">\n",
      "      <a href=\"/intl/en/ads/\">\n",
      "       Advertising Programs\n",
      "      </a>\n",
      "      <a href=\"http://www.google.co.in/services/\">\n",
      "       Business Solutions\n",
      "      </a>\n",
      "      <a href=\"/intl/en/about.html\">\n",
      "       About Google\n",
      "      </a>\n",
      "      <a href=\"https://www.google.com/setprefdomain?prefdom=IN&amp;prev=https://www.google.co.in/&amp;sig=K_fogPD70KzI1L_rAdyBym56zYiPc%3D\">\n",
      "       Google.co.in\n",
      "      </a>\n",
      "     </div>\n",
      "    </div>\n",
      "    <p style=\"font-size:8pt;color:#70757a\">\n",
      "     © 2021 -\n",
      "     <a href=\"/intl/en/policies/privacy/\">\n",
      "      Privacy\n",
      "     </a>\n",
      "     -\n",
      "     <a href=\"/intl/en/policies/terms/\">\n",
      "      Terms\n",
      "     </a>\n",
      "    </p>\n",
      "   </span>\n",
      "  </center>\n",
      "  <script nonce=\"4KJlOQ/ciyfUUPWQ1J8fPA==\">\n",
      "   this.gbar_=this.gbar_||{};(function(_){var window=this;\n",
      "try{\n",
      "var md,pd,rd,sd,vd,Bd,Ed,Hd,Rd;_.kd=function(a){a&&\"function\"==typeof a.ha&&a.ha()};md=function(a){a:{var b=ld;for(var c=a.length,d=\"string\"===typeof a?a.split(\"\"):a,e=0;e<c;e++)if(e in d&&b.call(void 0,d[e],e,a)){b=e;break a}b=-1}return 0>b?null:\"string\"===typeof a?a.charAt(b):a[b]};_.nd=function(a,b){return 0<=(0,_.Ja)(a,b)};_.od=function(a,b){b=(0,_.Ja)(a,b);var c;(c=0<=b)&&Array.prototype.splice.call(a,b,1);return c};pd=function(a){_.u.setTimeout(function(){throw a;},0)};\n",
      "_.qd=function(a,b){var c=Array.prototype.slice.call(arguments,1);return function(){var d=c.slice();d.push.apply(d,arguments);return a.apply(this,d)}};rd=/^(?:audio\\/(?:3gpp2|3gpp|aac|L16|midi|mp3|mp4|mpeg|oga|ogg|opus|x-m4a|x-matroska|x-wav|wav|webm)|font\\/\\w+|image\\/(?:bmp|gif|jpeg|jpg|png|tiff|webp|x-icon)|video\\/(?:mpeg|mp4|ogg|webm|quicktime|x-matroska))(?:;\\w+=(?:\\w+|\"[\\w;,= ]+\"))*$/i;sd=/^data:(.*);base64,[a-z0-9+\\/]+=*$/i;_.td=function(a,b,c){c=void 0===c?!1:c;a=_.F(a,b);return null==a?c:a};\n",
      "_.ud=function(a,b,c){c=void 0===c?0:c;a=_.C(a,b);a=null==a?a:+a;return null==a?c:a};vd=function(a){_.B(this,a,0,-1,null,null)};_.x(vd,_.A);var wd=function(a){_.B(this,a,0,-1,null,null)};_.x(wd,_.A);_.xd=function(a,b){b=_.qd(_.kd,b);a.Ya?b():(a.lb||(a.lb=[]),a.lb.push(b))};_.zd=function(){var a=_.yd();return _.C(a,9)};_.Ad=function(){return Date.now()};Bd=function(a,b){for(var c in a)if(b.call(void 0,a[c],c,a))return!0;return!1};_.Cd=function(a){var b=[],c=0,d;for(d in a)b[c++]=d;return b};_.Dd={};\n",
      "Ed={};_.Fd=function(a,b){this.j=a===_.Dd&&b||\"\";this.o=Ed};_.Fd.prototype.Db=!0;_.Fd.prototype.nb=function(){return this.j};_.Gd=function(a){return a instanceof _.Fd&&a.constructor===_.Fd&&a.o===Ed?a.j:\"type_error:Const\"};Hd={};_.Id=function(a,b){this.j=b===Hd?a:\"\"};_.h=_.Id.prototype;_.h.Db=!0;_.h.nb=function(){return this.j.toString()};_.h.Ke=!0;_.h.Jb=function(){return 1};_.h.toString=function(){return this.j+\"\"};_.Jd=function(a){return a instanceof _.Id&&a.constructor===_.Id?a.j:\"type_error:TrustedResourceUrl\"};\n",
      "_.Kd=function(a){var b=_.Ta();a=b?b.createScriptURL(a):a;return new _.Id(a,Hd)};_.Ld=function(a){return/^[\\s\\xa0]*$/.test(a)};_.Md=function(a){if(a instanceof _.gb)return a;a=\"object\"==typeof a&&a.Db?a.nb():String(a);if(_.ib.test(a))a=_.jb(a);else{a=String(a);a=a.replace(/(%0A|%0D)/g,\"\");var b=a.match(sd);a=b&&rd.test(b[1])?_.jb(a):null}return a};_.Nd=function(a){return encodeURIComponent(String(a))};_.Od=function(a){var b=Number(a);return 0==b&&_.Ld(a)?NaN:b};\n",
      "_.Pd=function(a,b){try{return _.Fb(a[b]),!0}catch(c){}return!1};Rd=function(){this.j=Qd};Rd.prototype.o=function(){return!!this.j};_.Sd=function(a,b,c){_.C(a,b).push(c);return a};_.M=function(a,b,c){a.j||(a.j={});var d=c?c.Ca():c;a.j[b]=c;return _.G(a,b,d)};_.yd=function(){return _.I(_.K(),vd,4)||new vd};_.Td=function(){return _.I(_.K(),wd,11)||new wd};_.Ud=function(a){return a?a.parentWindow||a.defaultView:window};_.Vd=function(a){return _.Uc(document,a)};\n",
      "/*\n",
      "\n",
      " Copyright The Closure Library Authors.\n",
      " SPDX-License-Identifier: Apache-2.0\n",
      "*/\n",
      "var Xd;_.Wd=function(a){this.j=a||{cookie:\"\"}};_.h=_.Wd.prototype;\n",
      "_.h.set=function(a,b,c){var d=!1;if(\"object\"===typeof c){var e=c.Bl;d=c.uk||!1;var f=c.domain||void 0;var g=c.path||void 0;var k=c.Ld}if(/[;=\\s]/.test(a))throw Error(\"t`\"+a);if(/[;\\r\\n]/.test(b))throw Error(\"u`\"+b);void 0===k&&(k=-1);this.j.cookie=a+\"=\"+b+(f?\";domain=\"+f:\"\")+(g?\";path=\"+g:\"\")+(0>k?\"\":0==k?\";expires=\"+(new Date(1970,1,1)).toUTCString():\";expires=\"+(new Date(Date.now()+1E3*k)).toUTCString())+(d?\";secure\":\"\")+(null!=e?\";samesite=\"+e:\"\")};\n",
      "_.h.get=function(a,b){for(var c=a+\"=\",d=(this.j.cookie||\"\").split(\";\"),e=0,f;e<d.length;e++){f=(0,_.Va)(d[e]);if(0==f.lastIndexOf(c,0))return f.substr(c.length);if(f==a)return\"\"}return b};_.h.remove=function(a,b,c){var d=void 0!==this.get(a);this.set(a,\"\",{Ld:0,path:b,domain:c});return d};_.h.Pa=function(){return Xd(this).keys};_.h.Ba=function(){return Xd(this).values};_.h.Hb=function(){return!this.j.cookie};_.h.clear=function(){for(var a=Xd(this).keys,b=a.length-1;0<=b;b--)this.remove(a[b])};\n",
      "Xd=function(a){a=(a.j.cookie||\"\").split(\";\");for(var b=[],c=[],d,e,f=0;f<a.length;f++)e=(0,_.Va)(a[f]),d=e.indexOf(\"=\"),-1==d?(b.push(\"\"),c.push(e)):(b.push(e.substring(0,d)),c.push(e.substring(d+1)));return{keys:b,values:c}};_.Yd=new _.Wd(\"undefined\"==typeof document?null:document);\n",
      "var Zd=function(a,b){this.A=a;this.B=b;this.o=0;this.j=null};Zd.prototype.get=function(){if(0<this.o){this.o--;var a=this.j;this.j=a.next;a.next=null}else a=this.A();return a};var $d=function(a,b){a.B(b);100>a.o&&(a.o++,b.next=a.j,a.j=b)};\n",
      "var ae,be=function(){var a=_.u.MessageChannel;\"undefined\"===typeof a&&\"undefined\"!==typeof window&&window.postMessage&&window.addEventListener&&!_.y(\"Presto\")&&(a=function(){var e=_.Vd(\"IFRAME\");e.style.display=\"none\";document.documentElement.appendChild(e);var f=e.contentWindow;e=f.document;e.open();e.close();var g=\"callImmediate\"+Math.random(),k=\"file:\"==f.location.protocol?\"*\":f.location.protocol+\"//\"+f.location.host;e=(0,_.v)(function(l){if((\"*\"==k||l.origin==k)&&l.data==g)this.port1.onmessage()},\n",
      "this);f.addEventListener(\"message\",e,!1);this.port1={};this.port2={postMessage:function(){f.postMessage(g,k)}}});if(\"undefined\"!==typeof a&&!_.rb()){var b=new a,c={},d=c;b.port1.onmessage=function(){if(void 0!==c.next){c=c.next;var e=c.Qf;c.Qf=null;e()}};return function(e){d.next={Qf:e};d=d.next;b.port2.postMessage(0)}}return function(e){_.u.setTimeout(e,0)}};\n",
      "var ce=function(){this.o=this.j=null};ce.prototype.add=function(a,b){var c=de.get();c.set(a,b);this.o?this.o.next=c:this.j=c;this.o=c};ce.prototype.remove=function(){var a=null;this.j&&(a=this.j,this.j=this.j.next,this.j||(this.o=null),a.next=null);return a};var de=new Zd(function(){return new ee},function(a){return a.reset()}),ee=function(){this.next=this.scope=this.Cb=null};ee.prototype.set=function(a,b){this.Cb=a;this.scope=b;this.next=null};\n",
      "ee.prototype.reset=function(){this.next=this.scope=this.Cb=null};\n",
      "var fe,ge,he,ie,ke;_.je=function(a,b){fe||ge();he||(fe(),he=!0);ie.add(a,b)};ge=function(){if(_.u.Promise&&_.u.Promise.resolve){var a=_.u.Promise.resolve(void 0);fe=function(){a.then(ke)}}else fe=function(){var b=ke;\"function\"!==typeof _.u.setImmediate||_.u.Window&&_.u.Window.prototype&&!_.y(\"Edge\")&&_.u.Window.prototype.setImmediate==_.u.setImmediate?(ae||(ae=be()),ae(b)):_.u.setImmediate(b)}};he=!1;ie=new ce;\n",
      "ke=function(){for(var a;a=ie.remove();){try{a.Cb.call(a.scope)}catch(b){pd(b)}$d(de,a)}he=!1};\n",
      "_.le=function(a){if(!a)return!1;try{return!!a.$goog_Thenable}catch(b){return!1}};\n",
      "var oe,te,xe,Ae,we,ue,ve,Be,ze,Ce;_.ne=function(a){this.j=0;this.D=void 0;this.B=this.o=this.A=null;this.C=this.F=!1;if(a!=_.za)try{var b=this;a.call(void 0,function(c){_.me(b,2,c)},function(c){_.me(b,3,c)})}catch(c){_.me(this,3,c)}};oe=function(){this.next=this.context=this.o=this.A=this.j=null;this.B=!1};oe.prototype.reset=function(){this.context=this.o=this.A=this.j=null;this.B=!1};\n",
      "var pe=new Zd(function(){return new oe},function(a){a.reset()}),qe=function(a,b,c){var d=pe.get();d.A=a;d.o=b;d.context=c;return d};_.ne.prototype.then=function(a,b,c){return _.re(this,\"function\"===typeof a?a:null,\"function\"===typeof b?b:null,c)};_.ne.prototype.$goog_Thenable=!0;_.ne.prototype.cancel=function(a){if(0==this.j){var b=new _.se(a);_.je(function(){te(this,b)},this)}};\n",
      "te=function(a,b){if(0==a.j)if(a.A){var c=a.A;if(c.o){for(var d=0,e=null,f=null,g=c.o;g&&(g.B||(d++,g.j==a&&(e=g),!(e&&1<d)));g=g.next)e||(f=g);e&&(0==c.j&&1==d?te(c,b):(f?(d=f,d.next==c.B&&(c.B=d),d.next=d.next.next):ue(c),ve(c,e,3,b)))}a.A=null}else _.me(a,3,b)};xe=function(a,b){a.o||2!=a.j&&3!=a.j||we(a);a.B?a.B.next=b:a.o=b;a.B=b};\n",
      "_.re=function(a,b,c,d){var e=qe(null,null,null);e.j=new _.ne(function(f,g){e.A=b?function(k){try{var l=b.call(d,k);f(l)}catch(m){g(m)}}:f;e.o=c?function(k){try{var l=c.call(d,k);void 0===l&&k instanceof _.se?g(k):f(l)}catch(m){g(m)}}:g});e.j.A=a;xe(a,e);return e.j};_.ne.prototype.H=function(a){this.j=0;_.me(this,2,a)};_.ne.prototype.J=function(a){this.j=0;_.me(this,3,a)};\n",
      "_.me=function(a,b,c){0==a.j&&(a===c&&(b=3,c=new TypeError(\"v\")),a.j=1,_.ye(c,a.H,a.J,a)||(a.D=c,a.j=b,a.A=null,we(a),3!=b||c instanceof _.se||ze(a,c)))};_.ye=function(a,b,c,d){if(a instanceof _.ne)return xe(a,qe(b||_.za,c||null,d)),!0;if(_.le(a))return a.then(b,c,d),!0;if(_.Da(a))try{var e=a.then;if(\"function\"===typeof e)return Ae(a,e,b,c,d),!0}catch(f){return c.call(d,f),!0}return!1};\n",
      "Ae=function(a,b,c,d,e){var f=!1,g=function(l){f||(f=!0,c.call(e,l))},k=function(l){f||(f=!0,d.call(e,l))};try{b.call(a,g,k)}catch(l){k(l)}};we=function(a){a.F||(a.F=!0,_.je(a.G,a))};ue=function(a){var b=null;a.o&&(b=a.o,a.o=b.next,b.next=null);a.o||(a.B=null);return b};_.ne.prototype.G=function(){for(var a;a=ue(this);)ve(this,a,this.j,this.D);this.F=!1};\n",
      "ve=function(a,b,c,d){if(3==c&&b.o&&!b.B)for(;a&&a.C;a=a.A)a.C=!1;if(b.j)b.j.A=null,Be(b,c,d);else try{b.B?b.A.call(b.context):Be(b,c,d)}catch(e){Ce.call(null,e)}$d(pe,b)};Be=function(a,b,c){2==b?a.A.call(a.context,c):a.o&&a.o.call(a.context,c)};ze=function(a,b){a.C=!0;_.je(function(){a.C&&Ce.call(null,b)})};Ce=pd;_.se=function(a){_.aa.call(this,a)};_.x(_.se,_.aa);_.se.prototype.name=\"cancel\";\n",
      "var De=function(){if(!_.u.addEventListener||!Object.defineProperty)return!1;var a=!1,b=Object.defineProperty({},\"passive\",{get:function(){a=!0}});try{_.u.addEventListener(\"test\",_.za,b),_.u.removeEventListener(\"test\",_.za,b)}catch(c){}return a}();\n",
      "_.Ee=_.Mb?\"webkitTransitionEnd\":_.Ib?\"otransitionend\":\"transitionend\";\n",
      "_.Fe=/^(?:([^:/?#.]+):)?(?:\\/\\/(?:([^\\\\/?#]*)@)?([^\\\\/?#]*?)(?::([0-9]+))?(?=[\\\\/?#]|$))?([^?#]+)?(?:\\?([^#]*))?(?:#([\\s\\S]*))?$/;_.Ge=function(a){a=a.match(_.Fe)[1]||null;!a&&_.u.self&&_.u.self.location&&(a=_.u.self.location.protocol,a=a.substr(0,a.length-1));return a?a.toLowerCase():\"\"};\n",
      "_.He=\"StopIteration\"in _.u?_.u.StopIteration:{message:\"StopIteration\",stack:\"\"};_.Ie=function(){};_.Ie.prototype.next=function(){throw _.He;};_.Ie.prototype.Lb=function(){return this};\n",
      "_.Ke=function(a,b){this.o={};this.j=[];this.B=this.A=0;var c=arguments.length;if(1<c){if(c%2)throw Error(\"j\");for(var d=0;d<c;d+=2)this.set(arguments[d],arguments[d+1])}else a&&_.Je(this,a)};_.h=_.Ke.prototype;_.h.Ba=function(){Le(this);for(var a=[],b=0;b<this.j.length;b++)a.push(this.o[this.j[b]]);return a};_.h.Pa=function(){Le(this);return this.j.concat()};_.h.Hb=function(){return 0==this.A};_.h.clear=function(){this.o={};this.B=this.A=this.j.length=0};\n",
      "_.h.remove=function(a){return _.Me(this.o,a)?(delete this.o[a],this.A--,this.B++,this.j.length>2*this.A&&Le(this),!0):!1};var Le=function(a){if(a.A!=a.j.length){for(var b=0,c=0;b<a.j.length;){var d=a.j[b];_.Me(a.o,d)&&(a.j[c++]=d);b++}a.j.length=c}if(a.A!=a.j.length){var e={};for(c=b=0;b<a.j.length;)d=a.j[b],_.Me(e,d)||(a.j[c++]=d,e[d]=1),b++;a.j.length=c}};_.Ke.prototype.get=function(a,b){return _.Me(this.o,a)?this.o[a]:b};\n",
      "_.Ke.prototype.set=function(a,b){_.Me(this.o,a)||(this.A++,this.j.push(a),this.B++);this.o[a]=b};_.Je=function(a,b){if(b instanceof _.Ke)for(var c=b.Pa(),d=0;d<c.length;d++)a.set(c[d],b.get(c[d]));else for(c in b)a.set(c,b[c])};_.Ke.prototype.forEach=function(a,b){for(var c=this.Pa(),d=0;d<c.length;d++){var e=c[d],f=this.get(e);a.call(b,f,e,this)}};\n",
      "_.Ke.prototype.Lb=function(a){Le(this);var b=0,c=this.B,d=this,e=new _.Ie;e.next=function(){if(c!=d.B)throw Error(\"x\");if(b>=d.j.length)throw _.He;var f=d.j[b++];return a?f:d.o[f]};return e};_.Me=function(a,b){return Object.prototype.hasOwnProperty.call(a,b)};\n",
      "var Ne;Ne=function(a){if(a.Ba&&\"function\"==typeof a.Ba)return a.Ba();if(\"string\"===typeof a)return a.split(\"\");if(_.Ca(a)){for(var b=[],c=a.length,d=0;d<c;d++)b.push(a[d]);return b}b=[];c=0;for(d in a)b[c++]=a[d];return b};\n",
      "_.Oe=function(a,b){if(a.forEach&&\"function\"==typeof a.forEach)a.forEach(b,void 0);else if(_.Ca(a)||\"string\"===typeof a)_.Ka(a,b,void 0);else{if(a.Pa&&\"function\"==typeof a.Pa)var c=a.Pa();else if(a.Ba&&\"function\"==typeof a.Ba)c=void 0;else if(_.Ca(a)||\"string\"===typeof a){c=[];for(var d=a.length,e=0;e<d;e++)c.push(e)}else c=_.Cd(a);d=Ne(a);e=d.length;for(var f=0;f<e;f++)b.call(void 0,d[f],c&&c[f],a)}};\n",
      "_.Pe=function(a){_.B(this,a,0,-1,null,null)};_.x(_.Pe,_.A);_.Pe.prototype.Sd=function(a){return _.G(this,3,a)};\n",
      "_.Re=function(a,b){this.type=\"undefined\"!=typeof _.Qe&&a instanceof _.Qe?String(a):a;this.currentTarget=this.target=b;this.defaultPrevented=this.j=!1};_.Re.prototype.stopPropagation=function(){this.j=!0};_.Re.prototype.preventDefault=function(){this.defaultPrevented=!0};\n",
      "_.Se=function(a,b){_.Re.call(this,a?a.type:\"\");this.relatedTarget=this.currentTarget=this.target=null;this.button=this.screenY=this.screenX=this.clientY=this.clientX=this.offsetY=this.offsetX=0;this.key=\"\";this.charCode=this.keyCode=0;this.metaKey=this.shiftKey=this.altKey=this.ctrlKey=!1;this.state=null;this.pointerId=0;this.pointerType=\"\";this.Ga=null;a&&this.init(a,b)};_.x(_.Se,_.Re);var Te={2:\"touch\",3:\"pen\",4:\"mouse\"};\n",
      "_.Se.prototype.init=function(a,b){var c=this.type=a.type,d=a.changedTouches&&a.changedTouches.length?a.changedTouches[0]:null;this.target=a.target||a.srcElement;this.currentTarget=b;(b=a.relatedTarget)?_.Lb&&(_.Pd(b,\"nodeName\")||(b=null)):\"mouseover\"==c?b=a.fromElement:\"mouseout\"==c&&(b=a.toElement);this.relatedTarget=b;d?(this.clientX=void 0!==d.clientX?d.clientX:d.pageX,this.clientY=void 0!==d.clientY?d.clientY:d.pageY,this.screenX=d.screenX||0,this.screenY=d.screenY||0):(this.offsetX=_.Mb||void 0!==\n",
      "a.offsetX?a.offsetX:a.layerX,this.offsetY=_.Mb||void 0!==a.offsetY?a.offsetY:a.layerY,this.clientX=void 0!==a.clientX?a.clientX:a.pageX,this.clientY=void 0!==a.clientY?a.clientY:a.pageY,this.screenX=a.screenX||0,this.screenY=a.screenY||0);this.button=a.button;this.keyCode=a.keyCode||0;this.key=a.key||\"\";this.charCode=a.charCode||(\"keypress\"==c?a.keyCode:0);this.ctrlKey=a.ctrlKey;this.altKey=a.altKey;this.shiftKey=a.shiftKey;this.metaKey=a.metaKey;this.pointerId=a.pointerId||0;this.pointerType=\"string\"===\n",
      "typeof a.pointerType?a.pointerType:Te[a.pointerType]||\"\";this.state=a.state;this.Ga=a;a.defaultPrevented&&_.Se.U.preventDefault.call(this)};_.Se.prototype.stopPropagation=function(){_.Se.U.stopPropagation.call(this);this.Ga.stopPropagation?this.Ga.stopPropagation():this.Ga.cancelBubble=!0};_.Se.prototype.preventDefault=function(){_.Se.U.preventDefault.call(this);var a=this.Ga;a.preventDefault?a.preventDefault():a.returnValue=!1};\n",
      "var Ue;Ue=\"closure_listenable_\"+(1E6*Math.random()|0);_.Ve=function(a){return!(!a||!a[Ue])};\n",
      "var We=0;\n",
      "var Xe=function(a,b,c,d,e){this.listener=a;this.j=null;this.src=b;this.type=c;this.capture=!!d;this.Dd=e;this.key=++We;this.Sc=this.qd=!1},Ye=function(a){a.Sc=!0;a.listener=null;a.j=null;a.src=null;a.Dd=null};\n",
      "var Ze=function(a){this.src=a;this.j={};this.o=0},af;Ze.prototype.add=function(a,b,c,d,e){var f=a.toString();a=this.j[f];a||(a=this.j[f]=[],this.o++);var g=$e(a,b,d,e);-1<g?(b=a[g],c||(b.qd=!1)):(b=new Xe(b,this.src,f,!!d,e),b.qd=c,a.push(b));return b};Ze.prototype.remove=function(a,b,c,d){a=a.toString();if(!(a in this.j))return!1;var e=this.j[a];b=$e(e,b,c,d);return-1<b?(Ye(e[b]),Array.prototype.splice.call(e,b,1),0==e.length&&(delete this.j[a],this.o--),!0):!1};\n",
      "af=function(a,b){var c=b.type;if(!(c in a.j))return!1;var d=_.od(a.j[c],b);d&&(Ye(b),0==a.j[c].length&&(delete a.j[c],a.o--));return d};_.bf=function(a){var b=0,c;for(c in a.j){for(var d=a.j[c],e=0;e<d.length;e++)++b,Ye(d[e]);delete a.j[c];a.o--}};Ze.prototype.Ad=function(a,b){a=this.j[a.toString()];var c=[];if(a)for(var d=0;d<a.length;++d){var e=a[d];e.capture==b&&c.push(e)}return c};Ze.prototype.Kc=function(a,b,c,d){a=this.j[a.toString()];var e=-1;a&&(e=$e(a,b,c,d));return-1<e?a[e]:null};\n",
      "Ze.prototype.hasListener=function(a,b){var c=void 0!==a,d=c?a.toString():\"\",e=void 0!==b;return Bd(this.j,function(f){for(var g=0;g<f.length;++g)if(!(c&&f[g].type!=d||e&&f[g].capture!=b))return!0;return!1})};var $e=function(a,b,c,d){for(var e=0;e<a.length;++e){var f=a[e];if(!f.Sc&&f.listener==b&&f.capture==!!c&&f.Dd==d)return e}return-1};\n",
      "var cf,df,ef,hf,kf,lf,mf,pf;cf=\"closure_lm_\"+(1E6*Math.random()|0);df={};ef=0;_.N=function(a,b,c,d,e){if(d&&d.once)return _.ff(a,b,c,d,e);if(Array.isArray(b)){for(var f=0;f<b.length;f++)_.N(a,b[f],c,d,e);return null}c=_.gf(c);return _.Ve(a)?a.K(b,c,_.Da(d)?!!d.capture:!!d,e):hf(a,b,c,!1,d,e)};\n",
      "hf=function(a,b,c,d,e,f){if(!b)throw Error(\"y\");var g=_.Da(e)?!!e.capture:!!e,k=_.jf(a);k||(a[cf]=k=new Ze(a));c=k.add(b,c,d,g,f);if(c.j)return c;d=kf();c.j=d;d.src=a;d.listener=c;if(a.addEventListener)De||(e=g),void 0===e&&(e=!1),a.addEventListener(b.toString(),d,e);else if(a.attachEvent)a.attachEvent(lf(b.toString()),d);else if(a.addListener&&a.removeListener)a.addListener(d);else throw Error(\"z\");ef++;return c};kf=function(){var a=mf,b=function(c){return a.call(b.src,b.listener,c)};return b};\n",
      "_.ff=function(a,b,c,d,e){if(Array.isArray(b)){for(var f=0;f<b.length;f++)_.ff(a,b[f],c,d,e);return null}c=_.gf(c);return _.Ve(a)?a.Ra(b,c,_.Da(d)?!!d.capture:!!d,e):hf(a,b,c,!0,d,e)};_.nf=function(a,b,c,d,e){if(Array.isArray(b))for(var f=0;f<b.length;f++)_.nf(a,b[f],c,d,e);else d=_.Da(d)?!!d.capture:!!d,c=_.gf(c),_.Ve(a)?a.sa(b,c,d,e):a&&(a=_.jf(a))&&(b=a.Kc(b,c,d,e))&&_.of(b)};\n",
      "_.of=function(a){if(\"number\"===typeof a||!a||a.Sc)return!1;var b=a.src;if(_.Ve(b))return af(b.ab,a);var c=a.type,d=a.j;b.removeEventListener?b.removeEventListener(c,d,a.capture):b.detachEvent?b.detachEvent(lf(c),d):b.addListener&&b.removeListener&&b.removeListener(d);ef--;(c=_.jf(b))?(af(c,a),0==c.o&&(c.src=null,b[cf]=null)):Ye(a);return!0};lf=function(a){return a in df?df[a]:df[a]=\"on\"+a};\n",
      "mf=function(a,b){if(a.Sc)a=!0;else{b=new _.Se(b,this);var c=a.listener,d=a.Dd||a.src;a.qd&&_.of(a);a=c.call(d,b)}return a};_.jf=function(a){a=a[cf];return a instanceof Ze?a:null};pf=\"__closure_events_fn_\"+(1E9*Math.random()>>>0);_.gf=function(a){if(\"function\"===typeof a)return a;a[pf]||(a[pf]=function(b){return a.handleEvent(b)});return a[pf]};\n",
      "_.O=function(){_.J.call(this);this.ab=new Ze(this);this.Zh=this;this.Pd=null};_.x(_.O,_.J);_.O.prototype[Ue]=!0;_.h=_.O.prototype;_.h.kf=function(a){this.Pd=a};_.h.addEventListener=function(a,b,c,d){_.N(this,a,b,c,d)};_.h.removeEventListener=function(a,b,c,d){_.nf(this,a,b,c,d)};\n",
      "_.h.dispatchEvent=function(a){var b,c=this.Pd;if(c)for(b=[];c;c=c.Pd)b.push(c);c=this.Zh;var d=a.type||a;if(\"string\"===typeof a)a=new _.Re(a,c);else if(a instanceof _.Re)a.target=a.target||c;else{var e=a;a=new _.Re(d,c);_.Ra(a,e)}e=!0;if(b)for(var f=b.length-1;!a.j&&0<=f;f--){var g=a.currentTarget=b[f];e=qf(g,d,!0,a)&&e}a.j||(g=a.currentTarget=c,e=qf(g,d,!0,a)&&e,a.j||(e=qf(g,d,!1,a)&&e));if(b)for(f=0;!a.j&&f<b.length;f++)g=a.currentTarget=b[f],e=qf(g,d,!1,a)&&e;return e};\n",
      "_.h.P=function(){_.O.U.P.call(this);this.ab&&_.bf(this.ab);this.Pd=null};_.h.K=function(a,b,c,d){return this.ab.add(String(a),b,!1,c,d)};_.h.Ra=function(a,b,c,d){return this.ab.add(String(a),b,!0,c,d)};_.h.sa=function(a,b,c,d){return this.ab.remove(String(a),b,c,d)};var qf=function(a,b,c,d){b=a.ab.j[String(b)];if(!b)return!0;b=b.concat();for(var e=!0,f=0;f<b.length;++f){var g=b[f];if(g&&!g.Sc&&g.capture==c){var k=g.listener,l=g.Dd||g.src;g.qd&&af(a.ab,g);e=!1!==k.call(l,d)&&e}}return e&&!d.defaultPrevented};\n",
      "_.O.prototype.Ad=function(a,b){return this.ab.Ad(String(a),b)};_.O.prototype.Kc=function(a,b,c,d){return this.ab.Kc(String(a),b,c,d)};_.O.prototype.hasListener=function(a,b){return this.ab.hasListener(void 0!==a?String(a):void 0,b)};\n",
      "/*\n",
      "\n",
      "Math.uuid.js (v1.4)\n",
      "http://www.broofa.com\n",
      "mailto:robert@broofa.com\n",
      "Copyright (c) 2010 Robert Kieffer\n",
      "Dual licensed under the MIT and GPL licenses.\n",
      "*/\n",
      "var sf,rf,vf,wf,uf;_.tf=function(a){var b=[];rf(new sf,a,b);return b.join(\"\")};sf=function(){};\n",
      "rf=function(a,b,c){if(null==b)c.push(\"null\");else{if(\"object\"==typeof b){if(Array.isArray(b)){var d=b;b=d.length;c.push(\"[\");for(var e=\"\",f=0;f<b;f++)c.push(e),rf(a,d[f],c),e=\",\";c.push(\"]\");return}if(b instanceof String||b instanceof Number||b instanceof Boolean)b=b.valueOf();else{c.push(\"{\");e=\"\";for(d in b)Object.prototype.hasOwnProperty.call(b,d)&&(f=b[d],\"function\"!=typeof f&&(c.push(e),uf(d,c),c.push(\":\"),rf(a,f,c),e=\",\"));c.push(\"}\");return}}switch(typeof b){case \"string\":uf(b,c);break;case \"number\":c.push(isFinite(b)&&\n",
      "!isNaN(b)?String(b):\"null\");break;case \"boolean\":c.push(String(b));break;case \"function\":c.push(\"null\");break;default:throw Error(\"B`\"+typeof b);}}};vf={'\"':'\\\\\"',\"\\\\\":\"\\\\\\\\\",\"/\":\"\\\\/\",\"\\b\":\"\\\\b\",\"\\f\":\"\\\\f\",\"\\n\":\"\\\\n\",\"\\r\":\"\\\\r\",\"\\t\":\"\\\\t\",\"\\x0B\":\"\\\\u000b\"};wf=/\\uffff/.test(\"\\uffff\")?/[\\\\\"\\x00-\\x1f\\x7f-\\uffff]/g:/[\\\\\"\\x00-\\x1f\\x7f-\\xff]/g;uf=function(a,b){b.push('\"',a.replace(wf,function(c){var d=vf[c];d||(d=\"\\\\u\"+(c.charCodeAt(0)|65536).toString(16).substr(1),vf[c]=d);return d}),'\"')};\n",
      "_.xf=function(a){switch(a){case 200:case 201:case 202:case 204:case 206:case 304:case 1223:return!0;default:return!1}};\n",
      "_.yf=function(){};_.yf.prototype.o=null;var zf=function(a){return a.o||(a.o=a.B())};\n",
      "var Bf;Bf=function(){};_.x(Bf,_.yf);Bf.prototype.j=function(){var a=Cf(this);return a?new ActiveXObject(a):new XMLHttpRequest};Bf.prototype.B=function(){var a={};Cf(this)&&(a[0]=!0,a[1]=!0);return a};var Cf=function(a){if(!a.A&&\"undefined\"==typeof XMLHttpRequest&&\"undefined\"!=typeof ActiveXObject){for(var b=[\"MSXML2.XMLHTTP.6.0\",\"MSXML2.XMLHTTP.3.0\",\"MSXML2.XMLHTTP\",\"Microsoft.XMLHTTP\"],c=0;c<b.length;c++){var d=b[c];try{return new ActiveXObject(d),a.A=d}catch(e){}}throw Error(\"C\");}return a.A};\n",
      "_.Af=new Bf;\n",
      "_.Df=function(a,b){_.O.call(this);this.B=a||1;this.A=b||_.u;this.C=(0,_.v)(this.D,this);this.F=_.Ad()};_.x(_.Df,_.O);_.Df.prototype.o=!1;_.Df.prototype.j=null;_.Ef=function(a,b){a.B=b;a.j&&a.o?(a.stop(),a.start()):a.j&&a.stop()};_.Df.prototype.D=function(){if(this.o){var a=_.Ad()-this.F;0<a&&a<.8*this.B?this.j=this.A.setTimeout(this.C,this.B-a):(this.j&&(this.A.clearTimeout(this.j),this.j=null),this.dispatchEvent(\"tick\"),this.o&&(this.stop(),this.start()))}};\n",
      "_.Df.prototype.start=function(){this.o=!0;this.j||(this.j=this.A.setTimeout(this.C,this.B),this.F=_.Ad())};_.Df.prototype.stop=function(){this.o=!1;this.j&&(this.A.clearTimeout(this.j),this.j=null)};_.Df.prototype.P=function(){_.Df.U.P.call(this);this.stop();delete this.A};_.Ff=function(a,b,c){if(\"function\"===typeof a)c&&(a=(0,_.v)(a,c));else if(a&&\"function\"==typeof a.handleEvent)a=(0,_.v)(a.handleEvent,a);else throw Error(\"D\");return 2147483647<Number(b)?-1:_.u.setTimeout(a,b||0)};_.Gf=function(a){_.u.clearTimeout(a)};\n",
      "var If,Jf;_.Hf=function(a){_.O.call(this);this.headers=new _.Ke;this.N=a||null;this.o=!1;this.M=this.j=null;this.D=\"\";this.A=0;this.C=\"\";this.B=this.S=this.H=this.O=!1;this.F=0;this.J=null;this.T=\"\";this.R=this.G=!1};_.x(_.Hf,_.O);If=/^https?$/i;Jf=[\"POST\",\"PUT\"];_.Kf=[];_.Hf.prototype.W=function(){this.ha();_.od(_.Kf,this)};\n",
      "_.Hf.prototype.send=function(a,b,c,d){if(this.j)throw Error(\"F`\"+this.D+\"`\"+a);b=b?b.toUpperCase():\"GET\";this.D=a;this.C=\"\";this.A=0;this.O=!1;this.o=!0;this.j=this.N?this.N.j():_.Af.j();this.M=this.N?zf(this.N):zf(_.Af);this.j.onreadystatechange=(0,_.v)(this.Y,this);try{this.S=!0,this.j.open(b,String(a),!0),this.S=!1}catch(f){Lf(this,f);return}a=c||\"\";var e=new _.Ke(this.headers);d&&_.Oe(d,function(f,g){e.set(g,f)});d=md(e.Pa());c=_.u.FormData&&a instanceof _.u.FormData;!_.nd(Jf,b)||d||c||e.set(\"Content-Type\",\n",
      "\"application/x-www-form-urlencoded;charset=utf-8\");e.forEach(function(f,g){this.j.setRequestHeader(g,f)},this);this.T&&(this.j.responseType=this.T);\"withCredentials\"in this.j&&this.j.withCredentials!==this.G&&(this.j.withCredentials=this.G);try{Mf(this),0<this.F&&((this.R=Nf(this.j))?(this.j.timeout=this.F,this.j.ontimeout=(0,_.v)(this.Uc,this)):this.J=_.Ff(this.Uc,this.F,this)),this.H=!0,this.j.send(a),this.H=!1}catch(f){Lf(this,f)}};\n",
      "var Nf=function(a){return _.z&&_.cc(9)&&\"number\"===typeof a.timeout&&void 0!==a.ontimeout},ld=function(a){return\"content-type\"==a.toLowerCase()};_.Hf.prototype.Uc=function(){\"undefined\"!=typeof _.xa&&this.j&&(this.C=\"Timed out after \"+this.F+\"ms, aborting\",this.A=8,this.dispatchEvent(\"timeout\"),this.abort(8))};var Lf=function(a,b){a.o=!1;a.j&&(a.B=!0,a.j.abort(),a.B=!1);a.C=b;a.A=5;Of(a);Pf(a)},Of=function(a){a.O||(a.O=!0,a.dispatchEvent(\"complete\"),a.dispatchEvent(\"error\"))};\n",
      "_.Hf.prototype.abort=function(a){this.j&&this.o&&(this.o=!1,this.B=!0,this.j.abort(),this.B=!1,this.A=a||7,this.dispatchEvent(\"complete\"),this.dispatchEvent(\"abort\"),Pf(this))};_.Hf.prototype.P=function(){this.j&&(this.o&&(this.o=!1,this.B=!0,this.j.abort(),this.B=!1),Pf(this,!0));_.Hf.U.P.call(this)};_.Hf.prototype.Y=function(){this.Ya||(this.S||this.H||this.B?Qf(this):this.X())};_.Hf.prototype.X=function(){Qf(this)};\n",
      "var Qf=function(a){if(a.o&&\"undefined\"!=typeof _.xa&&(!a.M[1]||4!=_.Rf(a)||2!=a.mb()))if(a.H&&4==_.Rf(a))_.Ff(a.Y,0,a);else if(a.dispatchEvent(\"readystatechange\"),4==_.Rf(a)){a.o=!1;try{if(a.Rc())a.dispatchEvent(\"complete\"),a.dispatchEvent(\"success\");else{a.A=6;try{var b=2<_.Rf(a)?a.j.statusText:\"\"}catch(c){b=\"\"}a.C=b+\" [\"+a.mb()+\"]\";Of(a)}}finally{Pf(a)}}},Pf=function(a,b){if(a.j){Mf(a);var c=a.j,d=a.M[0]?_.za:null;a.j=null;a.M=null;b||a.dispatchEvent(\"ready\");try{c.onreadystatechange=d}catch(e){}}},\n",
      "Mf=function(a){a.j&&a.R&&(a.j.ontimeout=null);a.J&&(_.Gf(a.J),a.J=null)};_.Hf.prototype.Rc=function(){var a=this.mb(),b;if(!(b=_.xf(a))){if(a=0===a)a=_.Ge(String(this.D)),a=!If.test(a);b=a}return b};_.Rf=function(a){return a.j?a.j.readyState:0};_.Hf.prototype.mb=function(){try{return 2<_.Rf(this)?this.j.status:-1}catch(a){return-1}};_.Hf.prototype.Bd=function(){try{return this.j?this.j.responseText:\"\"}catch(a){return\"\"}};\n",
      "var Qd=function(a){_.B(this,a,0,-1,null,null)};_.x(Qd,_.A);\n",
      "_.Sf=new Rd;\n",
      "var Tf,Wf,Vf;_.Uf=function(a){var b=window.google&&window.google.logUrl?\"\":\"https://www.google.com\";b+=\"/gen_204?\";b+=a.o(2040-b.length);Tf(_.Md(b)||_.kb)};Tf=function(a){var b=new Image,c=Vf;b.onerror=b.onload=b.onabort=function(){c in Wf&&delete Wf[c]};Wf[Vf++]=b;b.src=_.hb(a)};Wf=[];Vf=0;\n",
      "_.Xf=function(){this.data={}};_.Xf.prototype.j=function(){window.console&&window.console.log&&window.console.log(\"Log data: \",this.data)};_.Xf.prototype.o=function(a){var b=[],c;for(c in this.data)b.push(encodeURIComponent(c)+\"=\"+encodeURIComponent(String(this.data[c])));return(\"atyp=i&zx=\"+(new Date).getTime()+\"&\"+b.join(\"&\")).substr(0,a)};\n",
      "_.Yf=function(a,b){this.data={};var c=_.I(a,_.xc,8)||new _.xc;window.google&&window.google.kEI&&(this.data.ei=window.google.kEI);this.data.sei=_.p(_.C(a,10));this.data.ogf=_.p(_.C(c,3));var d=window.google&&window.google.sn?/.*hp$/.test(window.google.sn)?!1:!0:_.n(_.F(a,7));this.data.ogrp=d?\"1\":\"\";this.data.ogv=_.p(_.C(c,6))+\".\"+_.p(_.C(c,7));this.data.ogd=_.p(_.C(a,21));this.data.ogc=_.p(_.C(a,20));this.data.ogl=_.p(_.C(a,5));b&&(this.data.oggv=b)};_.r(_.Yf,_.Xf);\n",
      "_.Zf=function(a){_.J.call(this);this.Y=a;this.S={}};_.x(_.Zf,_.J);var $f=[];_.Zf.prototype.K=function(a,b,c,d){return ag(this,a,b,c,d)};_.Zf.prototype.F=function(a,b,c,d,e){return ag(this,a,b,c,d,e)};var ag=function(a,b,c,d,e,f){Array.isArray(c)||(c&&($f[0]=c.toString()),c=$f);for(var g=0;g<c.length;g++){var k=_.N(b,c[g],d||a.handleEvent,e||!1,f||a.Y||a);if(!k)break;a.S[k.key]=k}return a};_.Zf.prototype.Ra=function(a,b,c,d){return bg(this,a,b,c,d)};\n",
      "var bg=function(a,b,c,d,e,f){if(Array.isArray(c))for(var g=0;g<c.length;g++)bg(a,b,c[g],d,e,f);else{b=_.ff(b,c,d||a.handleEvent,e,f||a.Y||a);if(!b)return a;a.S[b.key]=b}return a};_.Zf.prototype.sa=function(a,b,c,d,e){if(Array.isArray(b))for(var f=0;f<b.length;f++)this.sa(a,b[f],c,d,e);else c=c||this.handleEvent,d=_.Da(d)?!!d.capture:!!d,e=e||this.Y||this,c=_.gf(c),d=!!d,b=_.Ve(a)?a.Kc(b,c,d,e):a?(a=_.jf(a))?a.Kc(b,c,d,e):null:null,b&&(_.of(b),delete this.S[b.key]);return this};\n",
      "_.cg=function(a){_.Pa(a.S,function(b,c){this.S.hasOwnProperty(c)&&_.of(b)},a);a.S={}};_.Zf.prototype.P=function(){_.Zf.U.P.call(this);_.cg(this)};_.Zf.prototype.handleEvent=function(){throw Error(\"G\");};\n",
      "\n",
      "}catch(e){_._DumpException(e)}\n",
      "try{\n",
      "/*\n",
      "\n",
      " Copyright The Closure Library Authors.\n",
      " SPDX-License-Identifier: Apache-2.0\n",
      "*/\n",
      "var dg,ng;_.eg=function(a,b){if((0,_.Ab)())for(;a.lastChild;)a.removeChild(a.lastChild);a.innerHTML=_.wb(b)};_.fg=function(a){return 9==a.nodeType?a:a.ownerDocument||a.document};_.gg=function(a,b){return\"string\"===typeof b?a.getElementById(b):b};_.hg=function(a){for(var b;b=a.firstChild;)a.removeChild(b)};_.ig=function(a){return a&&a.parentNode?a.parentNode.removeChild(a):null};_.jg=function(a){return _.Pc&&void 0!=a.children?a.children:_.La(a.childNodes,function(b){return 1==b.nodeType})};\n",
      "_.kg=function(a){return _.Da(a)&&1==a.nodeType};_.lg=function(a,b){if(!a||!b)return!1;if(a.contains&&1==b.nodeType)return a==b||a.contains(b);if(\"undefined\"!=typeof a.compareDocumentPosition)return a==b||!!(a.compareDocumentPosition(b)&16);for(;b&&a!=b;)b=b.parentNode;return b==a};\n",
      "_.mg=function(a,b){if(\"textContent\"in a)a.textContent=b;else if(3==a.nodeType)a.data=String(b);else if(a.firstChild&&3==a.firstChild.nodeType){for(;a.lastChild!=a.firstChild;)a.removeChild(a.lastChild);a.firstChild.data=String(b)}else _.hg(a),a.appendChild(_.fg(a).createTextNode(String(b)))};ng=function(a){this.j=a||_.u.document||document};_.h=ng.prototype;_.h.L=function(a){return _.gg(this.j,a)};_.h.la=function(a,b,c){return _.Wc(this.j,arguments)};\n",
      "_.h.createElement=function(a){return _.Uc(this.j,a)};_.h.xc=function(a,b){a.appendChild(b)};_.h.vf=_.hg;_.h.yc=_.ig;_.h.qh=_.jg;_.h.uf=_.lg;_.og=function(a){return a?new ng(_.fg(a)):dg||(dg=new ng)};\n",
      "_.pg=_.Lb?\"MozUserSelect\":_.Mb||_.Jb?\"WebkitUserSelect\":null;\n",
      "_.qg=function(){if(_.Qb){var a=/Windows NT ([0-9.]+)/;return(a=a.exec(_.ob))?a[1]:\"0\"}return _.Pb?(a=/1[0|1][_.][0-9_.]+/,(a=a.exec(_.ob))?a[0].replace(/_/g,\".\"):\"10\"):_.Sb?(a=/Android\\s+([^\\);]+)(\\)|;)/,(a=a.exec(_.ob))?a[1]:\"\"):_.Tb||_.Ub||_.Vb?(a=/(?:iPhone|CPU)\\s+OS\\s+(\\S+)/,(a=a.exec(_.ob))?a[1].replace(/_/g,\".\"):\"\"):\"\"}();\n",
      "var rg;rg=function(a){return(a=a.exec(_.ob))?a[1]:\"\"};_.sg=function(){if(_.gc)return rg(/Firefox\\/([0-9.]+)/);if(_.z||_.Jb||_.Ib)return _.bc;if(_.kc)return _.Eb()?rg(/CriOS\\/([0-9.]+)/):rg(/Chrome\\/([0-9.]+)/);if(_.lc&&!_.Eb())return rg(/Version\\/([0-9.]+)/);if(_.hc||_.ic){var a=/Version\\/(\\S+).*Mobile\\/(\\S+)/.exec(_.ob);if(a)return a[1]+\".\"+a[2]}else if(_.jc)return(a=rg(/Android\\s+([0-9.]+)/))?a:rg(/Version\\/([0-9.]+)/);return\"\"}();\n",
      "_.tg=function(){};_.Aa(_.tg);_.tg.prototype.j=0;\n",
      "\n",
      "}catch(e){_._DumpException(e)}\n",
      "try{\n",
      "/*\n",
      "\n",
      " Copyright The Closure Library Authors.\n",
      " SPDX-License-Identifier: Apache-2.0\n",
      "*/\n",
      "_.P=function(a,b,c){return _.Wc(document,arguments)};\n",
      "\n",
      "}catch(e){_._DumpException(e)}\n",
      "try{\n",
      "/*\n",
      "\n",
      " Copyright The Closure Library Authors.\n",
      " SPDX-License-Identifier: Apache-2.0\n",
      "*/\n",
      "_.ug=function(a){return 0==a.Ga.button&&!(_.Pb&&a.ctrlKey)};_.vg=function(a,b){return(b||document).getElementsByTagName(String(a))};\n",
      "var wg,yg;wg=function(){};_.xg=new wg;yg=[\"click\",\"keydown\",\"keyup\"];wg.prototype.K=function(a,b,c,d,e){var f=function(g){var k=_.gf(b),l=_.kg(g.target)?g.target.getAttribute(\"role\")||null:null;\"click\"==g.type&&_.ug(g)?k.call(d,g):13!=g.keyCode&&3!=g.keyCode||\"keyup\"==g.type?32!=g.keyCode||\"keyup\"!=g.type||\"button\"!=l&&\"tab\"!=l||(k.call(d,g),g.preventDefault()):(g.type=\"keypress\",k.call(d,g))};f.ob=b;f.tk=d;e?e.K(a,yg,f,c):_.N(a,yg,f,c)};\n",
      "wg.prototype.sa=function(a,b,c,d,e){for(var f,g=0;f=yg[g];g++){var k=a;var l=f;var m=!!c;l=_.Ve(k)?k.Ad(l,m):k?(k=_.jf(k))?k.Ad(l,m):[]:[];for(k=0;m=l[k];k++){var q=m.listener;if(q.ob==b&&q.tk==d){e?e.sa(a,f,m.listener,c,d):_.nf(a,f,m.listener,c,d);break}}}};\n",
      "\n",
      "}catch(e){_._DumpException(e)}\n",
      "try{\n",
      "_.Kh=function(a){return _.Fc(_.Ec.V(),a)};_.Lh=function(a,b,c,d,e,f,g){var k=new _.Hf;_.Kf.push(k);b&&k.K(\"complete\",b);k.Ra(\"ready\",k.W);f&&(k.F=Math.max(0,f));g&&(k.G=g);k.send(a,c,d,e)};\n",
      "\n",
      "}catch(e){_._DumpException(e)}\n",
      "try{\n",
      "/*\n",
      "\n",
      " Copyright The Closure Library Authors.\n",
      " SPDX-License-Identifier: Apache-2.0\n",
      "*/\n",
      "\n",
      "}catch(e){_._DumpException(e)}\n",
      "try{\n",
      "var cl,dl,ll,pl,ql,rl,tl,vl,wl,xl,Al,Bl,Cl,Dl,El,Fl,Gl,Il,Kl,Ll,Pl,Rl,om;\n",
      "cl=function(){function a(){e[0]=1732584193;e[1]=4023233417;e[2]=2562383102;e[3]=271733878;e[4]=3285377520;q=m=0}function b(t){for(var D=g,E=0;64>E;E+=4)D[E/4]=t[E]<<24|t[E+1]<<16|t[E+2]<<8|t[E+3];for(E=16;80>E;E++)t=D[E-3]^D[E-8]^D[E-14]^D[E-16],D[E]=(t<<1|t>>>31)&4294967295;t=e[0];var L=e[1],H=e[2],ca=e[3],fd=e[4];for(E=0;80>E;E++){if(40>E)if(20>E){var va=ca^L&(H^ca);var gd=1518500249}else va=L^H^ca,gd=1859775393;else 60>E?(va=L&H|ca&(L|H),gd=2400959708):(va=L^H^ca,gd=3395469782);va=((t<<5|t>>>27)&\n",
      "4294967295)+va+fd+gd+D[E]&4294967295;fd=ca;ca=H;H=(L<<30|L>>>2)&4294967295;L=t;t=va}e[0]=e[0]+t&4294967295;e[1]=e[1]+L&4294967295;e[2]=e[2]+H&4294967295;e[3]=e[3]+ca&4294967295;e[4]=e[4]+fd&4294967295}function c(t,D){if(\"string\"===typeof t){t=unescape(encodeURIComponent(t));for(var E=[],L=0,H=t.length;L<H;++L)E.push(t.charCodeAt(L));t=E}D||(D=t.length);E=0;if(0==m)for(;E+64<D;)b(t.slice(E,E+64)),E+=64,q+=64;for(;E<D;)if(f[m++]=t[E++],q++,64==m)for(m=0,b(f);E+64<D;)b(t.slice(E,E+64)),E+=64,q+=64}function d(){var t=\n",
      "[],D=8*q;56>m?c(k,56-m):c(k,64-(m-56));for(var E=63;56<=E;E--)f[E]=D&255,D>>>=8;b(f);for(E=D=0;5>E;E++)for(var L=24;0<=L;L-=8)t[D++]=e[E]>>L&255;return t}for(var e=[],f=[],g=[],k=[128],l=1;64>l;++l)k[l]=0;var m,q;a();return{reset:a,update:c,digest:d,xi:function(){for(var t=d(),D=\"\",E=0;E<t.length;E++)D+=\"0123456789ABCDEF\".charAt(Math.floor(t[E]/16))+\"0123456789ABCDEF\".charAt(t[E]%16);return D}}};\n",
      "dl=function(a,b,c){_.Lh(a.url,function(d){d=d.target;d.Rc()?b(d.Bd()):c(d.mb())},a.ef,a.body,a.rk,a.Ek,a.withCredentials)};_.il=function(){var a=_.I(_.K(),el,29)||new el,b=_.Td();if(fl)return fl;fl=a=new gl(a,b);return _.hl().j=a};_.jl=function(a,b){return null!=_.C(a,b)};_.kl=function(a,b,c){a.j||(a.j={});if(!a.j[c]){for(var d=_.C(a,c),e=[],f=0;f<d.length;f++)e[f]=new b(d[f]);a.j[c]=e}b=a.j[c];b==_.rc&&(b=a.j[c]=[]);return b};\n",
      "ll=function(a){if(Array.isArray(a)){for(var b=Array(a.length),c=0;c<a.length;c++){var d=a[c];null!=d&&(b[c]=\"object\"==typeof d?ll(d):d)}return b}if(_.qc&&a instanceof Uint8Array)return new Uint8Array(a);b={};for(c in a)d=a[c],null!=d&&(b[c]=\"object\"==typeof d?ll(d):d);return b};_.ml=function(a){return new a.constructor(ll(a.Ca()))};_.nl=function(a){_.B(this,a,0,-1,null,null)};_.x(_.nl,_.A);var el=function(a){_.B(this,a,0,-1,null,null)};_.x(el,_.A);\n",
      "_.ol=function(a,b,c){a.j||(a.j={});c=c||[];for(var d=[],e=0;e<c.length;e++)d[e]=c[e].Ca();a.j[b]=c;return _.G(a,b,d)};pl=null;ql=/^[\\w+/_-]+[=]{0,2}$/;rl=function(a){return(a=a.querySelector&&a.querySelector(\"script[nonce]\"))&&(a=a.nonce||a.getAttribute(\"nonce\"))&&ql.test(a)?a:\"\"};_.sl=function(a){if(a&&a!=_.u)return rl(a.document);null===pl&&(pl=rl(_.u.document));return pl};tl=function(a){var b=b||0;return function(){return a.apply(this,Array.prototype.slice.call(arguments,0,b))}};\n",
      "_.ul=function(a,b){a.src=_.Jd(b);(b=_.sl(a.ownerDocument&&a.ownerDocument.defaultView))&&a.setAttribute(\"nonce\",b)};vl=function(a,b){return a+Math.random()*(b-a)};wl=[2];xl=function(a){_.B(this,a,0,-1,wl,null)};_.x(xl,_.A);var yl=[1,2,3,4],zl=function(a){_.B(this,a,0,-1,yl,null)};_.x(zl,_.A);\n",
      "Al=function(a){if(!a)return\"\";a=a.split(\"#\")[0].split(\"?\")[0];a=a.toLowerCase();0==a.indexOf(\"//\")&&(a=window.location.protocol+a);/^[\\w\\-]*:\\/\\//.test(a)||(a=window.location.href);var b=a.substring(a.indexOf(\"://\")+3),c=b.indexOf(\"/\");-1!=c&&(b=b.substring(0,c));c=a.substring(0,a.indexOf(\"://\"));if(!c)throw Error(\"r`\"+a);if(\"http\"!==c&&\"https\"!==c&&\"chrome-extension\"!==c&&\"moz-extension\"!==c&&\"file\"!==c&&\"android-app\"!==c&&\"chrome-search\"!==c&&\"chrome-untrusted\"!==c&&\"chrome\"!==c&&\"app\"!==c&&\"devtools\"!==\n",
      "c)throw Error(\"s`\"+c);a=\"\";var d=b.indexOf(\":\");if(-1!=d){var e=b.substring(d+1);b=b.substring(0,d);if(\"http\"===c&&\"80\"!==e||\"https\"===c&&\"443\"!==e)a=\":\"+e}return c+\"://\"+b+a};Bl=function(a){var b=cl();b.update(a);return b.xi().toLowerCase()};\n",
      "Cl=function(a,b,c){var d=[],e=[];if(1==(Array.isArray(c)?2:1))return e=[b,a],_.Ka(d,function(k){e.push(k)}),Bl(e.join(\" \"));var f=[],g=[];_.Ka(c,function(k){g.push(k.key);f.push(k.value)});c=Math.floor((new Date).getTime()/1E3);e=0==f.length?[c,b,a]:[f.join(\":\"),c,b,a];_.Ka(d,function(k){e.push(k)});a=Bl(e.join(\" \"));a=[c,a];0==g.length||a.push(g.join(\"\"));return a.join(\"_\")};Dl=function(a,b,c){var d=String(_.u.location.href);return d&&a&&b?[b,Cl(Al(d),a,c||null)].join(\" \"):null};El={};\n",
      "Fl=function(a){return!!El.FPA_SAMESITE_PHASE2_MOD||!(void 0===a||!a)};Gl=function(a,b,c,d){(a=_.u[a])||(a=(new _.Wd(document)).get(b));return a?Dl(a,c,d):null};\n",
      "_.Hl=function(a,b){b=void 0===b?!1:b;var c=Al(String(_.u.location.href)),d=[];var e=b;e=void 0===e?!1:e;var f=_.u.__SAPISID||_.u.__APISID||_.u.__3PSAPISID||_.u.__OVERRIDE_SID;Fl(e)&&(f=f||_.u.__1PSAPISID);if(f)e=!0;else{var g=new _.Wd(document);f=g.get(\"SAPISID\")||g.get(\"APISID\")||g.get(\"__Secure-3PAPISID\")||g.get(\"SID\");Fl(e)&&(f=f||g.get(\"__Secure-1PAPISID\"));e=!!f}e&&(e=(c=0==c.indexOf(\"https:\")||0==c.indexOf(\"chrome-extension:\")||0==c.indexOf(\"moz-extension:\"))?_.u.__SAPISID:_.u.__APISID,e||(e=\n",
      "new _.Wd(document),e=e.get(c?\"SAPISID\":\"APISID\")||e.get(\"__Secure-3PAPISID\")),(e=e?Dl(e,c?\"SAPISIDHASH\":\"APISIDHASH\",a):null)&&d.push(e),c&&Fl(b)&&((b=Gl(\"__1PSAPISID\",\"__Secure-1PAPISID\",\"SAPISID1PHASH\",a))&&d.push(b),(a=Gl(\"__3PSAPISID\",\"__Secure-3PAPISID\",\"SAPISID3PHASH\",a))&&d.push(a)));return 0==d.length?null:d.join(\" \")};\n",
      "Il=function(a,b){if(!b)return a;var c=a.indexOf(\"#\");0>c&&(c=a.length);var d=a.indexOf(\"?\");if(0>d||d>c){d=c;var e=\"\"}else e=a.substring(d+1,c);a=[a.substr(0,d),e,a.substr(c)];c=a[1];a[1]=b?c?c+\"&\"+b:b:c;return a[0]+(a[1]?\"?\"+a[1]:\"\")+a[2]};_.Jl=function(a,b,c){if(Array.isArray(b))for(var d=0;d<b.length;d++)_.Jl(a,String(b[d]),c);else null!=b&&c.push(a+(\"\"===b?\"\":\"=\"+_.Nd(b)))};Kl=function(a,b){var c=[];for(b=b||0;b<a.length;b+=2)_.Jl(a[b],a[b+1],c);return c.join(\"&\")};\n",
      "Ll=function(a,b){var c=2==arguments.length?Kl(arguments[1],0):Kl(arguments,1);return Il(a,c)};_.Ml=function(a,b,c){c=null!=c?\"=\"+_.Nd(c):\"\";return Il(a,b+c)};_.Nl=function(a,b,c,d){for(var e=c.length;0<=(b=a.indexOf(c,b))&&b<d;){var f=a.charCodeAt(b-1);if(38==f||63==f)if(f=a.charCodeAt(b+e),!f||61==f||38==f||35==f)return b;b+=e+1}return-1};_.Ol=/#|$/;Pl=/[?&]($|#)/;\n",
      "_.Ql=function(a,b){for(var c=a.search(_.Ol),d=0,e,f=[];0<=(e=_.Nl(a,d,b,c));)f.push(a.substring(d,e)),d=Math.min(a.indexOf(\"&\",e)+1||c,c);f.push(a.substr(d));return f.join(\"\").replace(Pl,\"$1\")};Rl=function(a){_.B(this,a,0,-1,null,null)};_.x(Rl,_.A);var Sl=function(){return\"xxxxxxxx-xxxx-4xxx-yxxx-xxxxxxxxxxxx\".replace(/[xy]/g,function(a){var b=16*Math.random()|0;return(\"x\"==a?b:b&3|8).toString(16)})},Tl=function(a){this.o=this.j=this.A=a};Tl.prototype.reset=function(){this.o=this.j=this.A};\n",
      "var Ul=function(a){_.B(this,a,0,-1,null,null)};_.x(Ul,_.A);Ul.prototype.tc=function(a){return _.G(this,5,a)};var Vl=function(a){_.B(this,a,0,-1,null,null)};_.x(Vl,_.A);var Wl=[3,20,27],Xl=function(a){_.B(this,a,0,31,Wl,null)};_.x(Xl,_.A);var Yl=[3,5],Zl=function(a){_.B(this,a,0,17,Yl,null)};_.x(Zl,_.A);var $l=function(a,b){return _.ol(a,3,b)},am=function(a,b){return _.G(a,14,b)},bm=[5],cm=function(a){_.B(this,a,0,6,bm,null)};_.x(cm,_.A);var dm=function(){this.type=\"event-logged\"};_.x(dm,_.Re);\n",
      "var fm=function(a,b,c,d,e,f,g,k,l,m,q){_.O.call(this);this.da=a;this.Y=b||_.za;this.F=new Zl;this.ba=d;this.X=q;this.j=[];this.W=\"\";this.ka=_.qd(vl,0,1);this.J=e||null;this.C=c||null;this.M=g||!1;this.G=l||null;this.$=!1;this.Z=this.O=-1;this.R=!1;this.A=null;this.ea=!k;this.N=0;this.ia=1;this.T=f||!1;this.S=!1;(a=!this.T)&&!(a=_.kc&&_.cc(65)||_.gc&&_.cc(45)||_.lc&&_.cc(12))&&(a=_.Eb())&&(a=_.ob,b=\"\",_.y(\"Windows\")?(b=/Windows (?:NT|Phone) ([0-9.]+)/,b=(a=b.exec(a))?a[1]:\"0.0\"):_.Eb()?(b=/(?:iPhone|iPod|iPad|CPU)\\s+OS\\s+(\\S+)/,\n",
      "b=(a=b.exec(a))&&a[1].replace(/_/g,\".\")):_.y(\"Macintosh\")?(b=/Mac OS X ([0-9_.]+)/,b=(a=b.exec(a))?a[1].replace(/_/g,\".\"):\"10\"):-1!=_.ob.toLowerCase().indexOf(\"kaios\")?(b=/(?:KaiOS)\\/(\\S+)/i,b=(a=b.exec(a))&&a[1]):_.y(\"Android\")?(b=/Android\\s+([^\\);]+)(\\)|;)/,b=(a=b.exec(a))&&a[1]):_.y(\"CrOS\")&&(b=/(?:CrOS\\s+(?:i686|x86_64)\\s+([0-9.]+))/,b=(a=b.exec(a))&&a[1]),a=0<=_.eb(b||\"\",12));this.ca=a&&!!_.Ud()&&!!_.Ud().navigator&&!!_.Ud().navigator.sendBeacon;a=new Vl;a=_.G(a,1,1);f||(f=(new Ul).tc(document.documentElement.getAttribute(\"lang\")),\n",
      "_.M(a,11,f));_.M(this.F,1,a);_.G(this.F,2,this.da);this.B=new Tl(1E4);this.o=new _.Df(this.B.j);_.xd(this,this.o);_.N(this.o,\"tick\",tl(em(this,m)),!1,this);this.H=new _.Df(6E5);_.xd(this,this.H);_.N(this.H,\"tick\",tl(em(this,m)),!1,this);this.M||this.H.start();this.T||(_.N(_.Ud(),\"beforeunload\",this.D,!1,this),_.N(_.Ud(),\"unload\",this.D,!1,this),_.N(document,\"pagehide\",this.D,!1,this))};_.x(fm,_.O);var em=function(a,b){return b?function(){b().then(a.flush.bind(a))}:a.flush};\n",
      "fm.prototype.P=function(){this.D();fm.U.P.call(this)};var gm=function(a){a.J||(a.J=.01>a.ka()?\"https://www.google.com/log?format=json&hasfast=true\":\"https://play.google.com/log?format=json&hasfast=true\");return a.J};fm.prototype.$a=function(a){if(a instanceof Xl)this.log(a);else{var b=new Xl;a=a.o();b=_.G(b,8,a);this.log(b)}};var hm=function(a,b){a.B=new Tl(1>b?1:b);_.Ef(a.o,a.B.j)};\n",
      "fm.prototype.log=function(a){a=_.ml(a);var b=this.ia++;_.G(a,21,b);_.C(a,1)||_.G(a,1,Date.now().toString());_.jl(a,15)||_.G(a,15,60*(new Date).getTimezoneOffset());this.A&&(b=_.ml(this.A),_.M(a,16,b));for(;1E3<=this.j.length;)this.j.shift(),++this.N;this.j.push(a);this.dispatchEvent(new dm(a));this.M||this.o.o||this.o.start()};\n",
      "fm.prototype.flush=function(a,b){if(0==this.j.length)a&&a();else if(this.S)im(this);else{var c=_.Ad();if(this.Z>c&&this.O<c)b&&b(\"throttled\");else{var d=am($l(_.G(_.ml(this.F),4,_.Ad().toString()),this.j),this.N);c={};var e=this.Y();e&&(c.Authorization=e);var f=gm(this);this.C&&(c[\"X-Goog-AuthUser\"]=this.C,f=_.Ml(f,\"authuser\",this.C));this.G&&(c[\"X-Goog-PageId\"]=this.G,f=_.Ml(f,\"pageId\",this.G));if(e&&this.W==e)b&&b(\"stale-auth-token\");else{this.j=[];this.o.o&&this.o.stop();this.N=0;var g=d.o();c=\n",
      "{url:f,body:g,kl:1,rk:c,ef:\"POST\",withCredentials:this.ea,Ek:0};f=(0,_.v)(function(k){this.B.reset();_.Ef(this.o,this.B.j);if(k){try{var l=JSON.parse(k.replace(\")]}'\\n\",\"\"));var m=new cm(l)}catch(q){}m&&(k=_.uc(m,1,\"-1\"),k=Number(k),0<k&&(this.O=_.Ad(),this.Z=this.O+k),_.sc(m),m.j||(m.j={}),_.Sf.o()?(!m.j[175237375]&&m.B[175237375]&&(m.j[175237375]=new _.Sf.j(m.B[175237375])),m=m.j[175237375]):m=m.B[175237375],m&&(m=_.vc(m,1,-1),-1!=m&&(this.R||hm(this,m))))}a&&a()},this);g=(0,_.v)(function(k){var l=\n",
      "_.kl(d,Xl,3),m=this.B;m.o=Math.min(3E5,2*m.o);m.j=Math.min(3E5,m.o+Math.round(.2*(Math.random()-.5)*m.o));_.Ef(this.o,this.B.j);401==k&&e&&(this.W=e);if(500<=k&&600>k||401==k||0==k)this.j=l.concat(this.j),this.M||this.o.o||this.o.start();b&&b(\"net-send-failed\",k)},this);this.X?this.X.send(c,f,g):this.ba(c,f,g)}}}};fm.prototype.D=function(){this.$&&im(this);this.flush()};\n",
      "var im=function(a){jm(a,function(b,c){b=_.Ml(b,\"format\",\"json\");b=_.Ud().navigator.sendBeacon(b,c.o());a.S&&!b&&(a.S=!1);return b})},jm=function(a,b){if(0!=a.j.length){var c=_.Ql(gm(a),\"format\");c=Ll(c,\"auth\",a.Y(),\"authuser\",a.C||\"0\");for(var d=0;10>d&&a.j.length;++d){var e=a.j.slice(0,32),f=$l(_.G(_.ml(a.F),4,_.Ad().toString()),e);if(!b(c,f))break;a.j=a.j.slice(e.length)}}},km=function(a,b,c,d,e,f,g){fm.call(this,a,_.Hl,b,dl,c,d,e,void 0,f,g)};_.r(km,fm);\n",
      "var lm=[1,61,116,117],gl=function(a,b){_.J.call(this);this.C=b;this.Y=0;this.B=_.da(_.ud(a,2,1E-4),.001);this.D=_.da(_.ud(a,10,0),0);this.Z=_.p(_.C(a,21),\"\");this.ea=_.da(_.C(a,4),0);this.G=_.da(_.C(a,5),-1);this.X=_.p(_.C(a,7),\"\");this.S=_.p(_.C(a,6),\"\");this.O=_.p(_.C(a,8),\"\");this.M=_.C(a,9);this.$=!!_.F(a,11);this.R=!!_.F(a,12);this.J=!!_.F(a,15);this.T=_.F(a,22);this.W=_.F(a,23);this.H=!!_.F(a,16);this.o=_.jl(a,17)?_.C(a,17).split(\",\"):[];var c=Math.random();this.A=_.n(_.F(a,1))&&c<this.B;this.F=\n",
      "_.n(_.F(a,1))&&c<this.D;this.N=\"og-\"+Sl();if(this.A||this.F){a=this.j=new km(373,_.p(_.C(b,5)));a.R=!0;hm(a,1E3);a=this.j;a.$=a.ca;if(0!=this.o.length){a=new zl;for(b=0;b<this.o.length;b++)c=Number(this.o[b]),isNaN(c)||0==c||_.Sd(a,3,c);b=this.j;a?(b.A||(b.A=new xl),a=a.o(),_.G(b.A,4,a)):b.A&&_.G(b.A,4,void 0)}_.xd(this,this.j)}};_.r(gl,_.J);\n",
      "gl.prototype.log=function(a,b){var c=!_.nd(lm,a);if(c?this.A:this.F){b=(void 0===b?null:b)||new _.Pe;_.G(b,1,a);var d=++this.Y;_.G(b,38,d);_.G(b,2,this.ea);_.G(b,4,c?this.B:this.D);_.G(b,6,this.Z);b.Sd(this.G);this.W&&_.G(b,52,!0);_.G(b,11,this.S);_.G(b,10,this.X);_.G(b,5,this.O);window.performance&&window.performance.timing&&(c=(new Date).getTime()-window.performance.timing.navigationStart,_.G(b,14,c));_.G(b,13,this.M);_.G(b,16,this.$);_.G(b,17,this.R);_.G(b,19,this.N);c=0;_.F(this.C,1)&&(c|=1);\n",
      "_.F(this.C,3)&&(c|=4);_.G(b,12,c);_.G(b,25,this.J);_.G(b,26,this.H);1===a&&_.G(b,51,this.T);_.G(b,55,self!=top);a=new Xl;b=b.o();_.G(a,8,b);this.j.log(a)}};_.mm=function(a,b,c,d,e){_.Yf.call(this,a,b);_.Ra(this.data,{jexpid:_.p(_.C(a,9)),srcpg:\"prop=\"+_.p(_.C(a,6)),jsr:Math.round(1/d),emsg:c.name+\":\"+c.message});if(e){e._sn&&(e._sn=\"og.\"+e._sn);for(var f in e)this.data[encodeURIComponent(f)]=e[f]}};_.r(_.mm,_.Yf);\n",
      "var nm=function(a,b,c){this.o=_.Cc;this.C=b;this.F=c;this.A=_.da(_.ud(a,2,.001),.001);this.D=_.n(_.F(a,1))&&Math.random()<this.A;this.G=_.da(_.vc(a,3,1),1);this.B=0;this.j=null;this.H=_.n(_.td(a,4,!0),!0)};\n",
      "nm.prototype.log=function(a,b){if(this.j){var c=new Rl;_.G(c,1,a.message);_.G(c,2,a.stack);_.G(c,3,a.lineNumber);_.G(c,5,1);var d=new _.Pe;_.M(d,40,c);this.j.log(98,d)}try{if(this.o||this.D&&this.B<this.G){try{var e=_.Fc(_.Ec.V(),\"lm\").B(a,b)}catch(f){e=new _.mm(this.C,this.F,a,this.A,b)}b=e;this.o?b.j():_.Uf(b);this.B++}}catch(f){}if(this.o&&this.H)throw a;};om=null;_.hl=function(){if(!om){var a=_.I(_.K(),_.nl,13)||new _.nl,b=_.Nc(),c=_.zd();om=new nm(a,b,c)}return om};\n",
      "_.Dc=function(a,b){_.hl().log(a,b)};\n",
      "var fl=null;\n",
      "var pm;pm=function(){this.o=!1;this.j=[]};_.rm=function(a){var b=_.qm;b.o?a():b.j.push(a)};pm.prototype.A=function(a){if(!this.o){this.o=!0;_.il().log(1);for(var b=0;b<this.j.length;b++)try{this.j[b]()}catch(c){a(c)}this.j=null;try{_.Kh(\"api\").$a()}catch(c){}}};_.qm=new pm;\n",
      "\n",
      "}catch(e){_._DumpException(e)}\n",
      "try{\n",
      "var $q,ar;_.Zq=function(a,b,c){return function(){try{return b.apply(c,arguments)}catch(d){a.log(d)}}};$q=function(){_.J.call(this);this.j=new _.Zf};_.r($q,_.J);$q.prototype.K=function(a,b,c,d,e){(e||this.j).F(a,ar,b,c,d)};$q.prototype.sa=function(a,b,c,d,e){(e||this.j).sa(a,ar,b,c,d)};$q.prototype.P=function(){this.j.ha();_.J.prototype.P.call(this)};_.br=new $q;ar=[\"click\",\"keydown\",\"mousedown\",\"touchstart\"];\n",
      "/*\n",
      " Portions of this code are from MochiKit, received by\n",
      " The Closure Authors under the MIT license. All other code is Copyright\n",
      " 2005-2009 The Closure Authors. All Rights Reserved.\n",
      "*/\n",
      "_.cr=function(a,b){this.D=[];this.O=a;this.N=b||null;this.F=this.C=!1;this.B=void 0;this.M=this.lb=this.H=!1;this.G=0;this.A=null;this.J=0};_.cr.prototype.cancel=function(a){if(this.C)this.B instanceof _.cr&&this.B.cancel();else{if(this.A){var b=this.A;delete this.A;a?b.cancel(a):(b.J--,0>=b.J&&b.cancel())}this.O?this.O.call(this.N,this):this.M=!0;this.C||this.o(new dr(this))}};_.cr.prototype.Ya=function(a,b){this.H=!1;er(this,a,b)};\n",
      "var er=function(a,b,c){a.C=!0;a.B=c;a.F=!b;fr(a)},hr=function(a){if(a.C){if(!a.M)throw new gr(a);a.M=!1}};_.cr.prototype.j=function(a){hr(this);er(this,!0,a)};_.cr.prototype.o=function(a){hr(this);er(this,!1,a)};_.cr.prototype.addCallback=function(a,b){return _.ir(this,a,null,b)};_.ir=function(a,b,c,d){a.D.push([b,c,d]);a.C&&fr(a);return a};_.cr.prototype.then=function(a,b,c){var d,e,f=new _.ne(function(g,k){d=g;e=k});_.ir(this,d,function(g){g instanceof dr?f.cancel():e(g)});return f.then(a,b,c)};\n",
      "_.cr.prototype.$goog_Thenable=!0;_.cr.prototype.isError=function(a){return a instanceof Error};\n",
      "var jr=function(a){return _.Oa(a.D,function(b){return\"function\"===typeof b[1]})},fr=function(a){if(a.G&&a.C&&jr(a)){var b=a.G,c=kr[b];c&&(_.u.clearTimeout(c.fa),delete kr[b]);a.G=0}a.A&&(a.A.J--,delete a.A);b=a.B;for(var d=c=!1;a.D.length&&!a.H;){var e=a.D.shift(),f=e[0],g=e[1];e=e[2];if(f=a.F?g:f)try{var k=f.call(e||a.N,b);void 0!==k&&(a.F=a.F&&(k==b||a.isError(k)),a.B=b=k);if(_.le(b)||\"function\"===typeof _.u.Promise&&b instanceof _.u.Promise)d=!0,a.H=!0}catch(l){b=l,a.F=!0,jr(a)||(c=!0)}}a.B=b;\n",
      "d&&(k=(0,_.v)(a.Ya,a,!0),d=(0,_.v)(a.Ya,a,!1),b instanceof _.cr?(_.ir(b,k,d),b.lb=!0):b.then(k,d));c&&(b=new lr(b),kr[b.fa]=b,a.G=b.fa)},gr=function(){_.aa.call(this)};_.x(gr,_.aa);gr.prototype.message=\"Deferred has already fired\";gr.prototype.name=\"AlreadyCalledError\";var dr=function(){_.aa.call(this)};_.x(dr,_.aa);dr.prototype.message=\"Deferred was canceled\";dr.prototype.name=\"CanceledError\";var lr=function(a){this.fa=_.u.setTimeout((0,_.v)(this.o,this),0);this.j=a};\n",
      "lr.prototype.o=function(){delete kr[this.fa];throw this.j;};var kr={};\n",
      "/*\n",
      "\n",
      " Copyright The Closure Library Authors.\n",
      " SPDX-License-Identifier: Apache-2.0\n",
      "*/\n",
      "\n",
      "}catch(e){_._DumpException(e)}\n",
      "try{\n",
      "_.mr=function(a){_.B(this,a,0,-1,null,null)};_.x(_.mr,_.A);_.mr.prototype.gb=function(){return _.C(this,6)};_.nr=function(a){_.B(this,a,0,-1,null,null)};_.x(_.nr,_.A);var or=function(a){var b=arguments,c=b.length;return function(){for(var d=0;d<c;d++)if(b[d].apply(this,arguments))return!0;return!1}},pr=function(a){return function(){return!a.apply(this,arguments)}},qr=function(a,b){return null!==a&&b in a};\n",
      "_.rr=function(a,b,c,d,e){_.J.call(this);this.C=b;this.N=d;this.B=e;this.H=!1;this.A={};this.o={};this.W=[];this.F=[];this.M=_.F(a,1)?\"http\":\"https\";this.T=[this.M+\"://\"+_.p(_.C(a,2)),\"og/_/js\",\"k=\"+_.p(_.C(a,3)),\"rt=j\"];this.J=\"\"==_.p(_.C(a,14))?null:_.C(a,14);this.R=[this.M+\"://\"+_.p(_.C(a,2)),\"og/_/ss\",\"k=\"+_.p(_.C(a,13))];this.G=\"\"==_.p(_.C(a,15))?null:_.C(a,15);this.O=_.n(_.F(a,1))?\"?host=www.gstatic.com&bust=\"+_.p(_.C(a,16)):\"\";this.S=_.n(_.F(a,1))?\"?host=www.gstatic.com&bust=\"+1E11*Math.random():\n",
      "\"\";this.j=_.da(_.vc(a,17,1),1);a=0;for(b=c[a];a<c.length;a++,b=c[a])this.A[b]=!0,this.o[b]=!0};_.r(_.rr,_.J);_.tr=function(a,b,c){b=_.La(b,pr(or(_.Ld,_.qd(qr,a.A))));if(0<b.length){var d=a.T.join(\"/\")+\"/m=\"+b.join(\",\")+\"/exm=\"+_.Cd(a.A).join(\",\")+\"/d=1/ed=1\";a.J&&(d+=\"/rs=\"+a.J);d+=a.O;sr(a,d,(0,_.v)(a.Y,a,c));a.W.push(d);for(c=0;c<b.length;c++)a.A[b[c]]=!0}};_.rr.prototype.Y=function(a){for(var b=0;b<this.F.length;b++)this.F[b].call(null);a&&a.call(null)};\n",
      "var sr=function(a,b,c,d){var e=_.Vd(\"SCRIPT\");e.async=!0;e.type=\"text/javascript\";e.charset=\"UTF-8\";_.ul(e,_.Kd(b));var f=!0,g=d||1;d=(0,_.v)(function(){f=!1;this.B.log(47,{att:g,max:this.j,url:b});g<this.j?sr(this,b,c,g+1):this.N.log(Error(\"ua`\"+g+\"`\"+this.j),{url:b})},a);var k=(0,_.v)(function(){f&&(this.B.log(46,{att:g,max:this.j,url:b}),f=!1,c&&c.call(null))},a),l=function(m){\"loaded\"==m.readyState||\"complete\"==m.readyState?k():f&&window.setTimeout(function(){l(m)},100)};\"undefined\"!==typeof e.addEventListener?\n",
      "e.onload=function(){k()}:e.onreadystatechange=function(){e.onreadystatechange=null;l(e)};e.onerror=d;a.B.log(45,{att:g,max:a.j,url:b});_.vg(\"HEAD\")[0].appendChild(e)};_.rr.prototype.Kd=function(a,b){a=_.La(a,pr(or(_.Ld,_.qd(qr,this.o))));if(0<a.length){var c=this.R.join(\"/\")+\"/m=\"+a.join(\",\")+\"/excm=\"+_.Cd(this.o).join(\",\")+\"/d=1/ed=1/ct=zgms\";this.G&&(c+=\"/rs=\"+this.G);ur(c+this.S,b);for(b=0;b<a.length;b++)this.o[a[b]]=!0}};\n",
      "var ur=function(a,b){var c=_.Vd(\"LINK\");c.setAttribute(\"rel\",\"stylesheet\");c.setAttribute(\"type\",\"text/css\");c.setAttribute(\"href\",a);c.onload=c.onreadystatechange=function(){c.readyState&&\"loaded\"!=c.readyState&&\"complete\"!=c.readyState||b&&b.call(null)};_.vg(\"HEAD\")[0].appendChild(c)};\n",
      "_.rr.prototype.D=function(a,b){if(!this.H)if(void 0!=b)window.setTimeout((0,_.v)(this.D,this,a,void 0),b);else{_.tr(this,_.C(this.C,1),a);a=_.C(this.C,2);if(_.F(this.C,3)){var c=(0,_.v)(this.Kd,this,a);a=function(){c()};\"undefined\"!==typeof window.addEventListener?window.addEventListener(\"load\",a):window.attachEvent(\"onload\",a)}else this.Kd(a);this.H=!0}};_.Hc(_.rr,\"m\");\n",
      "\n",
      "}catch(e){_._DumpException(e)}\n",
      "try{\n",
      "var vr=function(a){_.B(this,a,0,-1,null,null)},Cr,Er;_.x(vr,_.A);\n",
      "var wr=[1,2,3,4,5,6,9,10,11,13,14,28,29,30,34,35,37,38,39,40,42,43,48,49,50,51,52,53,62,500],xr=function(a){a=String(a);return a.replace(\".\",\"%2E\").replace(\",\",\"%2C\")},yr=null,zr=function(a){if(!yr){yr={};for(var b=0;b<wr.length;b++)yr[wr[b]]=!0}return!!yr[a]},Ar=function(a,b,c,d,e,f){_.Yf.call(this,a,b);_.Ra(this.data,{oge:d,ogex:_.p(_.C(a,9)),ogp:_.p(_.C(a,6)),ogsr:Math.round(1/(zr(d)?_.da(_.ud(c,3,1)):_.da(_.ud(c,2,1E-4)))),ogus:e});if(f){\"ogw\"in f&&(this.data.ogw=f.ogw,delete f.ogw);\"ved\"in f&&\n",
      "(this.data.ved=f.ved,delete f.ved);a=[];for(var g in f)0!=a.length&&a.push(\",\"),a.push(xr(g)),a.push(\".\"),a.push(xr(f[g]));f=a.join(\"\");\"\"!=f&&(this.data.ogad=f)}};_.r(Ar,_.Yf);var Br=function(a,b,c,d){this.j=_.Cc;this.A=a;this.o=b;this.B=d;this.F=_.da(_.ud(a,2,1E-4),1E-4);this.G=_.da(_.ud(a,3,1),1);b=Math.random();this.C=_.n(_.F(a,1))&&b<this.F;this.D=_.n(_.F(a,1))&&b<this.G;a=0;_.n(_.F(c,1))&&(a|=1);_.n(_.F(c,2))&&(a|=2);_.n(_.F(c,3))&&(a|=4);this.H=a};\n",
      "Br.prototype.log=function(a,b){try{if(this.j||(zr(a)?this.D:this.C)){var c=new Ar(this.o,this.B,this.A,a,this.H,b);this.j?c.j():_.Uf(c)}}catch(d){}};Cr=null;_.Dr=function(){if(!Cr){var a=_.I(_.K(),vr,12)||new vr,b=_.Nc(),c=_.Td(),d=_.zd();Cr=new Br(a,b,c,d)}return Cr};Er={m:\"BackCompat\"==document.compatMode?\"q\":\"s\"};_.Dr().log(8,Er);\n",
      "\n",
      "}catch(e){_._DumpException(e)}\n",
      "try{\n",
      "var Fr=function(){_.qm.A(_.Dc)},Gr=function(a,b){var c=_.hl();c=_.Zq(c,Fr);a.addEventListener?a.addEventListener(b,c):a.attachEvent&&a.attachEvent(\"on\"+b,c)},Ir=function(a){_.rm(function(){var b=document.querySelector(\".\"+a);b&&(b=b.querySelector(\".gb_D\"))&&Hr(_.Kh(\"eq\"),b,\"click\")})},Jr=[1,2],Kr=function(a){_.B(this,a,0,-1,Jr,null)};_.x(Kr,_.A);var Lr=function(a,b){a.__PVT=b},Mr=function(a,b){a.F.push(b)},Nr=function(a){_.J.call(this);this.F=a;this.A=null;this.j={};this.C={};this.o={};this.B=null};\n",
      "_.r(Nr,_.J);var Or=function(a){if(a.A)return a.A;for(var b in a.o)if(a.o[b].Ne()&&a.o[b].sb())return a.o[b];return null};_.h=Nr.prototype;_.h.jf=function(a){a&&Or(this)&&a!=Or(this)&&Or(this).he(!1);this.A=a};_.h.vg=function(a){a=this.o[a]||a;return Or(this)==a};_.h.Rf=function(){Or(this)&&Or(this).he(!1);this.jf(null)};_.h.ii=function(a){Or(this)&&Or(this).Zb()==a&&this.Rf()};_.h.Ec=function(a,b,c){this.j[a]=this.j[a]||{};this.j[a][b]=this.j[a][b]||[];this.j[a][b].push(c)};\n",
      "_.h.Ae=function(a,b){b=b.Zb();if(this.j[a]&&this.j[a][b])for(var c=0;c<this.j[a][b].length;c++)try{this.j[a][b][c]()}catch(d){this.F.log(d)}};_.h.Ak=function(a,b){this.C[a]=b};_.h.gi=function(a){return!this.C[a.Zb()]};_.h.Aj=function(){return!!Or(this)&&Or(this).sg()};_.h.bi=function(){return!!Or(this)};_.h.xf=function(){Or(this)&&Or(this).ge()};_.h.sh=function(a){this.B=a;for(var b in this.o)this.o[b].Ne()&&this.o[b].dd(a)};_.h.ce=function(a){this.o[a.Zb()]=a};\n",
      "var Pr=function(a){_.J.call(this);this.A=a;this.C=this.j=null;this.B=0;this.D={};this.o=!1;a=window.navigator.userAgent;0<=a.indexOf(\"MSIE\")&&0<=a.indexOf(\"Trident\")&&(a=/\\b(?:MSIE|rv)[: ]([^\\);]+)(\\)|;)/.exec(a))&&a[1]&&9>parseFloat(a[1])&&(this.o=!0)};_.r(Pr,_.J);\n",
      "var Hr=function(a,b,c){if(!a.o)if(c instanceof Array){c=_.la(c);for(var d=c.next();!d.done;d=c.next())Hr(a,b,d.value)}else{d=(0,_.v)(a.G,a,b);var e=a.B+c;a.B++;b.setAttribute(\"data-eqid\",e);a.D[e]=d;b&&b.addEventListener?b.addEventListener(c,d,!1):b&&b.attachEvent?b.attachEvent(\"on\"+c,d):a.A.log(Error(\"sa`\"+b))}};\n",
      "Pr.prototype.F=function(a,b){if(this.o)return null;if(b instanceof Array){var c=null;b=_.la(b);for(var d=b.next();!d.done;d=b.next())(d=this.F(a,d.value))&&(c=d);return c}c=null;this.j&&this.j.type==b&&this.C==a&&(c=this.j,this.j=null);if(d=a.getAttribute(\"data-eqid\"))a.removeAttribute(\"data-eqid\"),(d=this.D[d])?a.removeEventListener?a.removeEventListener(b,d,!1):a.detachEvent&&a.detachEvent(\"on\"+b,d):this.A.log(Error(\"ta`\"+a));return c};\n",
      "Pr.prototype.G=function(a,b){this.j=b;this.C=a;b.preventDefault?b.preventDefault():b.returnValue=!1};var Qr=function(){_.J.call(this);this.o=[];this.j=[]};_.r(Qr,_.J);Qr.prototype.A=function(a,b){this.o.push({features:a,options:b})};\n",
      "Qr.prototype.init=function(a,b,c){window.gapi={};var d=window.___jsl={};d.h=_.p(_.C(a,1));_.jl(a,12)&&(d.dpo=_.n(_.F(a,12)));d.ms=_.p(_.C(a,2));d.m=_.p(_.C(a,3));d.l=[];_.C(b,1)&&(a=_.C(b,3))&&this.j.push(a);_.C(c,1)&&(c=_.C(c,2))&&this.j.push(c);_.w(\"gapi.load\",(0,_.v)(this.A,this));return this};\n",
      "(function(){var a;window.gbar&&window.gbar._LDD?a=window.gbar._LDD:a=[];var b=_.Td();Lr(window,_.p(_.C(b,8)));b=_.Nc();var c=_.hl();a=new _.rr(b,_.I(_.K(),Kr,17)||new Kr,a,c,_.Dr());_.Jc(\"m\",a);var d=function(){_.w(\"gbar.qm\",(0,_.v)(function(e){try{e()}catch(f){c.log(f)}},this));_.Kh(\"api\").$a()};_.n(_.F(b,18),!0)?a.D(d):(b=_.da(_.C(b,19),200),b=(0,_.v)(a.D,a,d,b),_.rm(b))})();Gr(document,\"DOMContentLoaded\");Gr(window,\"load\");\n",
      "_.w(\"gbar.ldb\",_.v(_.qm.A,_.qm,_.Dc));\n",
      "_.w(\"gbar.mls\",function(){});\n",
      "_.Jc(\"eq\",new Pr(_.hl()));\n",
      "_.Jc(\"gs\",(new Qr).init(_.yd(),_.I(_.K(),_.nr,5)||new _.nr,_.I(_.K(),_.mr,6)||new _.mr));\n",
      "(function(){for(var a=function(e){return function(){var f={n:e};_.Dr().log(44,f)}},b=0;b<_.Zc.length;b++){var c=\"gbar.\"+_.Zc[b];_.w(c,a(c))}var d=_.Ec.V();_.Fc(d,\"api\").$a();Mr(_.Fc(d,\"m\"),function(){_.Fc(d,\"api\").$a()})})();\n",
      "var Rr=document.querySelector(\".gb_C\"),Sr=/(\\s+|^)gb_9f(\\s+|$)/;Rr&&!Sr.test(Rr.className)&&Ir(\"gb_C\");\n",
      "var Tr=new Nr(_.hl());_.Jc(\"dd\",Tr);_.w(\"gbar.close\",(0,_.v)(Tr.Rf,Tr));_.w(\"gbar.cls\",(0,_.v)(Tr.ii,Tr));_.w(\"gbar.abh\",(0,_.v)(Tr.Ec,Tr,0));_.w(\"gbar.adh\",(0,_.v)(Tr.Ec,Tr,1));_.w(\"gbar.ach\",(0,_.v)(Tr.Ec,Tr,2));_.w(\"gbar.aeh\",(0,_.v)(Tr.Ak,Tr));_.w(\"gbar.bsy\",(0,_.v)(Tr.Aj,Tr));_.w(\"gbar.op\",(0,_.v)(Tr.bi,Tr));\n",
      "Ir(\"gb_Oa\");\n",
      "_.rm(function(){var a=document.querySelector(\".gb_qc\");a&&Hr(_.Kh(\"eq\"),a,\"click\")});\n",
      "_.w(\"gbar.qfgw\",(0,_.v)(document.getElementById,document,\"gbqfqw\"));_.w(\"gbar.qfgq\",(0,_.v)(document.getElementById,document,\"gbqfq\"));_.w(\"gbar.qfgf\",(0,_.v)(document.getElementById,document,\"gbqf\"));_.w(\"gbar.qfsb\",(0,_.v)(document.getElementById,document,\"gbqfb\"));\n",
      "\n",
      "}catch(e){_._DumpException(e)}\n",
      "})(this.gbar_);\n",
      "// Google Inc.\n",
      "  </script>\n",
      "  <div class=\"gb_Ba\">\n",
      "  </div>\n",
      "  <style>\n",
      "   @-webkit-keyframes gb__a{0%{opacity:0}50%{opacity:1}}@keyframes gb__a{0%{opacity:0}50%{opacity:1}}.gb_Ba{display:none!important}.gb_Ca{visibility:hidden}.gb_e .gbqfi::before{left:-428px;top:0}.gb_Ob .gbqfb:focus .gbqfi{outline:1px dotted #fff}.gb_e .gb_C .gb_D::before,.gb_e.gb_E .gb_C .gb_D::before{left:-132px;top:-38px}.gb_e.gb_j .gb_C .gb_D::before{left:-463px;top:-35px}.gb_Ob .gb_K{position:relative}.gb_C .gb_D:hover,.gb_C .gb_D:focus{opacity:.85}.gb_j .gb_C .gb_D:hover,.gb_j .gb_C .gb_D:focus{opacity:1}@media (min-resolution:1.25dppx),(-webkit-min-device-pixel-ratio:1.25),(min-device-pixel-ratio:1.25){.gb_o .gb_r{background-image:url('https://ssl.gstatic.com/gb/images/p2_136ed2e0.png')}}.gb_e .gb_qc .gb_sc::before{left:0;top:-35px}.gb_e.gb_j .gb_qc .gb_sc::before{left:-296px;top:0}.gb_e.gb_E .gb_qc .gb_sc::before{left:-97px;top:0}.gb_e .gb_pa{background-image:none!important}.gb_e .gb_tc{visibility:visible}.gb_Ob .gb_me span{background:transparent}.gb_Dd{color:#ffffff;font-size:13px;font-weight:bold;height:25px;line-height:19px;padding-top:5px;padding-left:12px;position:relative;background-color:#4d90fe}.gb_Dd .gb_Ed{color:#ffffff;cursor:default;font-size:22px;font-weight:normal;position:absolute;right:12px;top:5px}.gb_Dd .gb_od,.gb_Dd .gb_md{color:#ffffff;display:inline-block;font-size:11px;margin-left:16px;padding:0 8px;white-space:nowrap}.gb_Fd{background:none;background-image:-webkit-gradient(linear,left top,left bottom,from(rgba(0,0,0,0.16)),to(rgba(0,0,0,0.2)));background-image:-webkit-linear-gradient(top,rgba(0,0,0,0.16),rgba(0,0,0,0.2));background-image:linear-gradient(top,rgba(0,0,0,0.16),rgba(0,0,0,0.2));background-image:-webkit-linear-gradient(top,rgba(0,0,0,0.16),rgba(0,0,0,0.2));border-radius:2px;border:1px solid #dcdcdc;border:1px solid rgba(0,0,0,0.1);cursor:default!important;filter:progid:DXImageTransform.Microsoft.gradient(startColorstr=#160000ff,endColorstr=#220000ff);text-decoration:none!important;-webkit-border-radius:2px}.gb_Fd:hover{background:none;background-image:-webkit-gradient(linear,left top,left bottom,from(rgba(0,0,0,0.14)),to(rgba(0,0,0,0.2)));background-image:-webkit-linear-gradient(top,rgba(0,0,0,0.14),rgba(0,0,0,0.2));background-image:linear-gradient(top,rgba(0,0,0,0.14),rgba(0,0,0,0.2));background-image:-webkit-linear-gradient(top,rgba(0,0,0,0.14),rgba(0,0,0,0.2));border:1px solid rgba(0,0,0,0.2);box-shadow:0 1px 1px rgba(0,0,0,0.1);-webkit-box-shadow:0 1px 1px rgba(0,0,0,0.1);filter:progid:DXImageTransform.Microsoft.gradient(startColorstr=#14000000,endColorstr=#22000000)}.gb_Fd:active{box-shadow:inset 0 1px 2px rgba(0,0,0,0.3);-webkit-box-shadow:inset 0 1px 2px rgba(0,0,0,0.3)}.gb_dd.gb_ed{padding:0}.gb_ed .gb_F{background:#ffffff;border:solid 1px transparent;-webkit-border-radius:8px;border-radius:8px;-webkit-box-sizing:border-box;box-sizing:border-box;padding:16px;right:0;top:72px;-webkit-box-shadow:0 1px 2px 0 rgba(65,69,73,0.3),0 3px 6px 2px rgba(65,69,73,0.15);box-shadow:0 1px 2px 0 rgba(65,69,73,0.3),0 3px 6px 2px rgba(65,69,73,0.15)}.gb_ed .gb_F.gb_fd{right:60px;top:48px}.gb_ed .gb_F.gb_gd{top:62px}a.gb_hd{color:#5f6368!important;font-size:22px;height:24px;opacity:1;padding:8px;position:absolute;right:8px;top:8px;text-decoration:none!important;width:24px}a.gb_hd:focus,a.gb_hd:active,a.gb_hd:focus:hover{background-color:#e8eaed;-webkit-border-radius:50%;border-radius:50%;outline:none}a.gb_hd:hover{background-color:#f1f3f4;-webkit-border-radius:50%;border-radius:50%;outline:none}svg.gb_id{fill:#5f6368;opacity:1}.gb_jd{padding:0;white-space:normal;display:table}.gb_ed .gb_4:active{outline:none;-webkit-box-shadow:0 4px 5px rgba(0,0,0,.16);box-shadow:0 4px 5px rgba(0,0,0,.16)}.gb_0.gb_kd.gb_ld{-webkit-border-radius:4px;border-radius:4px;-webkit-box-sizing:border-box;box-sizing:border-box;cursor:pointer;height:36px;font-family:Google Sans,Roboto,RobotoDraft,Helvetica,Arial,sans-serif;font-size:14px;font-weight:500;letter-spacing:.25px;line-height:16px;min-width:70px;outline:none;text-transform:none;-webkit-font-smoothing:antialiased}.gb_0.gb_md.gb_ld{-webkit-border-radius:4px;border-radius:4px;-webkit-box-sizing:border-box;box-sizing:border-box;cursor:pointer;height:36px;color:#5f6368;font-family:Google Sans,Roboto,RobotoDraft,Helvetica,Arial,sans-serif;font-size:14px;font-weight:500;letter-spacing:.25px;line-height:16px;min-width:70px;outline:none;padding:8px 6px;text-transform:none;-webkit-font-smoothing:antialiased}.gb_0.gb_kd.gb_ld{background:white;border:1px solid #dadce0;color:#1a73e8;margin-top:21px;padding:9px 7px}.gb_0.gb_kd.gb_ld:hover{background-color:rgba(26,115,232,0.04)}.gb_0.gb_kd.gb_ld:focus,.gb_0.gb_kd.gb_ld:focus:hover{background-color:rgba(26,115,232,0.12);border:solid 1px #1a73e8}.gb_0.gb_kd.gb_ld:active{background-color:rgba(26,115,232,0.1);border-color:transparent}.gb_0.gb_md:hover{background-color:#f8f9fa}.gb_0.gb_md:focus,.gb_0.gb_md:hover:focus{background-color:#f1f3f4;border-color:transparent}.gb_0.gb_md:active{background-color:#f1f3f4;-webkit-box-shadow:0 1px 2px 0 rgba(60,64,67,0.3),0 1px 3px 1px rgba(60,64,67,0.15);box-shadow:0 1px 2px 0 rgba(60,64,67,0.3),0 1px 3px 1px rgba(60,64,67,0.15)}.gb_cd{color:#5f6368;font-family:Roboto,RobotoDraft,Helvetica,Arial,sans-serif;font-size:14px;letter-spacing:.25px;line-height:20px;margin:0;margin-bottom:5px}.gb_nd{text-align:right;font-size:14px;padding-bottom:0;white-space:nowrap}.gb_nd .gb_od,.gb_nd .gb_pd{margin-left:12px;text-transform:none}a.gb_4.gb_od:hover{background-color:#2b7de9;border-color:transparent;-webkit-box-shadow:0 1px 2px 0 rgba(66,133,244,0.3),0 1px 3px 1px rgba(66,133,244,0.15);box-shadow:0 1px 2px 0 rgba(66,133,244,0.3),0 1px 3px 1px rgba(66,133,244,0.15)}a.gb_4.gb_od:focus,a.gb_4.gb_od:hover:focus{background-color:#5094ed;border-color:transparent;-webkit-box-shadow:0 1px 2px 0 rgba(66,133,244,0.3),0 1px 3px 1px rgba(66,133,244,0.15);box-shadow:0 1px 2px 0 rgba(66,133,244,0.3),0 1px 3px 1px rgba(66,133,244,0.15)}a.gb_4.gb_od:active{background-color:#63a0ef;-webkit-box-shadow:0 1px 2px 0 rgba(66,133,244,0.3),0 1px 3px 1px rgba(66,133,244,0.15);box-shadow:0 1px 2px 0 rgba(66,133,244,0.3),0 1px 3px 1px rgba(66,133,244,0.15)}.gb_nd .gb_ld.gb_od img{background-color:inherit;-webkit-border-radius:initial;border-radius:initial;height:18px;margin:0 8px 0 4px;vertical-align:text-top;width:18px}.gb_qd .gb_jd .gb_rd .gb_ld{border:2px solid transparent}.gb_jd .gb_rd .gb_ld:focus:after,.gb_jd .gb_rd .gb_ld:hover:after{background-color:transparent}.gb_sd{color:#3c4043;font-family:Google Sans,Roboto,RobotoDraft,Helvetica,Arial,sans-serif;font-size:16px;font-weight:500;letter-spacing:.1px;line-height:20px;margin:0;margin-bottom:12px}.gb_cd a.gb_ud{text-decoration:none;color:#5e97f6}.gb_cd a.gb_ud:visited{color:#5e97f6}.gb_cd a.gb_ud:hover,.gb_cd a.gb_ud:active{text-decoration:underline}.gb_vd{position:absolute;background:transparent;top:-999px;z-index:-1;visibility:hidden;margin-top:1px;margin-left:1px}#gb .gb_ed{margin:0}.gb_ed .gb_5c{background:#4d90fe;border:2px solid transparent;-webkit-box-sizing:border-box;box-sizing:border-box;font-weight:500;margin-top:21px;min-width:70px;text-align:center;-webkit-font-smoothing:antialiased}.gb_ed a.gb_4{background:#1a73e8;-webkit-border-radius:4px;border-radius:4px;color:#ffffff;font-family:Google Sans,Roboto,RobotoDraft,Helvetica,Arial,sans-serif;font-size:14px;font-weight:500;letter-spacing:.25px;line-height:16px;padding:8px 22px;-webkit-font-smoothing:antialiased}.gb_ed.gb_wd .gb_F{background-color:#fce8e6}.gb_ed.gb_xd a.gb_od,.gb_ed.gb_wd a.gb_od{background-color:#d93025}.gb_ed.gb_xd a.gb_od:hover,.gb_ed.gb_wd a.gb_od:hover{background-color:#cc3127;-webkit-box-shadow:0 -1px 5px rgba(128,134,139,0.09),0 3px 5px rgba(128,134,139,0.06),0 1px 2px rgba(60,64,67,0.3),0 1px 3px rgba(60,64,67,0.15);box-shadow:0 -1px 5px rgba(128,134,139,0.09),0 3px 5px rgba(128,134,139,0.06),0 1px 2px rgba(60,64,67,0.3),0 1px 3px rgba(60,64,67,0.15)}.gb_ed.gb_xd a.gb_od:focus,.gb_ed.gb_wd a.gb_od:focus{background-color:#b3332c;-webkit-box-shadow:none;box-shadow:none}.gb_ed.gb_xd a.gb_od:active,.gb_ed.gb_wd a.gb_od:active{background-color:#a6342e;-webkit-box-shadow:0 -2px 8px rgba(128,134,139,0.09),0 4px 8px rgba(128,134,139,0.06),0 1px 2px rgba(60,64,67,0.3),0 2px 6px rgba(60,64,67,0.15);box-shadow:0 -2px 8px rgba(128,134,139,0.09),0 4px 8px rgba(128,134,139,0.06),0 1px 2px rgba(60,64,67,0.3),0 2px 6px rgba(60,64,67,0.15)}.gb_ed.gb_yd a.gb_4{float:right}#gb .gb_ed a.gb_5c.gb_5c{color:#ffffff;cursor:pointer}.gb_ed .gb_5c:hover{background:#357ae8;border-color:#2f5bb7}.gb_zd,.gb_rd{display:table-cell}.gb_zd{vertical-align:middle}.gb_zd img{height:48px;padding-left:4px;padding-right:20px;width:48px}.gb_rd{padding-left:13px;width:100%}.gb_ed .gb_rd{padding-top:4px;min-width:326px;padding-left:0;width:326px}.gb_ed.gb_Ad .gb_rd{min-width:254px;width:254px}.gb_ed.gb_yd .gb_rd{padding-top:32px}.gb_2c{display:none}.gb_2c.gb_ma{display:block}.gb_3c{background-color:#fff;-webkit-box-shadow:0 1px 0 rgba(0,0,0,0.08);box-shadow:0 1px 0 rgba(0,0,0,0.08);color:#000;position:relative;z-index:986}.gb_4c{height:40px;padding:16px 24px;white-space:nowrap}.gb_3c .gb_5c{border:0;font-weight:500;font-size:14px;line-height:36px;min-width:32px;padding:0 16px;vertical-align:middle}.gb_3c .gb_5c:before{content:'';height:6px;left:0;position:absolute;top:-6px;width:100%}.gb_3c .gb_5c:after{bottom:-6px;content:'';height:6px;left:0;position:absolute;width:100%}.gb_3c .gb_5c+.gb_5c{margin-left:8px}.gb_6c{height:48px;padding:4px;margin:-8px 0 0 -8px}.gb_7c{font-family:Roboto,RobotoDraft,Helvetica,Arial,sans-serif;overflow:hidden;vertical-align:top}.gb_4c .gb_7c{display:inline-block;padding-left:8px;width:640px}.gb_8c{background-color:inherit}.gb_4c .gb_8c{display:inline-block;position:absolute;top:18px;right:24px}.gb_8c .gb_9c{height:1.5em;margin:-.25em 10px -.25em 0;vertical-align:text-top;width:1.5em}.gb_ad{line-height:20px;font-size:16px;font-weight:700;color:rgba(0,0,0,.87)}.gb_4c .gb_ad,.gb_4c .gb_bd{width:640px}.gb_bd .gb_cd,.gb_bd{line-height:20px;font-size:13px;font-weight:400;color:rgba(0,0,0,.54)}.gb_Ob .gb_0a{border:0;border-left:1px solid rgba(0,0,0,.2);border-top:1px solid rgba(0,0,0,.2);height:14px;width:14px;-webkit-transform:rotate(45deg);transform:rotate(45deg)}.gb_Ob .gb_Za{border:0;border-left:1px solid rgba(0,0,0,.2);border-top:1px solid rgba(0,0,0,.2);height:14px;width:14px;-webkit-transform:rotate(45deg);transform:rotate(45deg);border-color:#fff;background:#fff}.gb_e .gb_mg::before{clip:rect( 25px   235px   41px   219px );left:-197px;top:-3px}.gb_e .gb_sc.gb_ng{position:absolute}.gb_e .gb_ng::before{clip:rect( -0   210px   16px   194px );left:-164px;top:22px}.gb_e .gb_Qa .gb_mg::before{left:-189px}@media (min-resolution:1.25dppx),(-webkit-min-device-pixel-ratio:1.25),(min-device-pixel-ratio:1.25){.gb_e .gb_mg::before{clip:rect( 50px   470px   82px   438px )}.gb_e .gb_ng::before{clip:rect( -0   420px   32px   388px )}}.gb_e .gb_sc{background-image:none;overflow:hidden;position:relative}.gb_e .gb_sc::before{content:url('//ssl.gstatic.com/gb/images/i1_1967ca6a.png');position:absolute}@media (min-resolution:1.25dppx),(-webkit-min-device-pixel-ratio:1.25),(min-device-pixel-ratio:1.25){.gb_e .gb_sc::before{content:url('//ssl.gstatic.com/gb/images/i2_2ec824b0.png');-webkit-transform:scale(.5);transform:scale(.5);-webkit-transform-origin:0 0;transform-origin:0 0}}.gb_Ob a:focus{outline:1px dotted #fff!important}sentinel{}\n",
      "  </style>\n",
      "  <script nonce=\"4KJlOQ/ciyfUUPWQ1J8fPA==\">\n",
      "   (function(){window.google.cdo={height:0,width:0};(function(){var a=window.innerWidth,b=window.innerHeight;if(!a||!b){var c=window.document,d=\"CSS1Compat\"==c.compatMode?c.documentElement:c.body;a=d.clientWidth;b=d.clientHeight}a&&b&&(a!=google.cdo.width||b!=google.cdo.height)&&google.log(\"\",\"\",\"/client_204?&atyp=i&biw=\"+a+\"&bih=\"+b+\"&ei=\"+google.kEI);}).call(this);})();(function(){var u='/xjs/_/js/k\\x3dxjs.hp.en.TfxTXQuR2rI.O/m\\x3dsb_he,d/am\\x3dAHCyOA/d\\x3d1/rs\\x3dACT90oGvvbK7sqinav-UbJb0B_JgAxKiYQ';\n",
      "var d=this||self,e=/^[\\w+/_-]+[=]{0,2}$/,f=null,g=function(a){return(a=a.querySelector&&a.querySelector(\"script[nonce]\"))&&(a=a.nonce||a.getAttribute(\"nonce\"))&&e.test(a)?a:\"\"},h=function(a){return a};var l;var n=function(a,b){this.g=b===m?a:\"\"};n.prototype.toString=function(){return this.g+\"\"};var m={};function p(){var a=u;google.lx=function(){q(a);google.lx=function(){}};google.bx||google.lx()}\n",
      "function q(a){var b=document;var c=\"SCRIPT\";\"application/xhtml+xml\"===b.contentType&&(c=c.toLowerCase());c=b.createElement(c);if(void 0===l){b=null;var k=d.trustedTypes;if(k&&k.createPolicy){try{b=k.createPolicy(\"goog#html\",{createHTML:h,createScript:h,createScriptURL:h})}catch(r){d.console&&d.console.error(r.message)}l=b}else l=b}a=(b=l)?b.createScriptURL(a):a;a=new n(a,m);c.src=a instanceof n&&a.constructor===n?a.g:\"type_error:TrustedResourceUrl\";(a=c.ownerDocument&&c.ownerDocument.defaultView)&&\n",
      "a!=d?a=g(a.document):(null===f&&(f=g(d.document)),a=f);a&&c.setAttribute(\"nonce\",a);google.timers&&google.timers.load&&google.tick&&google.tick(\"load\",\"xjsls\");document.body.appendChild(c)};setTimeout(function(){p()},0);})();(function(){window.google.xjsu='/xjs/_/js/k\\x3dxjs.hp.en.TfxTXQuR2rI.O/m\\x3dsb_he,d/am\\x3dAHCyOA/d\\x3d1/rs\\x3dACT90oGvvbK7sqinav-UbJb0B_JgAxKiYQ';})();function _DumpException(e){throw e;}\n",
      "function _F_installCss(c){}\n",
      "(function(){google.jl={dw:false,em:[],emw:false,lls:'default',pdt:0,snet:true,uwp:true};})();(function(){var pmc='{\\x22d\\x22:{},\\x22sb_he\\x22:{\\x22agen\\x22:true,\\x22cgen\\x22:true,\\x22client\\x22:\\x22heirloom-hp\\x22,\\x22dh\\x22:true,\\x22dhqt\\x22:true,\\x22ds\\x22:\\x22\\x22,\\x22ffql\\x22:\\x22en\\x22,\\x22fl\\x22:true,\\x22host\\x22:\\x22google.com\\x22,\\x22isbh\\x22:28,\\x22jsonp\\x22:true,\\x22msgs\\x22:{\\x22che\\x22:\\x22Not listening. Something went wrong.\\x22,\\x22ched\\x22:\\x22Help\\x22,\\x22cher\\x22:\\x22Restart listening\\x22,\\x22chh\\x22:\\x22Say \\\\\\x22Ok Google\\\\\\x22\\x22,\\x22cht\\x22:\\x22Hotword detection is off.\\x22,\\x22chtr\\x22:\\x22Start listening for \\\\\\x22Ok Google\\\\\\x22\\x22,\\x22chtt\\x22:\\x22Listening for \\\\\\x22Ok Google\\\\\\x22\\x22,\\x22cibl\\x22:\\x22Clear Search\\x22,\\x22dym\\x22:\\x22Did you mean:\\x22,\\x22lcky\\x22:\\x22I\\\\u0026#39;m Feeling Lucky\\x22,\\x22lml\\x22:\\x22Learn more\\x22,\\x22oskt\\x22:\\x22Input tools\\x22,\\x22psrc\\x22:\\x22This search was removed from your \\\\u003Ca href\\x3d\\\\\\x22/history\\\\\\x22\\\\u003EWeb History\\\\u003C/a\\\\u003E\\x22,\\x22psrl\\x22:\\x22Remove\\x22,\\x22sbit\\x22:\\x22Search by image\\x22,\\x22srch\\x22:\\x22Google Search\\x22,\\x22srtt\\x22:\\x22Search by voice\\x22},\\x22nrft\\x22:false,\\x22ovr\\x22:{},\\x22pq\\x22:\\x22\\x22,\\x22refpd\\x22:true,\\x22rfs\\x22:[],\\x22sbas\\x22:\\x220 3px 8px 0 rgba(0,0,0,0.2),0 0 0 1px rgba(0,0,0,0.08)\\x22,\\x22sbpl\\x22:16,\\x22sbpr\\x22:16,\\x22scd\\x22:10,\\x22stok\\x22:\\x22V_fF5DOdO05MYUYerODppiftWEY\\x22,\\x22uhde\\x22:false}}';google.pmc=JSON.parse(pmc);})();\n",
      "  </script>\n",
      " </body>\n",
      "</html>\n"
     ]
    }
   ],
   "source": [
    "import requests\n",
    "from bs4 import BeautifulSoup\n",
    "from fake_useragent import UserAgent\n",
    "\n",
    "ua = UserAgent()\n",
    "header = {'user-agent':ua.chrome}\n",
    "google_page = requests.get('https://www.google.com',headers=header)\n",
    "#print(google_page.content)\n",
    "\n",
    "soup = BeautifulSoup(google_page.content,'lxml') # html.parser\n",
    "\n",
    "print(soup.prettify())\n",
    "\n",
    "\n",
    "#identify some tags\n"
   ]
  },
  {
   "cell_type": "code",
   "execution_count": 1,
   "metadata": {
    "ExecuteTime": {
     "end_time": "2021-02-11T13:54:35.217452Z",
     "start_time": "2021-02-11T13:54:35.211724Z"
    }
   },
   "outputs": [],
   "source": [
    "html_doc = \"\"\"<html><head><title>The Dormouse's story</title></head>\n",
    "<body>\n",
    "<p class=\"title\"><b>The Dormouse's story</b></p>\n",
    "\n",
    "<p class=\"story\">Once upon a time there were three little sisters; and their names were\n",
    "<a href=\"http://example.com/elsie\" class=\"sister\" id=\"link1\">Elsie</a>,\n",
    "<a href=\"http://example.com/lacie\" class=\"sister\" id=\"link2\">Lacie</a> and\n",
    "<a href=\"http://example.com/tillie\" class=\"sister\" id=\"link3\">Tillie</a>;\n",
    "and they lived at the bottom of a well.</p>\n",
    "\n",
    "<p class=\"story\">...</p>\n",
    "\"\"\""
   ]
  },
  {
   "cell_type": "code",
   "execution_count": 2,
   "metadata": {
    "ExecuteTime": {
     "end_time": "2021-02-11T13:55:46.717362Z",
     "start_time": "2021-02-11T13:55:45.140187Z"
    }
   },
   "outputs": [
    {
     "name": "stdout",
     "output_type": "stream",
     "text": [
      "<html>\n",
      " <head>\n",
      "  <title>\n",
      "   The Dormouse's story\n",
      "  </title>\n",
      " </head>\n",
      " <body>\n",
      "  <p class=\"title\">\n",
      "   <b>\n",
      "    The Dormouse's story\n",
      "   </b>\n",
      "  </p>\n",
      "  <p class=\"story\">\n",
      "   Once upon a time there were three little sisters; and their names were\n",
      "   <a class=\"sister\" href=\"http://example.com/elsie\" id=\"link1\">\n",
      "    Elsie\n",
      "   </a>\n",
      "   ,\n",
      "   <a class=\"sister\" href=\"http://example.com/lacie\" id=\"link2\">\n",
      "    Lacie\n",
      "   </a>\n",
      "   and\n",
      "   <a class=\"sister\" href=\"http://example.com/tillie\" id=\"link3\">\n",
      "    Tillie\n",
      "   </a>\n",
      "   ;\n",
      "and they lived at the bottom of a well.\n",
      "  </p>\n",
      "  <p class=\"story\">\n",
      "   ...\n",
      "  </p>\n",
      " </body>\n",
      "</html>\n"
     ]
    }
   ],
   "source": [
    "from bs4 import BeautifulSoup\n",
    "soup = BeautifulSoup(html_doc, 'html.parser')\n",
    "\n",
    "print(soup.prettify())"
   ]
  },
  {
   "cell_type": "code",
   "execution_count": 3,
   "metadata": {
    "ExecuteTime": {
     "end_time": "2021-02-11T13:55:54.332392Z",
     "start_time": "2021-02-11T13:55:54.299517Z"
    }
   },
   "outputs": [
    {
     "data": {
      "text/plain": [
       "<title>The Dormouse's story</title>"
      ]
     },
     "execution_count": 3,
     "metadata": {},
     "output_type": "execute_result"
    }
   ],
   "source": [
    "soup.title"
   ]
  },
  {
   "cell_type": "code",
   "execution_count": 4,
   "metadata": {
    "ExecuteTime": {
     "end_time": "2021-02-11T13:55:55.478217Z",
     "start_time": "2021-02-11T13:55:55.465264Z"
    }
   },
   "outputs": [
    {
     "data": {
      "text/plain": [
       "'title'"
      ]
     },
     "execution_count": 4,
     "metadata": {},
     "output_type": "execute_result"
    }
   ],
   "source": [
    "soup.title.name"
   ]
  },
  {
   "cell_type": "code",
   "execution_count": 5,
   "metadata": {
    "ExecuteTime": {
     "end_time": "2021-02-11T13:55:57.962020Z",
     "start_time": "2021-02-11T13:55:57.954651Z"
    }
   },
   "outputs": [
    {
     "data": {
      "text/plain": [
       "\"The Dormouse's story\""
      ]
     },
     "execution_count": 5,
     "metadata": {},
     "output_type": "execute_result"
    }
   ],
   "source": [
    "soup.title.string"
   ]
  },
  {
   "cell_type": "code",
   "execution_count": 6,
   "metadata": {
    "ExecuteTime": {
     "end_time": "2021-02-11T13:56:02.642497Z",
     "start_time": "2021-02-11T13:56:02.635182Z"
    }
   },
   "outputs": [
    {
     "data": {
      "text/plain": [
       "'head'"
      ]
     },
     "execution_count": 6,
     "metadata": {},
     "output_type": "execute_result"
    }
   ],
   "source": [
    "soup.title.parent.name"
   ]
  },
  {
   "cell_type": "code",
   "execution_count": 7,
   "metadata": {
    "ExecuteTime": {
     "end_time": "2021-02-11T13:56:10.257304Z",
     "start_time": "2021-02-11T13:56:10.249087Z"
    }
   },
   "outputs": [
    {
     "data": {
      "text/plain": [
       "<p class=\"title\"><b>The Dormouse's story</b></p>"
      ]
     },
     "execution_count": 7,
     "metadata": {},
     "output_type": "execute_result"
    }
   ],
   "source": [
    "soup.p"
   ]
  },
  {
   "cell_type": "code",
   "execution_count": 8,
   "metadata": {
    "ExecuteTime": {
     "end_time": "2021-02-11T13:56:16.483389Z",
     "start_time": "2021-02-11T13:56:16.475089Z"
    }
   },
   "outputs": [
    {
     "data": {
      "text/plain": [
       "['title']"
      ]
     },
     "execution_count": 8,
     "metadata": {},
     "output_type": "execute_result"
    }
   ],
   "source": [
    "soup.p['class']"
   ]
  },
  {
   "cell_type": "code",
   "execution_count": 9,
   "metadata": {
    "ExecuteTime": {
     "end_time": "2021-02-11T13:59:47.796930Z",
     "start_time": "2021-02-11T13:59:47.777835Z"
    }
   },
   "outputs": [
    {
     "data": {
      "text/plain": [
       "<a class=\"sister\" href=\"http://example.com/elsie\" id=\"link1\">Elsie</a>"
      ]
     },
     "execution_count": 9,
     "metadata": {},
     "output_type": "execute_result"
    }
   ],
   "source": [
    "soup.a"
   ]
  },
  {
   "cell_type": "code",
   "execution_count": 10,
   "metadata": {
    "ExecuteTime": {
     "end_time": "2021-02-11T13:59:52.304875Z",
     "start_time": "2021-02-11T13:59:52.293211Z"
    }
   },
   "outputs": [
    {
     "data": {
      "text/plain": [
       "[<a class=\"sister\" href=\"http://example.com/elsie\" id=\"link1\">Elsie</a>,\n",
       " <a class=\"sister\" href=\"http://example.com/lacie\" id=\"link2\">Lacie</a>,\n",
       " <a class=\"sister\" href=\"http://example.com/tillie\" id=\"link3\">Tillie</a>]"
      ]
     },
     "execution_count": 10,
     "metadata": {},
     "output_type": "execute_result"
    }
   ],
   "source": [
    "soup.find_all('a')"
   ]
  },
  {
   "cell_type": "code",
   "execution_count": 11,
   "metadata": {
    "ExecuteTime": {
     "end_time": "2021-02-11T13:59:56.040870Z",
     "start_time": "2021-02-11T13:59:56.031246Z"
    }
   },
   "outputs": [
    {
     "data": {
      "text/plain": [
       "<a class=\"sister\" href=\"http://example.com/elsie\" id=\"link1\">Elsie</a>"
      ]
     },
     "execution_count": 11,
     "metadata": {},
     "output_type": "execute_result"
    }
   ],
   "source": [
    "soup.find('a')"
   ]
  },
  {
   "cell_type": "code",
   "execution_count": 12,
   "metadata": {
    "ExecuteTime": {
     "end_time": "2021-02-11T13:59:59.481701Z",
     "start_time": "2021-02-11T13:59:59.472575Z"
    }
   },
   "outputs": [
    {
     "data": {
      "text/plain": [
       "['sister']"
      ]
     },
     "execution_count": 12,
     "metadata": {},
     "output_type": "execute_result"
    }
   ],
   "source": [
    "soup.find('a').get('class')"
   ]
  },
  {
   "cell_type": "code",
   "execution_count": 13,
   "metadata": {
    "ExecuteTime": {
     "end_time": "2021-02-11T14:00:12.729533Z",
     "start_time": "2021-02-11T14:00:12.720440Z"
    }
   },
   "outputs": [
    {
     "data": {
      "text/plain": [
       "<a class=\"sister\" href=\"http://example.com/tillie\" id=\"link3\">Tillie</a>"
      ]
     },
     "execution_count": 13,
     "metadata": {},
     "output_type": "execute_result"
    }
   ],
   "source": [
    "soup.find(id='link3')"
   ]
  },
  {
   "cell_type": "code",
   "execution_count": 14,
   "metadata": {
    "ExecuteTime": {
     "end_time": "2021-02-11T14:00:30.568914Z",
     "start_time": "2021-02-11T14:00:30.561801Z"
    }
   },
   "outputs": [
    {
     "name": "stdout",
     "output_type": "stream",
     "text": [
      "http://example.com/elsie\n",
      "http://example.com/lacie\n",
      "http://example.com/tillie\n"
     ]
    }
   ],
   "source": [
    "# One common task is extracting all the URLs found within a page's <a> tags:\n",
    "\n",
    "for link in soup.find_all('a'):\n",
    "    print(link.get('href'))"
   ]
  },
  {
   "cell_type": "code",
   "execution_count": 15,
   "metadata": {
    "ExecuteTime": {
     "end_time": "2021-02-11T14:00:45.892822Z",
     "start_time": "2021-02-11T14:00:45.887158Z"
    }
   },
   "outputs": [
    {
     "name": "stdout",
     "output_type": "stream",
     "text": [
      "The Dormouse's story\n",
      "\n",
      "The Dormouse's story\n",
      "Once upon a time there were three little sisters; and their names were\n",
      "Elsie,\n",
      "Lacie and\n",
      "Tillie;\n",
      "and they lived at the bottom of a well.\n",
      "...\n",
      "\n"
     ]
    }
   ],
   "source": [
    "# One common task is extracting all the text from a page:\n",
    "print(soup.get_text())"
   ]
  },
  {
   "cell_type": "code",
   "execution_count": 16,
   "metadata": {
    "ExecuteTime": {
     "end_time": "2021-02-11T14:00:48.865582Z",
     "start_time": "2021-02-11T14:00:48.858235Z"
    }
   },
   "outputs": [
    {
     "name": "stdout",
     "output_type": "stream",
     "text": [
      "<html>\n",
      " a web page\n",
      "</html>\n"
     ]
    }
   ],
   "source": [
    "# parse a document \n",
    "\n",
    "from bs4 import BeautifulSoup \n",
    "\n",
    "# with open('index.html') as fp:\n",
    "#     soup = BeautifulSoup(fp, 'html.parser')\n",
    "    \n",
    "soup = BeautifulSoup('<html> a web page </html>', 'html.parser')\n",
    "print(soup.prettify())"
   ]
  },
  {
   "cell_type": "code",
   "execution_count": 17,
   "metadata": {
    "ExecuteTime": {
     "end_time": "2021-02-11T14:01:06.289817Z",
     "start_time": "2021-02-11T14:01:06.276876Z"
    }
   },
   "outputs": [
    {
     "data": {
      "text/plain": [
       "bs4.element.Tag"
      ]
     },
     "execution_count": 17,
     "metadata": {},
     "output_type": "execute_result"
    }
   ],
   "source": [
    "soup = BeautifulSoup('<b class=\"boldest\">Extremely bold</b>', 'html.parser')\n",
    "tag = soup.b\n",
    "type(tag)"
   ]
  },
  {
   "cell_type": "code",
   "execution_count": 18,
   "metadata": {
    "ExecuteTime": {
     "end_time": "2021-02-11T14:01:10.146236Z",
     "start_time": "2021-02-11T14:01:10.139071Z"
    }
   },
   "outputs": [
    {
     "data": {
      "text/plain": [
       "'b'"
      ]
     },
     "execution_count": 18,
     "metadata": {},
     "output_type": "execute_result"
    }
   ],
   "source": [
    "tag.name"
   ]
  },
  {
   "cell_type": "code",
   "execution_count": 19,
   "metadata": {
    "ExecuteTime": {
     "end_time": "2021-02-11T14:01:15.889944Z",
     "start_time": "2021-02-11T14:01:15.883198Z"
    }
   },
   "outputs": [
    {
     "data": {
      "text/plain": [
       "'Extremely bold'"
      ]
     },
     "execution_count": 19,
     "metadata": {},
     "output_type": "execute_result"
    }
   ],
   "source": [
    "tag.get_text()"
   ]
  },
  {
   "cell_type": "code",
   "execution_count": 20,
   "metadata": {
    "ExecuteTime": {
     "end_time": "2021-02-11T14:01:25.338231Z",
     "start_time": "2021-02-11T14:01:25.330198Z"
    }
   },
   "outputs": [
    {
     "data": {
      "text/plain": [
       "'boldest'"
      ]
     },
     "execution_count": 20,
     "metadata": {},
     "output_type": "execute_result"
    }
   ],
   "source": [
    "tag = BeautifulSoup('<b id=\"boldest\">bold</b>', 'html.parser').b\n",
    "tag['id']"
   ]
  },
  {
   "cell_type": "code",
   "execution_count": 21,
   "metadata": {
    "ExecuteTime": {
     "end_time": "2021-02-11T14:01:32.502737Z",
     "start_time": "2021-02-11T14:01:32.495755Z"
    }
   },
   "outputs": [
    {
     "data": {
      "text/plain": [
       "{'id': 'boldest'}"
      ]
     },
     "execution_count": 21,
     "metadata": {},
     "output_type": "execute_result"
    }
   ],
   "source": [
    "tag.attrs"
   ]
  },
  {
   "cell_type": "code",
   "execution_count": 22,
   "metadata": {
    "ExecuteTime": {
     "end_time": "2021-02-11T14:02:59.000548Z",
     "start_time": "2021-02-11T14:02:58.990140Z"
    }
   },
   "outputs": [
    {
     "data": {
      "text/plain": [
       "['body']"
      ]
     },
     "execution_count": 22,
     "metadata": {},
     "output_type": "execute_result"
    }
   ],
   "source": [
    "# multivalues attributes\n",
    "css_soup = BeautifulSoup('<p class=\"body\"></p>', 'html.parser')\n",
    "css_soup.p['class']"
   ]
  },
  {
   "cell_type": "code",
   "execution_count": 23,
   "metadata": {
    "ExecuteTime": {
     "end_time": "2021-02-11T14:03:02.521346Z",
     "start_time": "2021-02-11T14:03:02.513153Z"
    }
   },
   "outputs": [
    {
     "data": {
      "text/plain": [
       "['body', 'strikeout']"
      ]
     },
     "execution_count": 23,
     "metadata": {},
     "output_type": "execute_result"
    }
   ],
   "source": [
    "css_soup = BeautifulSoup('<p class=\"body strikeout\"></p>', 'html.parser')\n",
    "css_soup.p['class']"
   ]
  },
  {
   "cell_type": "code",
   "execution_count": 24,
   "metadata": {
    "ExecuteTime": {
     "end_time": "2021-02-11T14:03:10.122018Z",
     "start_time": "2021-02-11T14:03:10.107767Z"
    }
   },
   "outputs": [
    {
     "data": {
      "text/plain": [
       "'my id'"
      ]
     },
     "execution_count": 24,
     "metadata": {},
     "output_type": "execute_result"
    }
   ],
   "source": [
    "id_soup = BeautifulSoup('<p id=\"my id\"></p>', 'html.parser')\n",
    "id_soup.p['id']"
   ]
  },
  {
   "cell_type": "markdown",
   "metadata": {},
   "source": [
    "### Navigating the tress"
   ]
  },
  {
   "cell_type": "code",
   "execution_count": 25,
   "metadata": {
    "ExecuteTime": {
     "end_time": "2021-02-11T14:03:21.400523Z",
     "start_time": "2021-02-11T14:03:21.393293Z"
    }
   },
   "outputs": [],
   "source": [
    "html_doc = \"\"\"\n",
    "<html><head><title>The Dormouse's story</title></head>\n",
    "<body>\n",
    "<p class=\"title\"><b>The Dormouse's story</b></p>\n",
    "\n",
    "<p class=\"story\">Once upon a time there were three little sisters; and their names were\n",
    "<a href=\"http://example.com/elsie\" class=\"sister\" id=\"link1\">Elsie</a>,\n",
    "<a href=\"http://example.com/lacie\" class=\"sister\" id=\"link2\">Lacie</a> and\n",
    "<a href=\"http://example.com/tillie\" class=\"sister\" id=\"link3\">Tillie</a>;\n",
    "and they lived at the bottom of a well.</p>\n",
    "\n",
    "<p class=\"story\">...</p>\n",
    "\"\"\"\n",
    "\n",
    "from bs4 import BeautifulSoup\n",
    "soup = BeautifulSoup(html_doc, 'html.parser')"
   ]
  },
  {
   "cell_type": "code",
   "execution_count": 26,
   "metadata": {
    "ExecuteTime": {
     "end_time": "2021-02-11T14:03:27.165112Z",
     "start_time": "2021-02-11T14:03:27.156327Z"
    }
   },
   "outputs": [
    {
     "data": {
      "text/plain": [
       "<head><title>The Dormouse's story</title></head>"
      ]
     },
     "execution_count": 26,
     "metadata": {},
     "output_type": "execute_result"
    }
   ],
   "source": [
    "# Going down\n",
    "# Navigating using tag names\n",
    "\n",
    "soup.head"
   ]
  },
  {
   "cell_type": "code",
   "execution_count": 27,
   "metadata": {
    "ExecuteTime": {
     "end_time": "2021-02-11T14:03:29.112725Z",
     "start_time": "2021-02-11T14:03:29.099727Z"
    }
   },
   "outputs": [
    {
     "data": {
      "text/plain": [
       "<title>The Dormouse's story</title>"
      ]
     },
     "execution_count": 27,
     "metadata": {},
     "output_type": "execute_result"
    }
   ],
   "source": [
    "soup.title"
   ]
  },
  {
   "cell_type": "code",
   "execution_count": 28,
   "metadata": {
    "ExecuteTime": {
     "end_time": "2021-02-11T14:04:01.848476Z",
     "start_time": "2021-02-11T14:04:01.839304Z"
    }
   },
   "outputs": [
    {
     "data": {
      "text/plain": [
       "<b>The Dormouse's story</b>"
      ]
     },
     "execution_count": 28,
     "metadata": {},
     "output_type": "execute_result"
    }
   ],
   "source": [
    "soup.body.b"
   ]
  },
  {
   "cell_type": "code",
   "execution_count": 29,
   "metadata": {
    "ExecuteTime": {
     "end_time": "2021-02-11T14:04:03.248396Z",
     "start_time": "2021-02-11T14:04:03.236317Z"
    }
   },
   "outputs": [
    {
     "data": {
      "text/plain": [
       "<a class=\"sister\" href=\"http://example.com/elsie\" id=\"link1\">Elsie</a>"
      ]
     },
     "execution_count": 29,
     "metadata": {},
     "output_type": "execute_result"
    }
   ],
   "source": [
    "soup.a"
   ]
  },
  {
   "cell_type": "code",
   "execution_count": 30,
   "metadata": {
    "ExecuteTime": {
     "end_time": "2021-02-11T14:04:04.004880Z",
     "start_time": "2021-02-11T14:04:03.994037Z"
    }
   },
   "outputs": [
    {
     "data": {
      "text/plain": [
       "[<a class=\"sister\" href=\"http://example.com/elsie\" id=\"link1\">Elsie</a>,\n",
       " <a class=\"sister\" href=\"http://example.com/lacie\" id=\"link2\">Lacie</a>,\n",
       " <a class=\"sister\" href=\"http://example.com/tillie\" id=\"link3\">Tillie</a>]"
      ]
     },
     "execution_count": 30,
     "metadata": {},
     "output_type": "execute_result"
    }
   ],
   "source": [
    "soup.find_all('a')"
   ]
  },
  {
   "cell_type": "code",
   "execution_count": 31,
   "metadata": {
    "ExecuteTime": {
     "end_time": "2021-02-11T14:04:05.118541Z",
     "start_time": "2021-02-11T14:04:05.110213Z"
    }
   },
   "outputs": [
    {
     "data": {
      "text/plain": [
       "<head><title>The Dormouse's story</title></head>"
      ]
     },
     "execution_count": 31,
     "metadata": {},
     "output_type": "execute_result"
    }
   ],
   "source": [
    "head_tag = soup.head\n",
    "head_tag"
   ]
  },
  {
   "cell_type": "code",
   "execution_count": 32,
   "metadata": {
    "ExecuteTime": {
     "end_time": "2021-02-11T14:04:06.113928Z",
     "start_time": "2021-02-11T14:04:06.106797Z"
    }
   },
   "outputs": [
    {
     "data": {
      "text/plain": [
       "[<title>The Dormouse's story</title>]"
      ]
     },
     "execution_count": 32,
     "metadata": {},
     "output_type": "execute_result"
    }
   ],
   "source": [
    "head_tag.contents"
   ]
  },
  {
   "cell_type": "code",
   "execution_count": 33,
   "metadata": {
    "ExecuteTime": {
     "end_time": "2021-02-11T14:04:09.829414Z",
     "start_time": "2021-02-11T14:04:09.824381Z"
    }
   },
   "outputs": [],
   "source": [
    "title_tag = head_tag.contents[0]"
   ]
  },
  {
   "cell_type": "code",
   "execution_count": 34,
   "metadata": {
    "ExecuteTime": {
     "end_time": "2021-02-11T14:04:13.924028Z",
     "start_time": "2021-02-11T14:04:13.909530Z"
    }
   },
   "outputs": [
    {
     "data": {
      "text/plain": [
       "<title>The Dormouse's story</title>"
      ]
     },
     "execution_count": 34,
     "metadata": {},
     "output_type": "execute_result"
    }
   ],
   "source": [
    "title_tag"
   ]
  },
  {
   "cell_type": "code",
   "execution_count": 35,
   "metadata": {
    "ExecuteTime": {
     "end_time": "2021-02-11T14:04:16.782022Z",
     "start_time": "2021-02-11T14:04:16.774731Z"
    }
   },
   "outputs": [
    {
     "data": {
      "text/plain": [
       "[\"The Dormouse's story\"]"
      ]
     },
     "execution_count": 35,
     "metadata": {},
     "output_type": "execute_result"
    }
   ],
   "source": [
    "title_tag.contents"
   ]
  },
  {
   "cell_type": "code",
   "execution_count": 36,
   "metadata": {
    "ExecuteTime": {
     "end_time": "2021-02-11T14:04:18.584209Z",
     "start_time": "2021-02-11T14:04:18.577371Z"
    }
   },
   "outputs": [
    {
     "data": {
      "text/plain": [
       "2"
      ]
     },
     "execution_count": 36,
     "metadata": {},
     "output_type": "execute_result"
    }
   ],
   "source": [
    "len(soup.contents)"
   ]
  },
  {
   "cell_type": "code",
   "execution_count": 37,
   "metadata": {
    "ExecuteTime": {
     "end_time": "2021-02-11T14:04:20.186512Z",
     "start_time": "2021-02-11T14:04:20.178710Z"
    }
   },
   "outputs": [
    {
     "data": {
      "text/plain": [
       "['\\n',\n",
       " <html><head><title>The Dormouse's story</title></head>\n",
       " <body>\n",
       " <p class=\"title\"><b>The Dormouse's story</b></p>\n",
       " <p class=\"story\">Once upon a time there were three little sisters; and their names were\n",
       " <a class=\"sister\" href=\"http://example.com/elsie\" id=\"link1\">Elsie</a>,\n",
       " <a class=\"sister\" href=\"http://example.com/lacie\" id=\"link2\">Lacie</a> and\n",
       " <a class=\"sister\" href=\"http://example.com/tillie\" id=\"link3\">Tillie</a>;\n",
       " and they lived at the bottom of a well.</p>\n",
       " <p class=\"story\">...</p>\n",
       " </body></html>]"
      ]
     },
     "execution_count": 37,
     "metadata": {},
     "output_type": "execute_result"
    }
   ],
   "source": [
    "soup.contents"
   ]
  },
  {
   "cell_type": "code",
   "execution_count": 38,
   "metadata": {
    "ExecuteTime": {
     "end_time": "2021-02-11T14:04:25.175699Z",
     "start_time": "2021-02-11T14:04:25.160561Z"
    }
   },
   "outputs": [
    {
     "data": {
      "text/plain": [
       "'html'"
      ]
     },
     "execution_count": 38,
     "metadata": {},
     "output_type": "execute_result"
    }
   ],
   "source": [
    "soup.contents[1].name"
   ]
  },
  {
   "cell_type": "code",
   "execution_count": 39,
   "metadata": {
    "ExecuteTime": {
     "end_time": "2021-02-11T14:04:34.424904Z",
     "start_time": "2021-02-11T14:04:34.412220Z"
    }
   },
   "outputs": [
    {
     "data": {
      "text/plain": [
       "\"The Dormouse's story\""
      ]
     },
     "execution_count": 39,
     "metadata": {},
     "output_type": "execute_result"
    }
   ],
   "source": [
    "text = title_tag.contents[0]\n",
    "text"
   ]
  },
  {
   "cell_type": "code",
   "execution_count": 40,
   "metadata": {
    "ExecuteTime": {
     "end_time": "2021-02-11T14:04:35.967496Z",
     "start_time": "2021-02-11T14:04:35.960734Z"
    }
   },
   "outputs": [
    {
     "name": "stdout",
     "output_type": "stream",
     "text": [
      "The Dormouse's story\n"
     ]
    }
   ],
   "source": [
    "for child in title_tag.children:\n",
    "    print(child)"
   ]
  },
  {
   "cell_type": "code",
   "execution_count": 41,
   "metadata": {
    "ExecuteTime": {
     "end_time": "2021-02-11T14:04:46.655563Z",
     "start_time": "2021-02-11T14:04:46.646982Z"
    }
   },
   "outputs": [
    {
     "name": "stdout",
     "output_type": "stream",
     "text": [
      "<title>The Dormouse's story</title>\n",
      "The Dormouse's story\n"
     ]
    }
   ],
   "source": [
    "for child in head_tag.descendants:\n",
    "    print(child)"
   ]
  },
  {
   "cell_type": "code",
   "execution_count": 42,
   "metadata": {
    "ExecuteTime": {
     "end_time": "2021-02-11T14:05:02.732894Z",
     "start_time": "2021-02-11T14:05:02.726627Z"
    }
   },
   "outputs": [
    {
     "name": "stdout",
     "output_type": "stream",
     "text": [
      "<title>The Dormouse's story</title>\n"
     ]
    }
   ],
   "source": [
    "for child in head_tag.children:\n",
    "    print(child)"
   ]
  },
  {
   "cell_type": "code",
   "execution_count": 43,
   "metadata": {
    "ExecuteTime": {
     "end_time": "2021-02-11T14:05:06.019011Z",
     "start_time": "2021-02-11T14:05:06.010630Z"
    }
   },
   "outputs": [
    {
     "name": "stdout",
     "output_type": "stream",
     "text": [
      "\n",
      "\n",
      "<p class=\"title\"><b>The Dormouse's story</b></p>\n",
      "\n",
      "\n",
      "<p class=\"story\">Once upon a time there were three little sisters; and their names were\n",
      "<a class=\"sister\" href=\"http://example.com/elsie\" id=\"link1\">Elsie</a>,\n",
      "<a class=\"sister\" href=\"http://example.com/lacie\" id=\"link2\">Lacie</a> and\n",
      "<a class=\"sister\" href=\"http://example.com/tillie\" id=\"link3\">Tillie</a>;\n",
      "and they lived at the bottom of a well.</p>\n",
      "\n",
      "\n",
      "<p class=\"story\">...</p>\n",
      "\n",
      "\n"
     ]
    }
   ],
   "source": [
    "for child in soup.body.children:\n",
    "    print(child)"
   ]
  },
  {
   "cell_type": "code",
   "execution_count": 44,
   "metadata": {
    "ExecuteTime": {
     "end_time": "2021-02-11T14:05:09.605151Z",
     "start_time": "2021-02-11T14:05:09.592750Z"
    }
   },
   "outputs": [
    {
     "name": "stdout",
     "output_type": "stream",
     "text": [
      "\n",
      "\n",
      "<p class=\"title\"><b>The Dormouse's story</b></p>\n",
      "<b>The Dormouse's story</b>\n",
      "The Dormouse's story\n",
      "\n",
      "\n",
      "<p class=\"story\">Once upon a time there were three little sisters; and their names were\n",
      "<a class=\"sister\" href=\"http://example.com/elsie\" id=\"link1\">Elsie</a>,\n",
      "<a class=\"sister\" href=\"http://example.com/lacie\" id=\"link2\">Lacie</a> and\n",
      "<a class=\"sister\" href=\"http://example.com/tillie\" id=\"link3\">Tillie</a>;\n",
      "and they lived at the bottom of a well.</p>\n",
      "Once upon a time there were three little sisters; and their names were\n",
      "\n",
      "<a class=\"sister\" href=\"http://example.com/elsie\" id=\"link1\">Elsie</a>\n",
      "Elsie\n",
      ",\n",
      "\n",
      "<a class=\"sister\" href=\"http://example.com/lacie\" id=\"link2\">Lacie</a>\n",
      "Lacie\n",
      " and\n",
      "\n",
      "<a class=\"sister\" href=\"http://example.com/tillie\" id=\"link3\">Tillie</a>\n",
      "Tillie\n",
      ";\n",
      "and they lived at the bottom of a well.\n",
      "\n",
      "\n",
      "<p class=\"story\">...</p>\n",
      "...\n",
      "\n",
      "\n"
     ]
    }
   ],
   "source": [
    "for child in soup.body.descendants:\n",
    "    print(child)"
   ]
  },
  {
   "cell_type": "code",
   "execution_count": 45,
   "metadata": {
    "ExecuteTime": {
     "end_time": "2021-02-11T14:05:10.990559Z",
     "start_time": "2021-02-11T14:05:10.983594Z"
    }
   },
   "outputs": [
    {
     "data": {
      "text/plain": [
       "2"
      ]
     },
     "execution_count": 45,
     "metadata": {},
     "output_type": "execute_result"
    }
   ],
   "source": [
    "len(list(soup.children))"
   ]
  },
  {
   "cell_type": "code",
   "execution_count": 46,
   "metadata": {
    "ExecuteTime": {
     "end_time": "2021-02-11T14:05:14.215630Z",
     "start_time": "2021-02-11T14:05:14.207989Z"
    }
   },
   "outputs": [
    {
     "data": {
      "text/plain": [
       "27"
      ]
     },
     "execution_count": 46,
     "metadata": {},
     "output_type": "execute_result"
    }
   ],
   "source": [
    "len(list(soup.descendants))"
   ]
  },
  {
   "cell_type": "code",
   "execution_count": 47,
   "metadata": {
    "ExecuteTime": {
     "end_time": "2021-02-11T14:05:14.973909Z",
     "start_time": "2021-02-11T14:05:14.967096Z"
    }
   },
   "outputs": [
    {
     "data": {
      "text/plain": [
       "\"The Dormouse's story\""
      ]
     },
     "execution_count": 47,
     "metadata": {},
     "output_type": "execute_result"
    }
   ],
   "source": [
    "title_tag.string"
   ]
  },
  {
   "cell_type": "code",
   "execution_count": 48,
   "metadata": {
    "ExecuteTime": {
     "end_time": "2021-02-11T14:05:20.483688Z",
     "start_time": "2021-02-11T14:05:20.472718Z"
    }
   },
   "outputs": [
    {
     "data": {
      "text/plain": [
       "\"The Dormouse's story\""
      ]
     },
     "execution_count": 48,
     "metadata": {},
     "output_type": "execute_result"
    }
   ],
   "source": [
    "head_tag.string"
   ]
  },
  {
   "cell_type": "code",
   "execution_count": 49,
   "metadata": {
    "ExecuteTime": {
     "end_time": "2021-02-11T14:05:21.592634Z",
     "start_time": "2021-02-11T14:05:21.587655Z"
    }
   },
   "outputs": [],
   "source": [
    "soup.html.string"
   ]
  },
  {
   "cell_type": "code",
   "execution_count": 51,
   "metadata": {
    "ExecuteTime": {
     "end_time": "2021-02-11T14:06:05.094504Z",
     "start_time": "2021-02-11T14:06:05.084111Z"
    }
   },
   "outputs": [
    {
     "name": "stdout",
     "output_type": "stream",
     "text": [
      "'\\n'\n",
      "\"The Dormouse's story\"\n",
      "'\\n'\n",
      "'\\n'\n",
      "\"The Dormouse's story\"\n",
      "'\\n'\n",
      "'Once upon a time there were three little sisters; and their names were\\n'\n",
      "'Elsie'\n",
      "',\\n'\n",
      "'Lacie'\n",
      "' and\\n'\n",
      "'Tillie'\n",
      "';\\nand they lived at the bottom of a well.'\n",
      "'\\n'\n",
      "'...'\n",
      "'\\n'\n"
     ]
    }
   ],
   "source": [
    "for string in soup.strings:\n",
    "    print(repr(string))"
   ]
  },
  {
   "cell_type": "code",
   "execution_count": 52,
   "metadata": {
    "ExecuteTime": {
     "end_time": "2021-02-11T14:06:05.919120Z",
     "start_time": "2021-02-11T14:06:05.910354Z"
    }
   },
   "outputs": [
    {
     "name": "stdout",
     "output_type": "stream",
     "text": [
      "\"The Dormouse's story\"\n",
      "\"The Dormouse's story\"\n",
      "'Once upon a time there were three little sisters; and their names were'\n",
      "'Elsie'\n",
      "','\n",
      "'Lacie'\n",
      "'and'\n",
      "'Tillie'\n",
      "';\\nand they lived at the bottom of a well.'\n",
      "'...'\n"
     ]
    }
   ],
   "source": [
    "for string in soup.stripped_strings:\n",
    "    print(repr(string))"
   ]
  },
  {
   "cell_type": "code",
   "execution_count": 53,
   "metadata": {
    "ExecuteTime": {
     "end_time": "2021-02-11T14:06:08.397595Z",
     "start_time": "2021-02-11T14:06:08.388962Z"
    }
   },
   "outputs": [
    {
     "data": {
      "text/plain": [
       "<title>The Dormouse's story</title>"
      ]
     },
     "execution_count": 53,
     "metadata": {},
     "output_type": "execute_result"
    }
   ],
   "source": [
    "# Going up\n",
    "\n",
    "title_tag = soup.title\n",
    "title_tag"
   ]
  },
  {
   "cell_type": "code",
   "execution_count": 54,
   "metadata": {
    "ExecuteTime": {
     "end_time": "2021-02-11T14:06:09.151681Z",
     "start_time": "2021-02-11T14:06:09.137620Z"
    }
   },
   "outputs": [
    {
     "data": {
      "text/plain": [
       "<head><title>The Dormouse's story</title></head>"
      ]
     },
     "execution_count": 54,
     "metadata": {},
     "output_type": "execute_result"
    }
   ],
   "source": [
    "title_tag.parent"
   ]
  },
  {
   "cell_type": "code",
   "execution_count": 55,
   "metadata": {
    "ExecuteTime": {
     "end_time": "2021-02-11T14:06:09.831119Z",
     "start_time": "2021-02-11T14:06:09.822272Z"
    }
   },
   "outputs": [
    {
     "data": {
      "text/plain": [
       "<title>The Dormouse's story</title>"
      ]
     },
     "execution_count": 55,
     "metadata": {},
     "output_type": "execute_result"
    }
   ],
   "source": [
    "title_tag.string.parent"
   ]
  },
  {
   "cell_type": "code",
   "execution_count": 56,
   "metadata": {
    "ExecuteTime": {
     "end_time": "2021-02-11T14:06:10.678758Z",
     "start_time": "2021-02-11T14:06:10.671363Z"
    }
   },
   "outputs": [
    {
     "data": {
      "text/plain": [
       "bs4.BeautifulSoup"
      ]
     },
     "execution_count": 56,
     "metadata": {},
     "output_type": "execute_result"
    }
   ],
   "source": [
    "html_tag = soup.html\n",
    "type(html_tag.parent)"
   ]
  },
  {
   "cell_type": "code",
   "execution_count": 57,
   "metadata": {
    "ExecuteTime": {
     "end_time": "2021-02-11T14:06:11.203519Z",
     "start_time": "2021-02-11T14:06:11.196584Z"
    }
   },
   "outputs": [
    {
     "name": "stdout",
     "output_type": "stream",
     "text": [
      "None\n"
     ]
    }
   ],
   "source": [
    "print(soup.parent)"
   ]
  },
  {
   "cell_type": "code",
   "execution_count": 58,
   "metadata": {
    "ExecuteTime": {
     "end_time": "2021-02-11T14:06:11.718159Z",
     "start_time": "2021-02-11T14:06:11.696133Z"
    }
   },
   "outputs": [
    {
     "data": {
      "text/plain": [
       "<a class=\"sister\" href=\"http://example.com/elsie\" id=\"link1\">Elsie</a>"
      ]
     },
     "execution_count": 58,
     "metadata": {},
     "output_type": "execute_result"
    }
   ],
   "source": [
    "# .parents\n",
    "\n",
    "link = soup.a\n",
    "link"
   ]
  },
  {
   "cell_type": "code",
   "execution_count": 59,
   "metadata": {
    "ExecuteTime": {
     "end_time": "2021-02-11T14:06:12.292797Z",
     "start_time": "2021-02-11T14:06:12.278754Z"
    }
   },
   "outputs": [
    {
     "name": "stdout",
     "output_type": "stream",
     "text": [
      "p\n",
      "body\n",
      "html\n",
      "[document]\n"
     ]
    }
   ],
   "source": [
    "for parent in link.parents:\n",
    "    print(parent.name)"
   ]
  },
  {
   "cell_type": "code",
   "execution_count": 60,
   "metadata": {
    "ExecuteTime": {
     "end_time": "2021-02-11T14:06:15.163537Z",
     "start_time": "2021-02-11T14:06:15.153682Z"
    }
   },
   "outputs": [
    {
     "name": "stdout",
     "output_type": "stream",
     "text": [
      "<a>\n",
      " <b>\n",
      "  text1\n",
      " </b>\n",
      " <c>\n",
      "  text2\n",
      " </c>\n",
      "</a>\n"
     ]
    }
   ],
   "source": [
    "# Going sideways\n",
    "\n",
    "sibling_soup = BeautifulSoup(\"<a><b>text1</b><c>text2</c></b></a>\", 'html.parser')\n",
    "print(sibling_soup.prettify())"
   ]
  },
  {
   "cell_type": "code",
   "execution_count": 61,
   "metadata": {
    "ExecuteTime": {
     "end_time": "2021-02-11T14:06:16.224251Z",
     "start_time": "2021-02-11T14:06:16.215565Z"
    }
   },
   "outputs": [
    {
     "data": {
      "text/plain": [
       "<c>text2</c>"
      ]
     },
     "execution_count": 61,
     "metadata": {},
     "output_type": "execute_result"
    }
   ],
   "source": [
    "sibling_soup.b.next_sibling"
   ]
  },
  {
   "cell_type": "code",
   "execution_count": 62,
   "metadata": {
    "ExecuteTime": {
     "end_time": "2021-02-11T14:06:17.579137Z",
     "start_time": "2021-02-11T14:06:17.571307Z"
    }
   },
   "outputs": [
    {
     "data": {
      "text/plain": [
       "<b>text1</b>"
      ]
     },
     "execution_count": 62,
     "metadata": {},
     "output_type": "execute_result"
    }
   ],
   "source": [
    "sibling_soup.c.previous_sibling"
   ]
  },
  {
   "cell_type": "code",
   "execution_count": 63,
   "metadata": {
    "ExecuteTime": {
     "end_time": "2021-02-11T14:06:18.731508Z",
     "start_time": "2021-02-11T14:06:18.724428Z"
    }
   },
   "outputs": [
    {
     "name": "stdout",
     "output_type": "stream",
     "text": [
      "None\n",
      "None\n"
     ]
    }
   ],
   "source": [
    "print(sibling_soup.b.previous_sibling)\n",
    "# None\n",
    "print(sibling_soup.c.next_sibling)\n",
    "# None"
   ]
  },
  {
   "cell_type": "code",
   "execution_count": 64,
   "metadata": {
    "ExecuteTime": {
     "end_time": "2021-02-11T14:06:19.547537Z",
     "start_time": "2021-02-11T14:06:19.532966Z"
    }
   },
   "outputs": [
    {
     "name": "stdout",
     "output_type": "stream",
     "text": [
      "None\n"
     ]
    }
   ],
   "source": [
    "sibling_soup.b.string\n",
    "# 'text1'\n",
    "\n",
    "print(sibling_soup.b.string.next_sibling)\n",
    "# None\n"
   ]
  },
  {
   "cell_type": "code",
   "execution_count": 65,
   "metadata": {
    "ExecuteTime": {
     "end_time": "2021-02-11T14:06:20.258396Z",
     "start_time": "2021-02-11T14:06:20.250896Z"
    }
   },
   "outputs": [
    {
     "name": "stdout",
     "output_type": "stream",
     "text": [
      "',\\n'\n",
      "<a class=\"sister\" href=\"http://example.com/lacie\" id=\"link2\">Lacie</a>\n",
      "' and\\n'\n",
      "<a class=\"sister\" href=\"http://example.com/tillie\" id=\"link3\">Tillie</a>\n",
      "';\\nand they lived at the bottom of a well.'\n"
     ]
    }
   ],
   "source": [
    "for sibling in soup.a.next_siblings:\n",
    "    print(repr(sibling))\n"
   ]
  },
  {
   "cell_type": "code",
   "execution_count": 66,
   "metadata": {
    "ExecuteTime": {
     "end_time": "2021-02-11T14:06:20.796672Z",
     "start_time": "2021-02-11T14:06:20.779792Z"
    }
   },
   "outputs": [
    {
     "name": "stdout",
     "output_type": "stream",
     "text": [
      "' and\\n'\n",
      "<a class=\"sister\" href=\"http://example.com/lacie\" id=\"link2\">Lacie</a>\n",
      "',\\n'\n",
      "<a class=\"sister\" href=\"http://example.com/elsie\" id=\"link1\">Elsie</a>\n",
      "'Once upon a time there were three little sisters; and their names were\\n'\n"
     ]
    }
   ],
   "source": [
    "for sibling in soup.find(id=\"link3\").previous_siblings:\n",
    "    print(repr(sibling))"
   ]
  },
  {
   "cell_type": "code",
   "execution_count": 67,
   "metadata": {
    "ExecuteTime": {
     "end_time": "2021-02-11T14:06:21.380702Z",
     "start_time": "2021-02-11T14:06:21.370413Z"
    }
   },
   "outputs": [
    {
     "data": {
      "text/plain": [
       "<a class=\"sister\" href=\"http://example.com/tillie\" id=\"link3\">Tillie</a>"
      ]
     },
     "execution_count": 67,
     "metadata": {},
     "output_type": "execute_result"
    }
   ],
   "source": [
    "# Going back and forth\n",
    "\n",
    "last_a_tag = soup.find(\"a\", id=\"link3\")\n",
    "last_a_tag"
   ]
  },
  {
   "cell_type": "code",
   "execution_count": 68,
   "metadata": {
    "ExecuteTime": {
     "end_time": "2021-02-11T14:06:21.957453Z",
     "start_time": "2021-02-11T14:06:21.945706Z"
    }
   },
   "outputs": [
    {
     "name": "stdout",
     "output_type": "stream",
     "text": [
      "'Tillie'\n",
      "';\\nand they lived at the bottom of a well.'\n",
      "'\\n'\n",
      "<p class=\"story\">...</p>\n",
      "'...'\n",
      "'\\n'\n"
     ]
    }
   ],
   "source": [
    "for element in last_a_tag.next_elements:\n",
    "    print(repr(element))"
   ]
  },
  {
   "cell_type": "code",
   "execution_count": 69,
   "metadata": {
    "ExecuteTime": {
     "end_time": "2021-02-11T14:06:24.308781Z",
     "start_time": "2021-02-11T14:06:24.295279Z"
    }
   },
   "outputs": [],
   "source": [
    "# Searching the treee\n",
    "\n",
    "html_doc = \"\"\"\n",
    "<html><head><title>The Dormouse's story</title></head>\n",
    "<body>\n",
    "<p class=\"title\"><b>The Dormouse's story</b></p>\n",
    "\n",
    "<p class=\"story\">Once upon a time there were three little sisters; and their names were\n",
    "<a href=\"http://example.com/elsie\" class=\"sister\" id=\"link1\">Elsie</a>,\n",
    "<a href=\"http://example.com/lacie\" class=\"sister\" id=\"link2\">Lacie</a> and\n",
    "<a href=\"http://example.com/tillie\" class=\"sister\" id=\"link3\">Tillie</a>;\n",
    "and they lived at the bottom of a well.</p>\n",
    "\n",
    "<p class=\"story\">...</p>\n",
    "\"\"\"\n",
    "\n",
    "from bs4 import BeautifulSoup\n",
    "soup = BeautifulSoup(html_doc, 'html.parser')\n"
   ]
  },
  {
   "cell_type": "code",
   "execution_count": 70,
   "metadata": {
    "ExecuteTime": {
     "end_time": "2021-02-11T14:06:26.342325Z",
     "start_time": "2021-02-11T14:06:26.334700Z"
    }
   },
   "outputs": [
    {
     "data": {
      "text/plain": [
       "[<b>The Dormouse's story</b>]"
      ]
     },
     "execution_count": 70,
     "metadata": {},
     "output_type": "execute_result"
    }
   ],
   "source": [
    "soup.find_all('b')"
   ]
  },
  {
   "cell_type": "code",
   "execution_count": 71,
   "metadata": {
    "ExecuteTime": {
     "end_time": "2021-02-11T14:06:27.168624Z",
     "start_time": "2021-02-11T14:06:27.160695Z"
    }
   },
   "outputs": [
    {
     "name": "stdout",
     "output_type": "stream",
     "text": [
      "body\n",
      "b\n"
     ]
    }
   ],
   "source": [
    "import re\n",
    "for tag in soup.find_all(re.compile('^b')):\n",
    "    print(tag.name)"
   ]
  },
  {
   "cell_type": "code",
   "execution_count": 72,
   "metadata": {
    "ExecuteTime": {
     "end_time": "2021-02-11T14:06:35.902782Z",
     "start_time": "2021-02-11T14:06:35.895638Z"
    }
   },
   "outputs": [
    {
     "name": "stdout",
     "output_type": "stream",
     "text": [
      "html\n",
      "title\n"
     ]
    }
   ],
   "source": [
    "for tag in soup.find_all(re.compile(\"t\")):\n",
    "    print(tag.name)\n"
   ]
  },
  {
   "cell_type": "code",
   "execution_count": 73,
   "metadata": {
    "ExecuteTime": {
     "end_time": "2021-02-11T14:06:36.848803Z",
     "start_time": "2021-02-11T14:06:36.840221Z"
    }
   },
   "outputs": [
    {
     "data": {
      "text/plain": [
       "<b>The Dormouse's story</b>"
      ]
     },
     "execution_count": 73,
     "metadata": {},
     "output_type": "execute_result"
    }
   ],
   "source": [
    "soup.find(['a', 'b'])"
   ]
  },
  {
   "cell_type": "code",
   "execution_count": 74,
   "metadata": {
    "ExecuteTime": {
     "end_time": "2021-02-11T14:06:37.785922Z",
     "start_time": "2021-02-11T14:06:37.780880Z"
    }
   },
   "outputs": [],
   "source": [
    "for tag in soup.find_all('True'):\n",
    "    print(tag.name)"
   ]
  },
  {
   "cell_type": "code",
   "execution_count": 75,
   "metadata": {
    "ExecuteTime": {
     "end_time": "2021-02-11T14:06:39.001202Z",
     "start_time": "2021-02-11T14:06:38.989089Z"
    }
   },
   "outputs": [
    {
     "data": {
      "text/plain": [
       "'Once upon a time there were three little sisters; and their names were\\n'"
      ]
     },
     "execution_count": 75,
     "metadata": {},
     "output_type": "execute_result"
    }
   ],
   "source": [
    "soup.find_all(\"title\")\n",
    "# [<title>The Dormouse's story</title>]\n",
    "\n",
    "soup.find_all(\"p\", \"title\")\n",
    "# [<p class=\"title\"><b>The Dormouse's story</b></p>]\n",
    "\n",
    "soup.find_all(\"a\")\n",
    "# [<a class=\"sister\" href=\"http://example.com/elsie\" id=\"link1\">Elsie</a>,\n",
    "#  <a class=\"sister\" href=\"http://example.com/lacie\" id=\"link2\">Lacie</a>,\n",
    "#  <a class=\"sister\" href=\"http://example.com/tillie\" id=\"link3\">Tillie</a>]\n",
    "\n",
    "soup.find_all(id=\"link2\")\n",
    "# [<a class=\"sister\" href=\"http://example.com/lacie\" id=\"link2\">Lacie</a>]\n",
    "\n",
    "import re\n",
    "soup.find(string=re.compile(\"sisters\"))\n",
    "# 'Once upon a time there were three little sisters; and their names were\\n'"
   ]
  },
  {
   "cell_type": "code",
   "execution_count": 76,
   "metadata": {
    "ExecuteTime": {
     "end_time": "2021-02-11T14:06:48.684579Z",
     "start_time": "2021-02-11T14:06:48.677872Z"
    }
   },
   "outputs": [],
   "source": [
    "data_soup = BeautifulSoup('<div data-foo=\"value\">foo!</div>', 'html.parser')\n",
    "#data_soup.find_all(data-foo=\"value\") # Error\n"
   ]
  },
  {
   "cell_type": "code",
   "execution_count": 77,
   "metadata": {
    "ExecuteTime": {
     "end_time": "2021-02-11T14:06:49.491625Z",
     "start_time": "2021-02-11T14:06:49.483535Z"
    }
   },
   "outputs": [
    {
     "data": {
      "text/plain": [
       "[<div data-foo=\"value\">foo!</div>]"
      ]
     },
     "execution_count": 77,
     "metadata": {},
     "output_type": "execute_result"
    }
   ],
   "source": [
    "data_soup.find_all(attrs = {'data-foo': 'value'})"
   ]
  },
  {
   "cell_type": "code",
   "execution_count": 78,
   "metadata": {
    "ExecuteTime": {
     "end_time": "2021-02-11T14:06:54.333684Z",
     "start_time": "2021-02-11T14:06:54.324148Z"
    }
   },
   "outputs": [
    {
     "data": {
      "text/plain": [
       "[<input name=\"email\"/>]"
      ]
     },
     "execution_count": 78,
     "metadata": {},
     "output_type": "execute_result"
    }
   ],
   "source": [
    "name_soup = BeautifulSoup('<input name=\"email\"/>', 'html.parser')\n",
    "name_soup.find_all(name=\"email\")\n",
    "# []\n",
    "name_soup.find_all(attrs={\"name\": \"email\"})\n",
    "# [<input name=\"email\"/>]"
   ]
  },
  {
   "cell_type": "code",
   "execution_count": 79,
   "metadata": {
    "ExecuteTime": {
     "end_time": "2021-02-11T14:06:56.016185Z",
     "start_time": "2021-02-11T14:06:56.005205Z"
    }
   },
   "outputs": [
    {
     "data": {
      "text/plain": [
       "[<a class=\"sister\" href=\"http://example.com/elsie\" id=\"link1\">Elsie</a>,\n",
       " <a class=\"sister\" href=\"http://example.com/lacie\" id=\"link2\">Lacie</a>,\n",
       " <a class=\"sister\" href=\"http://example.com/tillie\" id=\"link3\">Tillie</a>]"
      ]
     },
     "execution_count": 79,
     "metadata": {},
     "output_type": "execute_result"
    }
   ],
   "source": [
    "# Searching by CSS class\n",
    "soup.find_all('a', class_='sister')"
   ]
  },
  {
   "cell_type": "code",
   "execution_count": 80,
   "metadata": {
    "ExecuteTime": {
     "end_time": "2021-02-11T14:07:06.245691Z",
     "start_time": "2021-02-11T14:07:06.237504Z"
    }
   },
   "outputs": [
    {
     "data": {
      "text/plain": [
       "[<p class=\"title\"><b>The Dormouse's story</b></p>]"
      ]
     },
     "execution_count": 80,
     "metadata": {},
     "output_type": "execute_result"
    }
   ],
   "source": [
    "soup.find_all(class_=re.compile(\"itl\"))"
   ]
  },
  {
   "cell_type": "code",
   "execution_count": 81,
   "metadata": {
    "ExecuteTime": {
     "end_time": "2021-02-11T14:07:07.736177Z",
     "start_time": "2021-02-11T14:07:07.719837Z"
    }
   },
   "outputs": [
    {
     "data": {
      "text/plain": [
       "[<a class=\"sister\" href=\"http://example.com/elsie\" id=\"link1\">Elsie</a>,\n",
       " <a class=\"sister\" href=\"http://example.com/lacie\" id=\"link2\">Lacie</a>,\n",
       " <a class=\"sister\" href=\"http://example.com/tillie\" id=\"link3\">Tillie</a>]"
      ]
     },
     "execution_count": 81,
     "metadata": {},
     "output_type": "execute_result"
    }
   ],
   "source": [
    "def has_six_characters(css_class):\n",
    "    return css_class is not None and len(css_class) == 6\n",
    "\n",
    "soup.find_all(class_=has_six_characters)"
   ]
  },
  {
   "cell_type": "code",
   "execution_count": 82,
   "metadata": {
    "ExecuteTime": {
     "end_time": "2021-02-11T14:07:08.534266Z",
     "start_time": "2021-02-11T14:07:08.518368Z"
    }
   },
   "outputs": [
    {
     "data": {
      "text/plain": [
       "[<p class=\"body strikeout\"></p>]"
      ]
     },
     "execution_count": 82,
     "metadata": {},
     "output_type": "execute_result"
    }
   ],
   "source": [
    "css_soup.select(\"p.strikeout.body\")"
   ]
  },
  {
   "cell_type": "code",
   "execution_count": 83,
   "metadata": {
    "ExecuteTime": {
     "end_time": "2021-02-11T14:07:10.359899Z",
     "start_time": "2021-02-11T14:07:10.351242Z"
    }
   },
   "outputs": [
    {
     "data": {
      "text/plain": [
       "[<a class=\"sister\" href=\"http://example.com/elsie\" id=\"link1\">Elsie</a>]"
      ]
     },
     "execution_count": 83,
     "metadata": {},
     "output_type": "execute_result"
    }
   ],
   "source": [
    "soup.find_all(\"a\", string=\"Elsie\")"
   ]
  },
  {
   "cell_type": "code",
   "execution_count": 84,
   "metadata": {
    "ExecuteTime": {
     "end_time": "2021-02-11T14:07:23.470449Z",
     "start_time": "2021-02-11T14:07:23.462338Z"
    }
   },
   "outputs": [
    {
     "data": {
      "text/plain": [
       "[<a class=\"sister\" href=\"http://example.com/elsie\" id=\"link1\">Elsie</a>,\n",
       " <a class=\"sister\" href=\"http://example.com/lacie\" id=\"link2\">Lacie</a>]"
      ]
     },
     "execution_count": 84,
     "metadata": {},
     "output_type": "execute_result"
    }
   ],
   "source": [
    "soup.find_all(\"a\", limit=2)"
   ]
  },
  {
   "cell_type": "code",
   "execution_count": 85,
   "metadata": {
    "ExecuteTime": {
     "end_time": "2021-02-11T14:07:23.998948Z",
     "start_time": "2021-02-11T14:07:23.980528Z"
    }
   },
   "outputs": [
    {
     "data": {
      "text/plain": [
       "[<title>The Dormouse's story</title>]"
      ]
     },
     "execution_count": 85,
     "metadata": {},
     "output_type": "execute_result"
    }
   ],
   "source": [
    "soup.html.find_all(\"title\")\n",
    "# [<title>The Dormouse's story</title>]"
   ]
  },
  {
   "cell_type": "code",
   "execution_count": 86,
   "metadata": {
    "ExecuteTime": {
     "end_time": "2021-02-11T14:07:24.425541Z",
     "start_time": "2021-02-11T14:07:24.415106Z"
    }
   },
   "outputs": [
    {
     "data": {
      "text/plain": [
       "[]"
      ]
     },
     "execution_count": 86,
     "metadata": {},
     "output_type": "execute_result"
    }
   ],
   "source": [
    "soup.html.find_all(\"title\", recursive=False)"
   ]
  },
  {
   "cell_type": "code",
   "execution_count": 87,
   "metadata": {
    "ExecuteTime": {
     "end_time": "2021-02-11T14:07:24.910130Z",
     "start_time": "2021-02-11T14:07:24.898969Z"
    }
   },
   "outputs": [
    {
     "data": {
      "text/plain": [
       "[<a class=\"sister\" href=\"http://example.com/elsie\" id=\"link1\">Elsie</a>,\n",
       " <a class=\"sister\" href=\"http://example.com/lacie\" id=\"link2\">Lacie</a>,\n",
       " <a class=\"sister\" href=\"http://example.com/tillie\" id=\"link3\">Tillie</a>]"
      ]
     },
     "execution_count": 87,
     "metadata": {},
     "output_type": "execute_result"
    }
   ],
   "source": [
    "soup.find_all(\"a\")\n",
    "soup(\"a\")"
   ]
  },
  {
   "cell_type": "code",
   "execution_count": null,
   "metadata": {},
   "outputs": [],
   "source": []
  }
 ],
 "metadata": {
  "kernelspec": {
   "display_name": "Python 3",
   "language": "python",
   "name": "python3"
  },
  "language_info": {
   "codemirror_mode": {
    "name": "ipython",
    "version": 3
   },
   "file_extension": ".py",
   "mimetype": "text/x-python",
   "name": "python",
   "nbconvert_exporter": "python",
   "pygments_lexer": "ipython3",
   "version": "3.8.5"
  }
 },
 "nbformat": 4,
 "nbformat_minor": 4
}
